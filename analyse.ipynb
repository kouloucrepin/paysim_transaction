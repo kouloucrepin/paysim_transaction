{
 "cells": [
  {
   "cell_type": "code",
   "execution_count": 1,
   "metadata": {},
   "outputs": [],
   "source": [
    "import pandas as pd\n",
    "import plotly.express as px\n",
    "\n",
    "config={\"modeBarButtonsToRemove\":[\"pan2d\",\"select2d\",\"lasso2d\",\"zoom2d\",\"zoomOut2d\",\"zoomIn2d\",\"resetScale2d\"]}"
   ]
  },
  {
   "cell_type": "code",
   "execution_count": 3,
   "metadata": {},
   "outputs": [
    {
     "data": {
      "application/vnd.plotly.v1+json": {
       "config": {
        "plotlyServerURL": "https://plot.ly"
       },
       "data": [
        {
         "hovertemplate": "<b>Jour:  %{x}</b><br><b>Nombre de Transaction : %{y:.0f}</b>",
         "legendgroup": "",
         "line": {
          "color": "blue",
          "dash": "solid"
         },
         "marker": {
          "symbol": "circle"
         },
         "mode": "lines",
         "name": "",
         "orientation": "v",
         "showlegend": false,
         "type": "scatter",
         "x": [
          1,
          2,
          3,
          4,
          5,
          6,
          7,
          8,
          9,
          10,
          11,
          12,
          13,
          14,
          15,
          16,
          17,
          18,
          19,
          20,
          21,
          22,
          23,
          24,
          25,
          26,
          27,
          28,
          29,
          30,
          31
         ],
         "xaxis": "x",
         "y": [
          571039,
          452761,
          6749,
          21904,
          12995,
          440626,
          420282,
          449147,
          418103,
          392886,
          418006,
          349800,
          429335,
          398210,
          400706,
          375514,
          421098,
          29251,
          11286,
          19739,
          24589,
          52510,
          50432,
          33349,
          58712,
          13893,
          8574,
          14522,
          55037,
          11283,
          282
         ],
         "yaxis": "y"
        }
       ],
       "layout": {
        "height": 150,
        "legend": {
         "tracegroupgap": 0
        },
        "margin": {
         "b": 0,
         "l": 0,
         "r": 0,
         "t": 20
        },
        "paper_bgcolor": "#4F4F4F",
        "plot_bgcolor": "#4F4F4F",
        "template": {
         "data": {
          "bar": [
           {
            "error_x": {
             "color": "#2a3f5f"
            },
            "error_y": {
             "color": "#2a3f5f"
            },
            "marker": {
             "line": {
              "color": "#E5ECF6",
              "width": 0.5
             },
             "pattern": {
              "fillmode": "overlay",
              "size": 10,
              "solidity": 0.2
             }
            },
            "type": "bar"
           }
          ],
          "barpolar": [
           {
            "marker": {
             "line": {
              "color": "#E5ECF6",
              "width": 0.5
             },
             "pattern": {
              "fillmode": "overlay",
              "size": 10,
              "solidity": 0.2
             }
            },
            "type": "barpolar"
           }
          ],
          "carpet": [
           {
            "aaxis": {
             "endlinecolor": "#2a3f5f",
             "gridcolor": "white",
             "linecolor": "white",
             "minorgridcolor": "white",
             "startlinecolor": "#2a3f5f"
            },
            "baxis": {
             "endlinecolor": "#2a3f5f",
             "gridcolor": "white",
             "linecolor": "white",
             "minorgridcolor": "white",
             "startlinecolor": "#2a3f5f"
            },
            "type": "carpet"
           }
          ],
          "choropleth": [
           {
            "colorbar": {
             "outlinewidth": 0,
             "ticks": ""
            },
            "type": "choropleth"
           }
          ],
          "contour": [
           {
            "colorbar": {
             "outlinewidth": 0,
             "ticks": ""
            },
            "colorscale": [
             [
              0,
              "#0d0887"
             ],
             [
              0.1111111111111111,
              "#46039f"
             ],
             [
              0.2222222222222222,
              "#7201a8"
             ],
             [
              0.3333333333333333,
              "#9c179e"
             ],
             [
              0.4444444444444444,
              "#bd3786"
             ],
             [
              0.5555555555555556,
              "#d8576b"
             ],
             [
              0.6666666666666666,
              "#ed7953"
             ],
             [
              0.7777777777777778,
              "#fb9f3a"
             ],
             [
              0.8888888888888888,
              "#fdca26"
             ],
             [
              1,
              "#f0f921"
             ]
            ],
            "type": "contour"
           }
          ],
          "contourcarpet": [
           {
            "colorbar": {
             "outlinewidth": 0,
             "ticks": ""
            },
            "type": "contourcarpet"
           }
          ],
          "heatmap": [
           {
            "colorbar": {
             "outlinewidth": 0,
             "ticks": ""
            },
            "colorscale": [
             [
              0,
              "#0d0887"
             ],
             [
              0.1111111111111111,
              "#46039f"
             ],
             [
              0.2222222222222222,
              "#7201a8"
             ],
             [
              0.3333333333333333,
              "#9c179e"
             ],
             [
              0.4444444444444444,
              "#bd3786"
             ],
             [
              0.5555555555555556,
              "#d8576b"
             ],
             [
              0.6666666666666666,
              "#ed7953"
             ],
             [
              0.7777777777777778,
              "#fb9f3a"
             ],
             [
              0.8888888888888888,
              "#fdca26"
             ],
             [
              1,
              "#f0f921"
             ]
            ],
            "type": "heatmap"
           }
          ],
          "heatmapgl": [
           {
            "colorbar": {
             "outlinewidth": 0,
             "ticks": ""
            },
            "colorscale": [
             [
              0,
              "#0d0887"
             ],
             [
              0.1111111111111111,
              "#46039f"
             ],
             [
              0.2222222222222222,
              "#7201a8"
             ],
             [
              0.3333333333333333,
              "#9c179e"
             ],
             [
              0.4444444444444444,
              "#bd3786"
             ],
             [
              0.5555555555555556,
              "#d8576b"
             ],
             [
              0.6666666666666666,
              "#ed7953"
             ],
             [
              0.7777777777777778,
              "#fb9f3a"
             ],
             [
              0.8888888888888888,
              "#fdca26"
             ],
             [
              1,
              "#f0f921"
             ]
            ],
            "type": "heatmapgl"
           }
          ],
          "histogram": [
           {
            "marker": {
             "pattern": {
              "fillmode": "overlay",
              "size": 10,
              "solidity": 0.2
             }
            },
            "type": "histogram"
           }
          ],
          "histogram2d": [
           {
            "colorbar": {
             "outlinewidth": 0,
             "ticks": ""
            },
            "colorscale": [
             [
              0,
              "#0d0887"
             ],
             [
              0.1111111111111111,
              "#46039f"
             ],
             [
              0.2222222222222222,
              "#7201a8"
             ],
             [
              0.3333333333333333,
              "#9c179e"
             ],
             [
              0.4444444444444444,
              "#bd3786"
             ],
             [
              0.5555555555555556,
              "#d8576b"
             ],
             [
              0.6666666666666666,
              "#ed7953"
             ],
             [
              0.7777777777777778,
              "#fb9f3a"
             ],
             [
              0.8888888888888888,
              "#fdca26"
             ],
             [
              1,
              "#f0f921"
             ]
            ],
            "type": "histogram2d"
           }
          ],
          "histogram2dcontour": [
           {
            "colorbar": {
             "outlinewidth": 0,
             "ticks": ""
            },
            "colorscale": [
             [
              0,
              "#0d0887"
             ],
             [
              0.1111111111111111,
              "#46039f"
             ],
             [
              0.2222222222222222,
              "#7201a8"
             ],
             [
              0.3333333333333333,
              "#9c179e"
             ],
             [
              0.4444444444444444,
              "#bd3786"
             ],
             [
              0.5555555555555556,
              "#d8576b"
             ],
             [
              0.6666666666666666,
              "#ed7953"
             ],
             [
              0.7777777777777778,
              "#fb9f3a"
             ],
             [
              0.8888888888888888,
              "#fdca26"
             ],
             [
              1,
              "#f0f921"
             ]
            ],
            "type": "histogram2dcontour"
           }
          ],
          "mesh3d": [
           {
            "colorbar": {
             "outlinewidth": 0,
             "ticks": ""
            },
            "type": "mesh3d"
           }
          ],
          "parcoords": [
           {
            "line": {
             "colorbar": {
              "outlinewidth": 0,
              "ticks": ""
             }
            },
            "type": "parcoords"
           }
          ],
          "pie": [
           {
            "automargin": true,
            "type": "pie"
           }
          ],
          "scatter": [
           {
            "fillpattern": {
             "fillmode": "overlay",
             "size": 10,
             "solidity": 0.2
            },
            "type": "scatter"
           }
          ],
          "scatter3d": [
           {
            "line": {
             "colorbar": {
              "outlinewidth": 0,
              "ticks": ""
             }
            },
            "marker": {
             "colorbar": {
              "outlinewidth": 0,
              "ticks": ""
             }
            },
            "type": "scatter3d"
           }
          ],
          "scattercarpet": [
           {
            "marker": {
             "colorbar": {
              "outlinewidth": 0,
              "ticks": ""
             }
            },
            "type": "scattercarpet"
           }
          ],
          "scattergeo": [
           {
            "marker": {
             "colorbar": {
              "outlinewidth": 0,
              "ticks": ""
             }
            },
            "type": "scattergeo"
           }
          ],
          "scattergl": [
           {
            "marker": {
             "colorbar": {
              "outlinewidth": 0,
              "ticks": ""
             }
            },
            "type": "scattergl"
           }
          ],
          "scattermapbox": [
           {
            "marker": {
             "colorbar": {
              "outlinewidth": 0,
              "ticks": ""
             }
            },
            "type": "scattermapbox"
           }
          ],
          "scatterpolar": [
           {
            "marker": {
             "colorbar": {
              "outlinewidth": 0,
              "ticks": ""
             }
            },
            "type": "scatterpolar"
           }
          ],
          "scatterpolargl": [
           {
            "marker": {
             "colorbar": {
              "outlinewidth": 0,
              "ticks": ""
             }
            },
            "type": "scatterpolargl"
           }
          ],
          "scatterternary": [
           {
            "marker": {
             "colorbar": {
              "outlinewidth": 0,
              "ticks": ""
             }
            },
            "type": "scatterternary"
           }
          ],
          "surface": [
           {
            "colorbar": {
             "outlinewidth": 0,
             "ticks": ""
            },
            "colorscale": [
             [
              0,
              "#0d0887"
             ],
             [
              0.1111111111111111,
              "#46039f"
             ],
             [
              0.2222222222222222,
              "#7201a8"
             ],
             [
              0.3333333333333333,
              "#9c179e"
             ],
             [
              0.4444444444444444,
              "#bd3786"
             ],
             [
              0.5555555555555556,
              "#d8576b"
             ],
             [
              0.6666666666666666,
              "#ed7953"
             ],
             [
              0.7777777777777778,
              "#fb9f3a"
             ],
             [
              0.8888888888888888,
              "#fdca26"
             ],
             [
              1,
              "#f0f921"
             ]
            ],
            "type": "surface"
           }
          ],
          "table": [
           {
            "cells": {
             "fill": {
              "color": "#EBF0F8"
             },
             "line": {
              "color": "white"
             }
            },
            "header": {
             "fill": {
              "color": "#C8D4E3"
             },
             "line": {
              "color": "white"
             }
            },
            "type": "table"
           }
          ]
         },
         "layout": {
          "annotationdefaults": {
           "arrowcolor": "#2a3f5f",
           "arrowhead": 0,
           "arrowwidth": 1
          },
          "autotypenumbers": "strict",
          "coloraxis": {
           "colorbar": {
            "outlinewidth": 0,
            "ticks": ""
           }
          },
          "colorscale": {
           "diverging": [
            [
             0,
             "#8e0152"
            ],
            [
             0.1,
             "#c51b7d"
            ],
            [
             0.2,
             "#de77ae"
            ],
            [
             0.3,
             "#f1b6da"
            ],
            [
             0.4,
             "#fde0ef"
            ],
            [
             0.5,
             "#f7f7f7"
            ],
            [
             0.6,
             "#e6f5d0"
            ],
            [
             0.7,
             "#b8e186"
            ],
            [
             0.8,
             "#7fbc41"
            ],
            [
             0.9,
             "#4d9221"
            ],
            [
             1,
             "#276419"
            ]
           ],
           "sequential": [
            [
             0,
             "#0d0887"
            ],
            [
             0.1111111111111111,
             "#46039f"
            ],
            [
             0.2222222222222222,
             "#7201a8"
            ],
            [
             0.3333333333333333,
             "#9c179e"
            ],
            [
             0.4444444444444444,
             "#bd3786"
            ],
            [
             0.5555555555555556,
             "#d8576b"
            ],
            [
             0.6666666666666666,
             "#ed7953"
            ],
            [
             0.7777777777777778,
             "#fb9f3a"
            ],
            [
             0.8888888888888888,
             "#fdca26"
            ],
            [
             1,
             "#f0f921"
            ]
           ],
           "sequentialminus": [
            [
             0,
             "#0d0887"
            ],
            [
             0.1111111111111111,
             "#46039f"
            ],
            [
             0.2222222222222222,
             "#7201a8"
            ],
            [
             0.3333333333333333,
             "#9c179e"
            ],
            [
             0.4444444444444444,
             "#bd3786"
            ],
            [
             0.5555555555555556,
             "#d8576b"
            ],
            [
             0.6666666666666666,
             "#ed7953"
            ],
            [
             0.7777777777777778,
             "#fb9f3a"
            ],
            [
             0.8888888888888888,
             "#fdca26"
            ],
            [
             1,
             "#f0f921"
            ]
           ]
          },
          "colorway": [
           "#636efa",
           "#EF553B",
           "#00cc96",
           "#ab63fa",
           "#FFA15A",
           "#19d3f3",
           "#FF6692",
           "#B6E880",
           "#FF97FF",
           "#FECB52"
          ],
          "font": {
           "color": "#2a3f5f"
          },
          "geo": {
           "bgcolor": "white",
           "lakecolor": "white",
           "landcolor": "#E5ECF6",
           "showlakes": true,
           "showland": true,
           "subunitcolor": "white"
          },
          "hoverlabel": {
           "align": "left"
          },
          "hovermode": "closest",
          "mapbox": {
           "style": "light"
          },
          "paper_bgcolor": "white",
          "plot_bgcolor": "#E5ECF6",
          "polar": {
           "angularaxis": {
            "gridcolor": "white",
            "linecolor": "white",
            "ticks": ""
           },
           "bgcolor": "#E5ECF6",
           "radialaxis": {
            "gridcolor": "white",
            "linecolor": "white",
            "ticks": ""
           }
          },
          "scene": {
           "xaxis": {
            "backgroundcolor": "#E5ECF6",
            "gridcolor": "white",
            "gridwidth": 2,
            "linecolor": "white",
            "showbackground": true,
            "ticks": "",
            "zerolinecolor": "white"
           },
           "yaxis": {
            "backgroundcolor": "#E5ECF6",
            "gridcolor": "white",
            "gridwidth": 2,
            "linecolor": "white",
            "showbackground": true,
            "ticks": "",
            "zerolinecolor": "white"
           },
           "zaxis": {
            "backgroundcolor": "#E5ECF6",
            "gridcolor": "white",
            "gridwidth": 2,
            "linecolor": "white",
            "showbackground": true,
            "ticks": "",
            "zerolinecolor": "white"
           }
          },
          "shapedefaults": {
           "line": {
            "color": "#2a3f5f"
           }
          },
          "ternary": {
           "aaxis": {
            "gridcolor": "white",
            "linecolor": "white",
            "ticks": ""
           },
           "baxis": {
            "gridcolor": "white",
            "linecolor": "white",
            "ticks": ""
           },
           "bgcolor": "#E5ECF6",
           "caxis": {
            "gridcolor": "white",
            "linecolor": "white",
            "ticks": ""
           }
          },
          "title": {
           "x": 0.05
          },
          "xaxis": {
           "automargin": true,
           "gridcolor": "white",
           "linecolor": "white",
           "ticks": "",
           "title": {
            "standoff": 15
           },
           "zerolinecolor": "white",
           "zerolinewidth": 2
          },
          "yaxis": {
           "automargin": true,
           "gridcolor": "white",
           "linecolor": "white",
           "ticks": "",
           "title": {
            "standoff": 15
           },
           "zerolinecolor": "white",
           "zerolinewidth": 2
          }
         }
        },
        "title": {
         "font": {
          "color": "white",
          "size": 14
         },
         "text": "Evolution du nombre de transaction"
        },
        "width": 350,
        "xaxis": {
         "anchor": "y",
         "color": "#4F4F4F",
         "domain": [
          0,
          1
         ],
         "showgrid": false,
         "showline": false,
         "showticklabels": false,
         "title": {
          "text": ""
         },
         "zeroline": false
        },
        "yaxis": {
         "anchor": "x",
         "color": "#4F4F4F",
         "domain": [
          0,
          1
         ],
         "showgrid": false,
         "showline": false,
         "showticklabels": false,
         "title": {
          "text": ""
         },
         "zeroline": false
        }
       }
      }
     },
     "metadata": {},
     "output_type": "display_data"
    }
   ],
   "source": [
    "Nb_transaction_jour = pd.read_csv('data/J_vs_T.csv', index_col=0)\n",
    "\n",
    "def retourne_information_transaction(Nb_transaction_jour=Nb_transaction_jour):\n",
    "    Total_transaction = Nb_transaction_jour['Total Transaction'].sum()\n",
    "    height = 150\n",
    "    width = 350\n",
    "    col=\"#4F4F4F\"\n",
    "    fig = px.line(Nb_transaction_jour, x='jour de la simulation', y='Total Transaction')\n",
    "    fig.update_layout(margin=dict(t=20,l=0,r=0,b=0),\n",
    "                        xaxis=dict(showgrid=False,color=col,title=\"\",showticklabels=False,showline=False,zeroline=False),\n",
    "                        yaxis=dict(showgrid=False,color=col,title=\"\",showticklabels=False,showline=False,zeroline=False),\n",
    "                        paper_bgcolor=col,plot_bgcolor=col,height=height,width=width,\n",
    "                        title={'text':'Evolution du nombre de transaction', 'font': {'size': 14, 'color': 'white'}},)\n",
    "    fig.update_traces(line=dict(color='blue'))\n",
    "    fig.update_traces(\n",
    "    hovertemplate='<b>Jour:  %{x}</b><br><b>Nombre de Transaction : %{y:.0f}</b>'  # Format de l'affichage\n",
    "    )\n",
    "\n",
    "    return \"{:,.0f}\".format(Total_transaction).replace(\",\", \" \"), fig,'Total transaction'\n",
    "\n",
    "\n",
    "retourne_information_transaction()[1].show()"
   ]
  },
  {
   "cell_type": "code",
   "execution_count": 4,
   "metadata": {},
   "outputs": [
    {
     "data": {
      "application/vnd.plotly.v1+json": {
       "config": {
        "plotlyServerURL": "https://plot.ly"
       },
       "data": [
        {
         "hovertemplate": "<b>Jour:  %{x}</b><br><b>Nombre de fraude : %{y}</b>",
         "legendgroup": "",
         "line": {
          "color": "blue",
          "dash": "solid"
         },
         "marker": {
          "symbol": "circle"
         },
         "mode": "lines",
         "name": "",
         "orientation": "v",
         "showlegend": false,
         "type": "scatter",
         "x": [
          1,
          2,
          3,
          4,
          5,
          6,
          7,
          8,
          9,
          10,
          11,
          12,
          13,
          14,
          15,
          16,
          17,
          18,
          19,
          20,
          21,
          22,
          23,
          24,
          25,
          26,
          27,
          28,
          29,
          30,
          31
         ],
         "xaxis": "x",
         "y": [
          265,
          305,
          306,
          272,
          244,
          230,
          280,
          270,
          259,
          274,
          268,
          296,
          242,
          238,
          260,
          254,
          316,
          274,
          242,
          248,
          268,
          252,
          220,
          276,
          236,
          280,
          276,
          254,
          262,
          264,
          282
         ],
         "yaxis": "y"
        }
       ],
       "layout": {
        "height": 150,
        "legend": {
         "tracegroupgap": 0
        },
        "margin": {
         "b": 0,
         "l": 0,
         "r": 0,
         "t": 20
        },
        "paper_bgcolor": "#4F4F4F",
        "plot_bgcolor": "#4F4F4F",
        "template": {
         "data": {
          "bar": [
           {
            "error_x": {
             "color": "#2a3f5f"
            },
            "error_y": {
             "color": "#2a3f5f"
            },
            "marker": {
             "line": {
              "color": "#E5ECF6",
              "width": 0.5
             },
             "pattern": {
              "fillmode": "overlay",
              "size": 10,
              "solidity": 0.2
             }
            },
            "type": "bar"
           }
          ],
          "barpolar": [
           {
            "marker": {
             "line": {
              "color": "#E5ECF6",
              "width": 0.5
             },
             "pattern": {
              "fillmode": "overlay",
              "size": 10,
              "solidity": 0.2
             }
            },
            "type": "barpolar"
           }
          ],
          "carpet": [
           {
            "aaxis": {
             "endlinecolor": "#2a3f5f",
             "gridcolor": "white",
             "linecolor": "white",
             "minorgridcolor": "white",
             "startlinecolor": "#2a3f5f"
            },
            "baxis": {
             "endlinecolor": "#2a3f5f",
             "gridcolor": "white",
             "linecolor": "white",
             "minorgridcolor": "white",
             "startlinecolor": "#2a3f5f"
            },
            "type": "carpet"
           }
          ],
          "choropleth": [
           {
            "colorbar": {
             "outlinewidth": 0,
             "ticks": ""
            },
            "type": "choropleth"
           }
          ],
          "contour": [
           {
            "colorbar": {
             "outlinewidth": 0,
             "ticks": ""
            },
            "colorscale": [
             [
              0,
              "#0d0887"
             ],
             [
              0.1111111111111111,
              "#46039f"
             ],
             [
              0.2222222222222222,
              "#7201a8"
             ],
             [
              0.3333333333333333,
              "#9c179e"
             ],
             [
              0.4444444444444444,
              "#bd3786"
             ],
             [
              0.5555555555555556,
              "#d8576b"
             ],
             [
              0.6666666666666666,
              "#ed7953"
             ],
             [
              0.7777777777777778,
              "#fb9f3a"
             ],
             [
              0.8888888888888888,
              "#fdca26"
             ],
             [
              1,
              "#f0f921"
             ]
            ],
            "type": "contour"
           }
          ],
          "contourcarpet": [
           {
            "colorbar": {
             "outlinewidth": 0,
             "ticks": ""
            },
            "type": "contourcarpet"
           }
          ],
          "heatmap": [
           {
            "colorbar": {
             "outlinewidth": 0,
             "ticks": ""
            },
            "colorscale": [
             [
              0,
              "#0d0887"
             ],
             [
              0.1111111111111111,
              "#46039f"
             ],
             [
              0.2222222222222222,
              "#7201a8"
             ],
             [
              0.3333333333333333,
              "#9c179e"
             ],
             [
              0.4444444444444444,
              "#bd3786"
             ],
             [
              0.5555555555555556,
              "#d8576b"
             ],
             [
              0.6666666666666666,
              "#ed7953"
             ],
             [
              0.7777777777777778,
              "#fb9f3a"
             ],
             [
              0.8888888888888888,
              "#fdca26"
             ],
             [
              1,
              "#f0f921"
             ]
            ],
            "type": "heatmap"
           }
          ],
          "heatmapgl": [
           {
            "colorbar": {
             "outlinewidth": 0,
             "ticks": ""
            },
            "colorscale": [
             [
              0,
              "#0d0887"
             ],
             [
              0.1111111111111111,
              "#46039f"
             ],
             [
              0.2222222222222222,
              "#7201a8"
             ],
             [
              0.3333333333333333,
              "#9c179e"
             ],
             [
              0.4444444444444444,
              "#bd3786"
             ],
             [
              0.5555555555555556,
              "#d8576b"
             ],
             [
              0.6666666666666666,
              "#ed7953"
             ],
             [
              0.7777777777777778,
              "#fb9f3a"
             ],
             [
              0.8888888888888888,
              "#fdca26"
             ],
             [
              1,
              "#f0f921"
             ]
            ],
            "type": "heatmapgl"
           }
          ],
          "histogram": [
           {
            "marker": {
             "pattern": {
              "fillmode": "overlay",
              "size": 10,
              "solidity": 0.2
             }
            },
            "type": "histogram"
           }
          ],
          "histogram2d": [
           {
            "colorbar": {
             "outlinewidth": 0,
             "ticks": ""
            },
            "colorscale": [
             [
              0,
              "#0d0887"
             ],
             [
              0.1111111111111111,
              "#46039f"
             ],
             [
              0.2222222222222222,
              "#7201a8"
             ],
             [
              0.3333333333333333,
              "#9c179e"
             ],
             [
              0.4444444444444444,
              "#bd3786"
             ],
             [
              0.5555555555555556,
              "#d8576b"
             ],
             [
              0.6666666666666666,
              "#ed7953"
             ],
             [
              0.7777777777777778,
              "#fb9f3a"
             ],
             [
              0.8888888888888888,
              "#fdca26"
             ],
             [
              1,
              "#f0f921"
             ]
            ],
            "type": "histogram2d"
           }
          ],
          "histogram2dcontour": [
           {
            "colorbar": {
             "outlinewidth": 0,
             "ticks": ""
            },
            "colorscale": [
             [
              0,
              "#0d0887"
             ],
             [
              0.1111111111111111,
              "#46039f"
             ],
             [
              0.2222222222222222,
              "#7201a8"
             ],
             [
              0.3333333333333333,
              "#9c179e"
             ],
             [
              0.4444444444444444,
              "#bd3786"
             ],
             [
              0.5555555555555556,
              "#d8576b"
             ],
             [
              0.6666666666666666,
              "#ed7953"
             ],
             [
              0.7777777777777778,
              "#fb9f3a"
             ],
             [
              0.8888888888888888,
              "#fdca26"
             ],
             [
              1,
              "#f0f921"
             ]
            ],
            "type": "histogram2dcontour"
           }
          ],
          "mesh3d": [
           {
            "colorbar": {
             "outlinewidth": 0,
             "ticks": ""
            },
            "type": "mesh3d"
           }
          ],
          "parcoords": [
           {
            "line": {
             "colorbar": {
              "outlinewidth": 0,
              "ticks": ""
             }
            },
            "type": "parcoords"
           }
          ],
          "pie": [
           {
            "automargin": true,
            "type": "pie"
           }
          ],
          "scatter": [
           {
            "fillpattern": {
             "fillmode": "overlay",
             "size": 10,
             "solidity": 0.2
            },
            "type": "scatter"
           }
          ],
          "scatter3d": [
           {
            "line": {
             "colorbar": {
              "outlinewidth": 0,
              "ticks": ""
             }
            },
            "marker": {
             "colorbar": {
              "outlinewidth": 0,
              "ticks": ""
             }
            },
            "type": "scatter3d"
           }
          ],
          "scattercarpet": [
           {
            "marker": {
             "colorbar": {
              "outlinewidth": 0,
              "ticks": ""
             }
            },
            "type": "scattercarpet"
           }
          ],
          "scattergeo": [
           {
            "marker": {
             "colorbar": {
              "outlinewidth": 0,
              "ticks": ""
             }
            },
            "type": "scattergeo"
           }
          ],
          "scattergl": [
           {
            "marker": {
             "colorbar": {
              "outlinewidth": 0,
              "ticks": ""
             }
            },
            "type": "scattergl"
           }
          ],
          "scattermapbox": [
           {
            "marker": {
             "colorbar": {
              "outlinewidth": 0,
              "ticks": ""
             }
            },
            "type": "scattermapbox"
           }
          ],
          "scatterpolar": [
           {
            "marker": {
             "colorbar": {
              "outlinewidth": 0,
              "ticks": ""
             }
            },
            "type": "scatterpolar"
           }
          ],
          "scatterpolargl": [
           {
            "marker": {
             "colorbar": {
              "outlinewidth": 0,
              "ticks": ""
             }
            },
            "type": "scatterpolargl"
           }
          ],
          "scatterternary": [
           {
            "marker": {
             "colorbar": {
              "outlinewidth": 0,
              "ticks": ""
             }
            },
            "type": "scatterternary"
           }
          ],
          "surface": [
           {
            "colorbar": {
             "outlinewidth": 0,
             "ticks": ""
            },
            "colorscale": [
             [
              0,
              "#0d0887"
             ],
             [
              0.1111111111111111,
              "#46039f"
             ],
             [
              0.2222222222222222,
              "#7201a8"
             ],
             [
              0.3333333333333333,
              "#9c179e"
             ],
             [
              0.4444444444444444,
              "#bd3786"
             ],
             [
              0.5555555555555556,
              "#d8576b"
             ],
             [
              0.6666666666666666,
              "#ed7953"
             ],
             [
              0.7777777777777778,
              "#fb9f3a"
             ],
             [
              0.8888888888888888,
              "#fdca26"
             ],
             [
              1,
              "#f0f921"
             ]
            ],
            "type": "surface"
           }
          ],
          "table": [
           {
            "cells": {
             "fill": {
              "color": "#EBF0F8"
             },
             "line": {
              "color": "white"
             }
            },
            "header": {
             "fill": {
              "color": "#C8D4E3"
             },
             "line": {
              "color": "white"
             }
            },
            "type": "table"
           }
          ]
         },
         "layout": {
          "annotationdefaults": {
           "arrowcolor": "#2a3f5f",
           "arrowhead": 0,
           "arrowwidth": 1
          },
          "autotypenumbers": "strict",
          "coloraxis": {
           "colorbar": {
            "outlinewidth": 0,
            "ticks": ""
           }
          },
          "colorscale": {
           "diverging": [
            [
             0,
             "#8e0152"
            ],
            [
             0.1,
             "#c51b7d"
            ],
            [
             0.2,
             "#de77ae"
            ],
            [
             0.3,
             "#f1b6da"
            ],
            [
             0.4,
             "#fde0ef"
            ],
            [
             0.5,
             "#f7f7f7"
            ],
            [
             0.6,
             "#e6f5d0"
            ],
            [
             0.7,
             "#b8e186"
            ],
            [
             0.8,
             "#7fbc41"
            ],
            [
             0.9,
             "#4d9221"
            ],
            [
             1,
             "#276419"
            ]
           ],
           "sequential": [
            [
             0,
             "#0d0887"
            ],
            [
             0.1111111111111111,
             "#46039f"
            ],
            [
             0.2222222222222222,
             "#7201a8"
            ],
            [
             0.3333333333333333,
             "#9c179e"
            ],
            [
             0.4444444444444444,
             "#bd3786"
            ],
            [
             0.5555555555555556,
             "#d8576b"
            ],
            [
             0.6666666666666666,
             "#ed7953"
            ],
            [
             0.7777777777777778,
             "#fb9f3a"
            ],
            [
             0.8888888888888888,
             "#fdca26"
            ],
            [
             1,
             "#f0f921"
            ]
           ],
           "sequentialminus": [
            [
             0,
             "#0d0887"
            ],
            [
             0.1111111111111111,
             "#46039f"
            ],
            [
             0.2222222222222222,
             "#7201a8"
            ],
            [
             0.3333333333333333,
             "#9c179e"
            ],
            [
             0.4444444444444444,
             "#bd3786"
            ],
            [
             0.5555555555555556,
             "#d8576b"
            ],
            [
             0.6666666666666666,
             "#ed7953"
            ],
            [
             0.7777777777777778,
             "#fb9f3a"
            ],
            [
             0.8888888888888888,
             "#fdca26"
            ],
            [
             1,
             "#f0f921"
            ]
           ]
          },
          "colorway": [
           "#636efa",
           "#EF553B",
           "#00cc96",
           "#ab63fa",
           "#FFA15A",
           "#19d3f3",
           "#FF6692",
           "#B6E880",
           "#FF97FF",
           "#FECB52"
          ],
          "font": {
           "color": "#2a3f5f"
          },
          "geo": {
           "bgcolor": "white",
           "lakecolor": "white",
           "landcolor": "#E5ECF6",
           "showlakes": true,
           "showland": true,
           "subunitcolor": "white"
          },
          "hoverlabel": {
           "align": "left"
          },
          "hovermode": "closest",
          "mapbox": {
           "style": "light"
          },
          "paper_bgcolor": "white",
          "plot_bgcolor": "#E5ECF6",
          "polar": {
           "angularaxis": {
            "gridcolor": "white",
            "linecolor": "white",
            "ticks": ""
           },
           "bgcolor": "#E5ECF6",
           "radialaxis": {
            "gridcolor": "white",
            "linecolor": "white",
            "ticks": ""
           }
          },
          "scene": {
           "xaxis": {
            "backgroundcolor": "#E5ECF6",
            "gridcolor": "white",
            "gridwidth": 2,
            "linecolor": "white",
            "showbackground": true,
            "ticks": "",
            "zerolinecolor": "white"
           },
           "yaxis": {
            "backgroundcolor": "#E5ECF6",
            "gridcolor": "white",
            "gridwidth": 2,
            "linecolor": "white",
            "showbackground": true,
            "ticks": "",
            "zerolinecolor": "white"
           },
           "zaxis": {
            "backgroundcolor": "#E5ECF6",
            "gridcolor": "white",
            "gridwidth": 2,
            "linecolor": "white",
            "showbackground": true,
            "ticks": "",
            "zerolinecolor": "white"
           }
          },
          "shapedefaults": {
           "line": {
            "color": "#2a3f5f"
           }
          },
          "ternary": {
           "aaxis": {
            "gridcolor": "white",
            "linecolor": "white",
            "ticks": ""
           },
           "baxis": {
            "gridcolor": "white",
            "linecolor": "white",
            "ticks": ""
           },
           "bgcolor": "#E5ECF6",
           "caxis": {
            "gridcolor": "white",
            "linecolor": "white",
            "ticks": ""
           }
          },
          "title": {
           "x": 0.05
          },
          "xaxis": {
           "automargin": true,
           "gridcolor": "white",
           "linecolor": "white",
           "ticks": "",
           "title": {
            "standoff": 15
           },
           "zerolinecolor": "white",
           "zerolinewidth": 2
          },
          "yaxis": {
           "automargin": true,
           "gridcolor": "white",
           "linecolor": "white",
           "ticks": "",
           "title": {
            "standoff": 15
           },
           "zerolinecolor": "white",
           "zerolinewidth": 2
          }
         }
        },
        "title": {
         "font": {
          "color": "white",
          "size": 14
         },
         "text": "Evolution du nombre de Fraude"
        },
        "width": 350,
        "xaxis": {
         "anchor": "y",
         "color": "#4F4F4F",
         "domain": [
          0,
          1
         ],
         "showgrid": false,
         "showline": false,
         "showticklabels": false,
         "title": {
          "text": ""
         },
         "zeroline": false
        },
        "yaxis": {
         "anchor": "x",
         "color": "#4F4F4F",
         "domain": [
          0,
          1
         ],
         "showgrid": false,
         "showline": false,
         "showticklabels": false,
         "title": {
          "text": ""
         },
         "zeroline": false
        }
       }
      }
     },
     "metadata": {},
     "output_type": "display_data"
    },
    {
     "data": {
      "text/plain": [
       "('8 213', None, 'Total Fraude')"
      ]
     },
     "execution_count": 4,
     "metadata": {},
     "output_type": "execute_result"
    }
   ],
   "source": [
    "Nb_fraud_jour = pd.read_csv('data/fraud_count_by_date.csv')\n",
    "\n",
    "def retourne_information_fraude(Nb_fraud_jour=Nb_fraud_jour):\n",
    "    Total_Frauduleux =  Nb_fraud_jour['count'].sum()\n",
    "    height = 150\n",
    "    width = 350\n",
    "    col=\"#4F4F4F\"\n",
    "    fig = px.line(Nb_fraud_jour, x='jour_du_mois', y='count')\n",
    "    fig.update_layout(margin=dict(t=20,l=0,r=0,b=0),\n",
    "                        xaxis=dict(showgrid=False,color=col,title=\"\",showticklabels=False,showline=False,zeroline=False),\n",
    "                        yaxis=dict(showgrid=False,color=col,title=\"\",showticklabels=False,showline=False,zeroline=False),\n",
    "                        paper_bgcolor=col,plot_bgcolor=col,height=height,width=width,\n",
    "                        title={'text':'Evolution du nombre de Fraude', 'font': {'size': 14, 'color': 'white'}},)\n",
    "    fig.update_traces(line=dict(color='blue'))\n",
    "    fig.update_traces(\n",
    "        hovertemplate='<b>Jour:  %{x}</b><br><b>Nombre de fraude : %{y}</b>'  # Format de l'affichage\n",
    "    )\n",
    "    \n",
    "    return \"{:,.0f}\".format(Total_Frauduleux).replace(\",\", \" \"), fig.show(),'Total Fraude'\n",
    "\n",
    "\n",
    "retourne_information_fraude()"
   ]
  },
  {
   "cell_type": "code",
   "execution_count": 5,
   "metadata": {},
   "outputs": [
    {
     "data": {
      "application/vnd.plotly.v1+json": {
       "config": {
        "plotlyServerURL": "https://plot.ly"
       },
       "data": [
        {
         "hovertemplate": "<b>Jour:  %{x}</b><br><b>Nombre de transaction(>200 000) : %{y}</b>",
         "legendgroup": "",
         "line": {
          "color": "blue",
          "dash": "solid"
         },
         "marker": {
          "symbol": "circle"
         },
         "mode": "lines",
         "name": "",
         "orientation": "v",
         "showlegend": false,
         "type": "scatter",
         "x": [
          9,
          11,
          12,
          17,
          18,
          24,
          25,
          26,
          27,
          28,
          30,
          31
         ],
         "xaxis": "x",
         "y": [
          1,
          1,
          1,
          1,
          2,
          1,
          1,
          1,
          2,
          1,
          1,
          3
         ],
         "yaxis": "y"
        }
       ],
       "layout": {
        "height": 150,
        "legend": {
         "tracegroupgap": 0
        },
        "margin": {
         "b": 0,
         "l": 0,
         "r": 0,
         "t": 20
        },
        "paper_bgcolor": "#4F4F4F",
        "plot_bgcolor": "#4F4F4F",
        "template": {
         "data": {
          "bar": [
           {
            "error_x": {
             "color": "#2a3f5f"
            },
            "error_y": {
             "color": "#2a3f5f"
            },
            "marker": {
             "line": {
              "color": "#E5ECF6",
              "width": 0.5
             },
             "pattern": {
              "fillmode": "overlay",
              "size": 10,
              "solidity": 0.2
             }
            },
            "type": "bar"
           }
          ],
          "barpolar": [
           {
            "marker": {
             "line": {
              "color": "#E5ECF6",
              "width": 0.5
             },
             "pattern": {
              "fillmode": "overlay",
              "size": 10,
              "solidity": 0.2
             }
            },
            "type": "barpolar"
           }
          ],
          "carpet": [
           {
            "aaxis": {
             "endlinecolor": "#2a3f5f",
             "gridcolor": "white",
             "linecolor": "white",
             "minorgridcolor": "white",
             "startlinecolor": "#2a3f5f"
            },
            "baxis": {
             "endlinecolor": "#2a3f5f",
             "gridcolor": "white",
             "linecolor": "white",
             "minorgridcolor": "white",
             "startlinecolor": "#2a3f5f"
            },
            "type": "carpet"
           }
          ],
          "choropleth": [
           {
            "colorbar": {
             "outlinewidth": 0,
             "ticks": ""
            },
            "type": "choropleth"
           }
          ],
          "contour": [
           {
            "colorbar": {
             "outlinewidth": 0,
             "ticks": ""
            },
            "colorscale": [
             [
              0,
              "#0d0887"
             ],
             [
              0.1111111111111111,
              "#46039f"
             ],
             [
              0.2222222222222222,
              "#7201a8"
             ],
             [
              0.3333333333333333,
              "#9c179e"
             ],
             [
              0.4444444444444444,
              "#bd3786"
             ],
             [
              0.5555555555555556,
              "#d8576b"
             ],
             [
              0.6666666666666666,
              "#ed7953"
             ],
             [
              0.7777777777777778,
              "#fb9f3a"
             ],
             [
              0.8888888888888888,
              "#fdca26"
             ],
             [
              1,
              "#f0f921"
             ]
            ],
            "type": "contour"
           }
          ],
          "contourcarpet": [
           {
            "colorbar": {
             "outlinewidth": 0,
             "ticks": ""
            },
            "type": "contourcarpet"
           }
          ],
          "heatmap": [
           {
            "colorbar": {
             "outlinewidth": 0,
             "ticks": ""
            },
            "colorscale": [
             [
              0,
              "#0d0887"
             ],
             [
              0.1111111111111111,
              "#46039f"
             ],
             [
              0.2222222222222222,
              "#7201a8"
             ],
             [
              0.3333333333333333,
              "#9c179e"
             ],
             [
              0.4444444444444444,
              "#bd3786"
             ],
             [
              0.5555555555555556,
              "#d8576b"
             ],
             [
              0.6666666666666666,
              "#ed7953"
             ],
             [
              0.7777777777777778,
              "#fb9f3a"
             ],
             [
              0.8888888888888888,
              "#fdca26"
             ],
             [
              1,
              "#f0f921"
             ]
            ],
            "type": "heatmap"
           }
          ],
          "heatmapgl": [
           {
            "colorbar": {
             "outlinewidth": 0,
             "ticks": ""
            },
            "colorscale": [
             [
              0,
              "#0d0887"
             ],
             [
              0.1111111111111111,
              "#46039f"
             ],
             [
              0.2222222222222222,
              "#7201a8"
             ],
             [
              0.3333333333333333,
              "#9c179e"
             ],
             [
              0.4444444444444444,
              "#bd3786"
             ],
             [
              0.5555555555555556,
              "#d8576b"
             ],
             [
              0.6666666666666666,
              "#ed7953"
             ],
             [
              0.7777777777777778,
              "#fb9f3a"
             ],
             [
              0.8888888888888888,
              "#fdca26"
             ],
             [
              1,
              "#f0f921"
             ]
            ],
            "type": "heatmapgl"
           }
          ],
          "histogram": [
           {
            "marker": {
             "pattern": {
              "fillmode": "overlay",
              "size": 10,
              "solidity": 0.2
             }
            },
            "type": "histogram"
           }
          ],
          "histogram2d": [
           {
            "colorbar": {
             "outlinewidth": 0,
             "ticks": ""
            },
            "colorscale": [
             [
              0,
              "#0d0887"
             ],
             [
              0.1111111111111111,
              "#46039f"
             ],
             [
              0.2222222222222222,
              "#7201a8"
             ],
             [
              0.3333333333333333,
              "#9c179e"
             ],
             [
              0.4444444444444444,
              "#bd3786"
             ],
             [
              0.5555555555555556,
              "#d8576b"
             ],
             [
              0.6666666666666666,
              "#ed7953"
             ],
             [
              0.7777777777777778,
              "#fb9f3a"
             ],
             [
              0.8888888888888888,
              "#fdca26"
             ],
             [
              1,
              "#f0f921"
             ]
            ],
            "type": "histogram2d"
           }
          ],
          "histogram2dcontour": [
           {
            "colorbar": {
             "outlinewidth": 0,
             "ticks": ""
            },
            "colorscale": [
             [
              0,
              "#0d0887"
             ],
             [
              0.1111111111111111,
              "#46039f"
             ],
             [
              0.2222222222222222,
              "#7201a8"
             ],
             [
              0.3333333333333333,
              "#9c179e"
             ],
             [
              0.4444444444444444,
              "#bd3786"
             ],
             [
              0.5555555555555556,
              "#d8576b"
             ],
             [
              0.6666666666666666,
              "#ed7953"
             ],
             [
              0.7777777777777778,
              "#fb9f3a"
             ],
             [
              0.8888888888888888,
              "#fdca26"
             ],
             [
              1,
              "#f0f921"
             ]
            ],
            "type": "histogram2dcontour"
           }
          ],
          "mesh3d": [
           {
            "colorbar": {
             "outlinewidth": 0,
             "ticks": ""
            },
            "type": "mesh3d"
           }
          ],
          "parcoords": [
           {
            "line": {
             "colorbar": {
              "outlinewidth": 0,
              "ticks": ""
             }
            },
            "type": "parcoords"
           }
          ],
          "pie": [
           {
            "automargin": true,
            "type": "pie"
           }
          ],
          "scatter": [
           {
            "fillpattern": {
             "fillmode": "overlay",
             "size": 10,
             "solidity": 0.2
            },
            "type": "scatter"
           }
          ],
          "scatter3d": [
           {
            "line": {
             "colorbar": {
              "outlinewidth": 0,
              "ticks": ""
             }
            },
            "marker": {
             "colorbar": {
              "outlinewidth": 0,
              "ticks": ""
             }
            },
            "type": "scatter3d"
           }
          ],
          "scattercarpet": [
           {
            "marker": {
             "colorbar": {
              "outlinewidth": 0,
              "ticks": ""
             }
            },
            "type": "scattercarpet"
           }
          ],
          "scattergeo": [
           {
            "marker": {
             "colorbar": {
              "outlinewidth": 0,
              "ticks": ""
             }
            },
            "type": "scattergeo"
           }
          ],
          "scattergl": [
           {
            "marker": {
             "colorbar": {
              "outlinewidth": 0,
              "ticks": ""
             }
            },
            "type": "scattergl"
           }
          ],
          "scattermapbox": [
           {
            "marker": {
             "colorbar": {
              "outlinewidth": 0,
              "ticks": ""
             }
            },
            "type": "scattermapbox"
           }
          ],
          "scatterpolar": [
           {
            "marker": {
             "colorbar": {
              "outlinewidth": 0,
              "ticks": ""
             }
            },
            "type": "scatterpolar"
           }
          ],
          "scatterpolargl": [
           {
            "marker": {
             "colorbar": {
              "outlinewidth": 0,
              "ticks": ""
             }
            },
            "type": "scatterpolargl"
           }
          ],
          "scatterternary": [
           {
            "marker": {
             "colorbar": {
              "outlinewidth": 0,
              "ticks": ""
             }
            },
            "type": "scatterternary"
           }
          ],
          "surface": [
           {
            "colorbar": {
             "outlinewidth": 0,
             "ticks": ""
            },
            "colorscale": [
             [
              0,
              "#0d0887"
             ],
             [
              0.1111111111111111,
              "#46039f"
             ],
             [
              0.2222222222222222,
              "#7201a8"
             ],
             [
              0.3333333333333333,
              "#9c179e"
             ],
             [
              0.4444444444444444,
              "#bd3786"
             ],
             [
              0.5555555555555556,
              "#d8576b"
             ],
             [
              0.6666666666666666,
              "#ed7953"
             ],
             [
              0.7777777777777778,
              "#fb9f3a"
             ],
             [
              0.8888888888888888,
              "#fdca26"
             ],
             [
              1,
              "#f0f921"
             ]
            ],
            "type": "surface"
           }
          ],
          "table": [
           {
            "cells": {
             "fill": {
              "color": "#EBF0F8"
             },
             "line": {
              "color": "white"
             }
            },
            "header": {
             "fill": {
              "color": "#C8D4E3"
             },
             "line": {
              "color": "white"
             }
            },
            "type": "table"
           }
          ]
         },
         "layout": {
          "annotationdefaults": {
           "arrowcolor": "#2a3f5f",
           "arrowhead": 0,
           "arrowwidth": 1
          },
          "autotypenumbers": "strict",
          "coloraxis": {
           "colorbar": {
            "outlinewidth": 0,
            "ticks": ""
           }
          },
          "colorscale": {
           "diverging": [
            [
             0,
             "#8e0152"
            ],
            [
             0.1,
             "#c51b7d"
            ],
            [
             0.2,
             "#de77ae"
            ],
            [
             0.3,
             "#f1b6da"
            ],
            [
             0.4,
             "#fde0ef"
            ],
            [
             0.5,
             "#f7f7f7"
            ],
            [
             0.6,
             "#e6f5d0"
            ],
            [
             0.7,
             "#b8e186"
            ],
            [
             0.8,
             "#7fbc41"
            ],
            [
             0.9,
             "#4d9221"
            ],
            [
             1,
             "#276419"
            ]
           ],
           "sequential": [
            [
             0,
             "#0d0887"
            ],
            [
             0.1111111111111111,
             "#46039f"
            ],
            [
             0.2222222222222222,
             "#7201a8"
            ],
            [
             0.3333333333333333,
             "#9c179e"
            ],
            [
             0.4444444444444444,
             "#bd3786"
            ],
            [
             0.5555555555555556,
             "#d8576b"
            ],
            [
             0.6666666666666666,
             "#ed7953"
            ],
            [
             0.7777777777777778,
             "#fb9f3a"
            ],
            [
             0.8888888888888888,
             "#fdca26"
            ],
            [
             1,
             "#f0f921"
            ]
           ],
           "sequentialminus": [
            [
             0,
             "#0d0887"
            ],
            [
             0.1111111111111111,
             "#46039f"
            ],
            [
             0.2222222222222222,
             "#7201a8"
            ],
            [
             0.3333333333333333,
             "#9c179e"
            ],
            [
             0.4444444444444444,
             "#bd3786"
            ],
            [
             0.5555555555555556,
             "#d8576b"
            ],
            [
             0.6666666666666666,
             "#ed7953"
            ],
            [
             0.7777777777777778,
             "#fb9f3a"
            ],
            [
             0.8888888888888888,
             "#fdca26"
            ],
            [
             1,
             "#f0f921"
            ]
           ]
          },
          "colorway": [
           "#636efa",
           "#EF553B",
           "#00cc96",
           "#ab63fa",
           "#FFA15A",
           "#19d3f3",
           "#FF6692",
           "#B6E880",
           "#FF97FF",
           "#FECB52"
          ],
          "font": {
           "color": "#2a3f5f"
          },
          "geo": {
           "bgcolor": "white",
           "lakecolor": "white",
           "landcolor": "#E5ECF6",
           "showlakes": true,
           "showland": true,
           "subunitcolor": "white"
          },
          "hoverlabel": {
           "align": "left"
          },
          "hovermode": "closest",
          "mapbox": {
           "style": "light"
          },
          "paper_bgcolor": "white",
          "plot_bgcolor": "#E5ECF6",
          "polar": {
           "angularaxis": {
            "gridcolor": "white",
            "linecolor": "white",
            "ticks": ""
           },
           "bgcolor": "#E5ECF6",
           "radialaxis": {
            "gridcolor": "white",
            "linecolor": "white",
            "ticks": ""
           }
          },
          "scene": {
           "xaxis": {
            "backgroundcolor": "#E5ECF6",
            "gridcolor": "white",
            "gridwidth": 2,
            "linecolor": "white",
            "showbackground": true,
            "ticks": "",
            "zerolinecolor": "white"
           },
           "yaxis": {
            "backgroundcolor": "#E5ECF6",
            "gridcolor": "white",
            "gridwidth": 2,
            "linecolor": "white",
            "showbackground": true,
            "ticks": "",
            "zerolinecolor": "white"
           },
           "zaxis": {
            "backgroundcolor": "#E5ECF6",
            "gridcolor": "white",
            "gridwidth": 2,
            "linecolor": "white",
            "showbackground": true,
            "ticks": "",
            "zerolinecolor": "white"
           }
          },
          "shapedefaults": {
           "line": {
            "color": "#2a3f5f"
           }
          },
          "ternary": {
           "aaxis": {
            "gridcolor": "white",
            "linecolor": "white",
            "ticks": ""
           },
           "baxis": {
            "gridcolor": "white",
            "linecolor": "white",
            "ticks": ""
           },
           "bgcolor": "#E5ECF6",
           "caxis": {
            "gridcolor": "white",
            "linecolor": "white",
            "ticks": ""
           }
          },
          "title": {
           "x": 0.05
          },
          "xaxis": {
           "automargin": true,
           "gridcolor": "white",
           "linecolor": "white",
           "ticks": "",
           "title": {
            "standoff": 15
           },
           "zerolinecolor": "white",
           "zerolinewidth": 2
          },
          "yaxis": {
           "automargin": true,
           "gridcolor": "white",
           "linecolor": "white",
           "ticks": "",
           "title": {
            "standoff": 15
           },
           "zerolinecolor": "white",
           "zerolinewidth": 2
          }
         }
        },
        "title": {
         "font": {
          "color": "white",
          "size": 14
         },
         "text": "Evolution du nombre de transaction(>200 000)"
        },
        "width": 350,
        "xaxis": {
         "anchor": "y",
         "color": "#4F4F4F",
         "domain": [
          0,
          1
         ],
         "showgrid": false,
         "showline": false,
         "showticklabels": false,
         "title": {
          "text": ""
         },
         "zeroline": false
        },
        "yaxis": {
         "anchor": "x",
         "color": "#4F4F4F",
         "domain": [
          0,
          1
         ],
         "showgrid": false,
         "showline": false,
         "showticklabels": false,
         "title": {
          "text": ""
         },
         "zeroline": false
        }
       }
      }
     },
     "metadata": {},
     "output_type": "display_data"
    },
    {
     "data": {
      "text/plain": [
       "(16, None, 'Total Suspect(T>200 000)')"
      ]
     },
     "execution_count": 5,
     "metadata": {},
     "output_type": "execute_result"
    }
   ],
   "source": [
    "Nb_suspect_jour = pd.read_csv('data/Tsuspect_count_date.csv',index_col=0).sort_values(by='jour_du_mois')\n",
    "Nb_suspect_jour \n",
    "\n",
    "def retourne_information_suspect(Nb_suspect_jour=Nb_suspect_jour):\n",
    "    Total_suspect =  Nb_suspect_jour['count'].sum()\n",
    "    height = 150\n",
    "    width = 350\n",
    "    col=\"#4F4F4F\"\n",
    "    fig = px.line(Nb_suspect_jour, x='jour_du_mois', y='count')\n",
    "    fig.update_layout(margin=dict(t=20,l=0,r=0,b=0),\n",
    "                        xaxis=dict(showgrid=False,color=col,title=\"\",showticklabels=False,showline=False,zeroline=False),\n",
    "                        yaxis=dict(showgrid=False,color=col,title=\"\",showticklabels=False,showline=False,zeroline=False),\n",
    "                        paper_bgcolor=col,plot_bgcolor=col,height=height,width=width,\n",
    "                        title={'text':'Evolution du nombre de transaction(>200 000)', 'font': {'size': 14, 'color': 'white'}},)\n",
    "    fig.update_traces(line=dict(color='blue'))\n",
    "    fig.update_traces(\n",
    "        hovertemplate='<b>Jour:  %{x}</b><br><b>Nombre de transaction(>200 000) : %{y}</b>'  # Format de l'affichage\n",
    "    )\n",
    "    \n",
    "    return Total_suspect, fig.show(),'Total Suspect(T>200 000)'\n",
    "\n",
    "\n",
    "retourne_information_suspect()\n",
    "\n"
   ]
  },
  {
   "cell_type": "code",
   "execution_count": 6,
   "metadata": {},
   "outputs": [
    {
     "data": {
      "application/vnd.plotly.v1+json": {
       "config": {
        "plotlyServerURL": "https://plot.ly"
       },
       "data": [
        {
         "hovertemplate": "<b>Jour:  %{x}</b><br><b>Total Montant Frauduleux : %{y:.0f}</b>",
         "legendgroup": "",
         "line": {
          "color": "blue",
          "dash": "solid"
         },
         "marker": {
          "symbol": "circle"
         },
         "mode": "lines",
         "name": "",
         "orientation": "v",
         "showlegend": false,
         "type": "scatter",
         "x": [
          1,
          2,
          3,
          4,
          5,
          6,
          7,
          8,
          9,
          10,
          11,
          12,
          13,
          14,
          15,
          16,
          17,
          18,
          19,
          20,
          21,
          22,
          23,
          24,
          25,
          26,
          27,
          28,
          29,
          30,
          31
         ],
         "xaxis": "x",
         "y": [
          208593773.78930664,
          366307309.11816406,
          350162909.25668335,
          461559676.0727539,
          275020434.6972656,
          366718261.0263672,
          393773951.9570313,
          358711572.3676758,
          389350234.0356445,
          364992685.5350647,
          425587593.9916992,
          429005930.22698975,
          394714741.7597656,
          288667744.89398193,
          406113876.0941391,
          334425388.1105041,
          633637150.7578125,
          548977422.1588135,
          432893769.1813965,
          306688035.0988769,
          381128362.74316406,
          409684021.3310547,
          225615979.7783203,
          329355065.6687012,
          280474800.14697266,
          404444306.3769531,
          457345981.3153076,
          369817904.2653351,
          515175675.94750977,
          497767394.4814453,
          449703481.36120605
         ],
         "yaxis": "y"
        }
       ],
       "layout": {
        "height": 150,
        "legend": {
         "tracegroupgap": 0
        },
        "margin": {
         "b": 0,
         "l": 0,
         "r": 0,
         "t": 20
        },
        "paper_bgcolor": "#4F4F4F",
        "plot_bgcolor": "#4F4F4F",
        "template": {
         "data": {
          "bar": [
           {
            "error_x": {
             "color": "#2a3f5f"
            },
            "error_y": {
             "color": "#2a3f5f"
            },
            "marker": {
             "line": {
              "color": "#E5ECF6",
              "width": 0.5
             },
             "pattern": {
              "fillmode": "overlay",
              "size": 10,
              "solidity": 0.2
             }
            },
            "type": "bar"
           }
          ],
          "barpolar": [
           {
            "marker": {
             "line": {
              "color": "#E5ECF6",
              "width": 0.5
             },
             "pattern": {
              "fillmode": "overlay",
              "size": 10,
              "solidity": 0.2
             }
            },
            "type": "barpolar"
           }
          ],
          "carpet": [
           {
            "aaxis": {
             "endlinecolor": "#2a3f5f",
             "gridcolor": "white",
             "linecolor": "white",
             "minorgridcolor": "white",
             "startlinecolor": "#2a3f5f"
            },
            "baxis": {
             "endlinecolor": "#2a3f5f",
             "gridcolor": "white",
             "linecolor": "white",
             "minorgridcolor": "white",
             "startlinecolor": "#2a3f5f"
            },
            "type": "carpet"
           }
          ],
          "choropleth": [
           {
            "colorbar": {
             "outlinewidth": 0,
             "ticks": ""
            },
            "type": "choropleth"
           }
          ],
          "contour": [
           {
            "colorbar": {
             "outlinewidth": 0,
             "ticks": ""
            },
            "colorscale": [
             [
              0,
              "#0d0887"
             ],
             [
              0.1111111111111111,
              "#46039f"
             ],
             [
              0.2222222222222222,
              "#7201a8"
             ],
             [
              0.3333333333333333,
              "#9c179e"
             ],
             [
              0.4444444444444444,
              "#bd3786"
             ],
             [
              0.5555555555555556,
              "#d8576b"
             ],
             [
              0.6666666666666666,
              "#ed7953"
             ],
             [
              0.7777777777777778,
              "#fb9f3a"
             ],
             [
              0.8888888888888888,
              "#fdca26"
             ],
             [
              1,
              "#f0f921"
             ]
            ],
            "type": "contour"
           }
          ],
          "contourcarpet": [
           {
            "colorbar": {
             "outlinewidth": 0,
             "ticks": ""
            },
            "type": "contourcarpet"
           }
          ],
          "heatmap": [
           {
            "colorbar": {
             "outlinewidth": 0,
             "ticks": ""
            },
            "colorscale": [
             [
              0,
              "#0d0887"
             ],
             [
              0.1111111111111111,
              "#46039f"
             ],
             [
              0.2222222222222222,
              "#7201a8"
             ],
             [
              0.3333333333333333,
              "#9c179e"
             ],
             [
              0.4444444444444444,
              "#bd3786"
             ],
             [
              0.5555555555555556,
              "#d8576b"
             ],
             [
              0.6666666666666666,
              "#ed7953"
             ],
             [
              0.7777777777777778,
              "#fb9f3a"
             ],
             [
              0.8888888888888888,
              "#fdca26"
             ],
             [
              1,
              "#f0f921"
             ]
            ],
            "type": "heatmap"
           }
          ],
          "heatmapgl": [
           {
            "colorbar": {
             "outlinewidth": 0,
             "ticks": ""
            },
            "colorscale": [
             [
              0,
              "#0d0887"
             ],
             [
              0.1111111111111111,
              "#46039f"
             ],
             [
              0.2222222222222222,
              "#7201a8"
             ],
             [
              0.3333333333333333,
              "#9c179e"
             ],
             [
              0.4444444444444444,
              "#bd3786"
             ],
             [
              0.5555555555555556,
              "#d8576b"
             ],
             [
              0.6666666666666666,
              "#ed7953"
             ],
             [
              0.7777777777777778,
              "#fb9f3a"
             ],
             [
              0.8888888888888888,
              "#fdca26"
             ],
             [
              1,
              "#f0f921"
             ]
            ],
            "type": "heatmapgl"
           }
          ],
          "histogram": [
           {
            "marker": {
             "pattern": {
              "fillmode": "overlay",
              "size": 10,
              "solidity": 0.2
             }
            },
            "type": "histogram"
           }
          ],
          "histogram2d": [
           {
            "colorbar": {
             "outlinewidth": 0,
             "ticks": ""
            },
            "colorscale": [
             [
              0,
              "#0d0887"
             ],
             [
              0.1111111111111111,
              "#46039f"
             ],
             [
              0.2222222222222222,
              "#7201a8"
             ],
             [
              0.3333333333333333,
              "#9c179e"
             ],
             [
              0.4444444444444444,
              "#bd3786"
             ],
             [
              0.5555555555555556,
              "#d8576b"
             ],
             [
              0.6666666666666666,
              "#ed7953"
             ],
             [
              0.7777777777777778,
              "#fb9f3a"
             ],
             [
              0.8888888888888888,
              "#fdca26"
             ],
             [
              1,
              "#f0f921"
             ]
            ],
            "type": "histogram2d"
           }
          ],
          "histogram2dcontour": [
           {
            "colorbar": {
             "outlinewidth": 0,
             "ticks": ""
            },
            "colorscale": [
             [
              0,
              "#0d0887"
             ],
             [
              0.1111111111111111,
              "#46039f"
             ],
             [
              0.2222222222222222,
              "#7201a8"
             ],
             [
              0.3333333333333333,
              "#9c179e"
             ],
             [
              0.4444444444444444,
              "#bd3786"
             ],
             [
              0.5555555555555556,
              "#d8576b"
             ],
             [
              0.6666666666666666,
              "#ed7953"
             ],
             [
              0.7777777777777778,
              "#fb9f3a"
             ],
             [
              0.8888888888888888,
              "#fdca26"
             ],
             [
              1,
              "#f0f921"
             ]
            ],
            "type": "histogram2dcontour"
           }
          ],
          "mesh3d": [
           {
            "colorbar": {
             "outlinewidth": 0,
             "ticks": ""
            },
            "type": "mesh3d"
           }
          ],
          "parcoords": [
           {
            "line": {
             "colorbar": {
              "outlinewidth": 0,
              "ticks": ""
             }
            },
            "type": "parcoords"
           }
          ],
          "pie": [
           {
            "automargin": true,
            "type": "pie"
           }
          ],
          "scatter": [
           {
            "fillpattern": {
             "fillmode": "overlay",
             "size": 10,
             "solidity": 0.2
            },
            "type": "scatter"
           }
          ],
          "scatter3d": [
           {
            "line": {
             "colorbar": {
              "outlinewidth": 0,
              "ticks": ""
             }
            },
            "marker": {
             "colorbar": {
              "outlinewidth": 0,
              "ticks": ""
             }
            },
            "type": "scatter3d"
           }
          ],
          "scattercarpet": [
           {
            "marker": {
             "colorbar": {
              "outlinewidth": 0,
              "ticks": ""
             }
            },
            "type": "scattercarpet"
           }
          ],
          "scattergeo": [
           {
            "marker": {
             "colorbar": {
              "outlinewidth": 0,
              "ticks": ""
             }
            },
            "type": "scattergeo"
           }
          ],
          "scattergl": [
           {
            "marker": {
             "colorbar": {
              "outlinewidth": 0,
              "ticks": ""
             }
            },
            "type": "scattergl"
           }
          ],
          "scattermapbox": [
           {
            "marker": {
             "colorbar": {
              "outlinewidth": 0,
              "ticks": ""
             }
            },
            "type": "scattermapbox"
           }
          ],
          "scatterpolar": [
           {
            "marker": {
             "colorbar": {
              "outlinewidth": 0,
              "ticks": ""
             }
            },
            "type": "scatterpolar"
           }
          ],
          "scatterpolargl": [
           {
            "marker": {
             "colorbar": {
              "outlinewidth": 0,
              "ticks": ""
             }
            },
            "type": "scatterpolargl"
           }
          ],
          "scatterternary": [
           {
            "marker": {
             "colorbar": {
              "outlinewidth": 0,
              "ticks": ""
             }
            },
            "type": "scatterternary"
           }
          ],
          "surface": [
           {
            "colorbar": {
             "outlinewidth": 0,
             "ticks": ""
            },
            "colorscale": [
             [
              0,
              "#0d0887"
             ],
             [
              0.1111111111111111,
              "#46039f"
             ],
             [
              0.2222222222222222,
              "#7201a8"
             ],
             [
              0.3333333333333333,
              "#9c179e"
             ],
             [
              0.4444444444444444,
              "#bd3786"
             ],
             [
              0.5555555555555556,
              "#d8576b"
             ],
             [
              0.6666666666666666,
              "#ed7953"
             ],
             [
              0.7777777777777778,
              "#fb9f3a"
             ],
             [
              0.8888888888888888,
              "#fdca26"
             ],
             [
              1,
              "#f0f921"
             ]
            ],
            "type": "surface"
           }
          ],
          "table": [
           {
            "cells": {
             "fill": {
              "color": "#EBF0F8"
             },
             "line": {
              "color": "white"
             }
            },
            "header": {
             "fill": {
              "color": "#C8D4E3"
             },
             "line": {
              "color": "white"
             }
            },
            "type": "table"
           }
          ]
         },
         "layout": {
          "annotationdefaults": {
           "arrowcolor": "#2a3f5f",
           "arrowhead": 0,
           "arrowwidth": 1
          },
          "autotypenumbers": "strict",
          "coloraxis": {
           "colorbar": {
            "outlinewidth": 0,
            "ticks": ""
           }
          },
          "colorscale": {
           "diverging": [
            [
             0,
             "#8e0152"
            ],
            [
             0.1,
             "#c51b7d"
            ],
            [
             0.2,
             "#de77ae"
            ],
            [
             0.3,
             "#f1b6da"
            ],
            [
             0.4,
             "#fde0ef"
            ],
            [
             0.5,
             "#f7f7f7"
            ],
            [
             0.6,
             "#e6f5d0"
            ],
            [
             0.7,
             "#b8e186"
            ],
            [
             0.8,
             "#7fbc41"
            ],
            [
             0.9,
             "#4d9221"
            ],
            [
             1,
             "#276419"
            ]
           ],
           "sequential": [
            [
             0,
             "#0d0887"
            ],
            [
             0.1111111111111111,
             "#46039f"
            ],
            [
             0.2222222222222222,
             "#7201a8"
            ],
            [
             0.3333333333333333,
             "#9c179e"
            ],
            [
             0.4444444444444444,
             "#bd3786"
            ],
            [
             0.5555555555555556,
             "#d8576b"
            ],
            [
             0.6666666666666666,
             "#ed7953"
            ],
            [
             0.7777777777777778,
             "#fb9f3a"
            ],
            [
             0.8888888888888888,
             "#fdca26"
            ],
            [
             1,
             "#f0f921"
            ]
           ],
           "sequentialminus": [
            [
             0,
             "#0d0887"
            ],
            [
             0.1111111111111111,
             "#46039f"
            ],
            [
             0.2222222222222222,
             "#7201a8"
            ],
            [
             0.3333333333333333,
             "#9c179e"
            ],
            [
             0.4444444444444444,
             "#bd3786"
            ],
            [
             0.5555555555555556,
             "#d8576b"
            ],
            [
             0.6666666666666666,
             "#ed7953"
            ],
            [
             0.7777777777777778,
             "#fb9f3a"
            ],
            [
             0.8888888888888888,
             "#fdca26"
            ],
            [
             1,
             "#f0f921"
            ]
           ]
          },
          "colorway": [
           "#636efa",
           "#EF553B",
           "#00cc96",
           "#ab63fa",
           "#FFA15A",
           "#19d3f3",
           "#FF6692",
           "#B6E880",
           "#FF97FF",
           "#FECB52"
          ],
          "font": {
           "color": "#2a3f5f"
          },
          "geo": {
           "bgcolor": "white",
           "lakecolor": "white",
           "landcolor": "#E5ECF6",
           "showlakes": true,
           "showland": true,
           "subunitcolor": "white"
          },
          "hoverlabel": {
           "align": "left"
          },
          "hovermode": "closest",
          "mapbox": {
           "style": "light"
          },
          "paper_bgcolor": "white",
          "plot_bgcolor": "#E5ECF6",
          "polar": {
           "angularaxis": {
            "gridcolor": "white",
            "linecolor": "white",
            "ticks": ""
           },
           "bgcolor": "#E5ECF6",
           "radialaxis": {
            "gridcolor": "white",
            "linecolor": "white",
            "ticks": ""
           }
          },
          "scene": {
           "xaxis": {
            "backgroundcolor": "#E5ECF6",
            "gridcolor": "white",
            "gridwidth": 2,
            "linecolor": "white",
            "showbackground": true,
            "ticks": "",
            "zerolinecolor": "white"
           },
           "yaxis": {
            "backgroundcolor": "#E5ECF6",
            "gridcolor": "white",
            "gridwidth": 2,
            "linecolor": "white",
            "showbackground": true,
            "ticks": "",
            "zerolinecolor": "white"
           },
           "zaxis": {
            "backgroundcolor": "#E5ECF6",
            "gridcolor": "white",
            "gridwidth": 2,
            "linecolor": "white",
            "showbackground": true,
            "ticks": "",
            "zerolinecolor": "white"
           }
          },
          "shapedefaults": {
           "line": {
            "color": "#2a3f5f"
           }
          },
          "ternary": {
           "aaxis": {
            "gridcolor": "white",
            "linecolor": "white",
            "ticks": ""
           },
           "baxis": {
            "gridcolor": "white",
            "linecolor": "white",
            "ticks": ""
           },
           "bgcolor": "#E5ECF6",
           "caxis": {
            "gridcolor": "white",
            "linecolor": "white",
            "ticks": ""
           }
          },
          "title": {
           "x": 0.05
          },
          "xaxis": {
           "automargin": true,
           "gridcolor": "white",
           "linecolor": "white",
           "ticks": "",
           "title": {
            "standoff": 15
           },
           "zerolinecolor": "white",
           "zerolinewidth": 2
          },
          "yaxis": {
           "automargin": true,
           "gridcolor": "white",
           "linecolor": "white",
           "ticks": "",
           "title": {
            "standoff": 15
           },
           "zerolinecolor": "white",
           "zerolinewidth": 2
          }
         }
        },
        "title": {
         "font": {
          "color": "white",
          "size": 14
         },
         "text": "Evolution du Total Montant Frauduleux"
        },
        "width": 350,
        "xaxis": {
         "anchor": "y",
         "color": "#4F4F4F",
         "domain": [
          0,
          1
         ],
         "showgrid": false,
         "showline": false,
         "showticklabels": false,
         "title": {
          "text": ""
         },
         "zeroline": false
        },
        "yaxis": {
         "anchor": "x",
         "color": "#4F4F4F",
         "domain": [
          0,
          1
         ],
         "showgrid": false,
         "showline": false,
         "showticklabels": false,
         "title": {
          "text": ""
         },
         "zeroline": false
        }
       }
      }
     },
     "metadata": {},
     "output_type": "display_data"
    },
    {
     "data": {
      "text/plain": [
       "('12 056 415 433.55', None, 'Total Montant Frauduleux')"
      ]
     },
     "execution_count": 6,
     "metadata": {},
     "output_type": "execute_result"
    }
   ],
   "source": [
    "tot_montant_fraud = pd.read_csv('data/tmontant_suspect_df_jour.csv',index_col=0).sort_values(by='jour_du_mois')\n",
    "tot_montant_fraud \n",
    "\n",
    "def retourne_information_suspect(tot_montant_fraud=tot_montant_fraud):\n",
    "    Total_suspect =  tot_montant_fraud['total_amount'].sum()\n",
    "    height = 150\n",
    "    width = 350\n",
    "    col=\"#4F4F4F\"\n",
    "    fig = px.line(tot_montant_fraud, x='jour_du_mois', y='total_amount')\n",
    "    fig.update_layout(margin=dict(t=20,l=0,r=0,b=0),\n",
    "                        xaxis=dict(showgrid=False,color=col,title=\"\",showticklabels=False,showline=False,zeroline=False),\n",
    "                        yaxis=dict(showgrid=False,color=col,title=\"\",showticklabels=False,showline=False,zeroline=False),\n",
    "                        paper_bgcolor=col,plot_bgcolor=col,height=height,width=width,\n",
    "                        title={'text':'Evolution du Total Montant Frauduleux', 'font': {'size': 14, 'color': 'white'}},)\n",
    "    fig.update_traces(line=dict(color='blue'))\n",
    "    fig.update_traces(\n",
    "        hovertemplate='<b>Jour:  %{x}</b><br><b>Total Montant Frauduleux : %{y:.0f}</b>'  # Format de l'affichage\n",
    "    )\n",
    "    \n",
    "    return  \"{:,.2f}\".format(Total_suspect).replace(\",\", \" \"), fig.show(),'Total Montant Frauduleux'\n",
    "\n",
    "\n",
    "retourne_information_suspect()"
   ]
  },
  {
   "cell_type": "code",
   "execution_count": 7,
   "metadata": {},
   "outputs": [
    {
     "data": {
      "application/vnd.plotly.v1+json": {
       "config": {
        "plotlyServerURL": "https://plot.ly"
       },
       "data": [
        {
         "hovertemplate": "type=CASH_IN<br>jour_du_mois=%{x}<br>count=%{y}<extra></extra>",
         "legendgroup": "CASH_IN",
         "line": {
          "color": "#636efa",
          "dash": "solid"
         },
         "marker": {
          "symbol": "circle"
         },
         "mode": "lines",
         "name": "CASH_IN",
         "orientation": "v",
         "showlegend": true,
         "type": "scatter",
         "x": [
          1,
          2,
          3,
          4,
          5,
          6,
          7,
          8,
          9,
          10,
          11,
          12,
          13,
          14,
          15,
          16,
          17,
          18,
          19,
          20,
          21,
          22,
          23,
          24,
          25,
          26,
          27,
          28,
          29,
          30
         ],
         "xaxis": "x",
         "y": [
          123531,
          99512,
          827,
          3982,
          1727,
          100088,
          93633,
          99767,
          89519,
          85742,
          91085,
          74584,
          95799,
          87343,
          89664,
          82511,
          92655,
          6485,
          2709,
          4366,
          5634,
          11846,
          11345,
          7609,
          13262,
          3289,
          2093,
          3539,
          12719,
          2419
         ],
         "yaxis": "y"
        },
        {
         "hovertemplate": "type=CASH_OUT<br>jour_du_mois=%{x}<br>count=%{y}<extra></extra>",
         "legendgroup": "CASH_OUT",
         "line": {
          "color": "#EF553B",
          "dash": "solid"
         },
         "marker": {
          "symbol": "circle"
         },
         "mode": "lines",
         "name": "CASH_OUT",
         "orientation": "v",
         "showlegend": true,
         "type": "scatter",
         "x": [
          1,
          2,
          3,
          4,
          5,
          6,
          7,
          8,
          9,
          10,
          11,
          12,
          13,
          14,
          15,
          16,
          17,
          18,
          19,
          20,
          21,
          22,
          23,
          24,
          25,
          26,
          27,
          28,
          29,
          30,
          31
         ],
         "xaxis": "x",
         "y": [
          203803,
          164323,
          1109,
          5127,
          2435,
          159462,
          151258,
          159366,
          147613,
          139101,
          148095,
          121494,
          151977,
          138734,
          139982,
          131602,
          151439,
          7571,
          3223,
          6197,
          7565,
          16621,
          16092,
          10745,
          19132,
          4218,
          2832,
          4205,
          17993,
          4045,
          141
         ],
         "yaxis": "y"
        },
        {
         "hovertemplate": "type=DEBIT<br>jour_du_mois=%{x}<br>count=%{y}<extra></extra>",
         "legendgroup": "DEBIT",
         "line": {
          "color": "#00cc96",
          "dash": "solid"
         },
         "marker": {
          "symbol": "circle"
         },
         "mode": "lines",
         "name": "DEBIT",
         "orientation": "v",
         "showlegend": true,
         "type": "scatter",
         "x": [
          1,
          2,
          3,
          4,
          5,
          6,
          7,
          8,
          9,
          10,
          11,
          12,
          13,
          14,
          15,
          16,
          17,
          18,
          19,
          20,
          21,
          22,
          23,
          24,
          25,
          26,
          27,
          28,
          29,
          30
         ],
         "xaxis": "x",
         "y": [
          4379,
          2489,
          136,
          222,
          234,
          2646,
          2568,
          2870,
          2132,
          2409,
          2063,
          2171,
          2634,
          2875,
          3289,
          2401,
          2758,
          399,
          66,
          138,
          112,
          494,
          416,
          203,
          505,
          110,
          30,
          94,
          464,
          125
         ],
         "yaxis": "y"
        },
        {
         "hovertemplate": "type=PAYMENT<br>jour_du_mois=%{x}<br>count=%{y}<extra></extra>",
         "legendgroup": "PAYMENT",
         "line": {
          "color": "#ab63fa",
          "dash": "solid"
         },
         "marker": {
          "symbol": "circle"
         },
         "mode": "lines",
         "name": "PAYMENT",
         "orientation": "v",
         "showlegend": true,
         "type": "scatter",
         "x": [
          1,
          2,
          3,
          4,
          5,
          6,
          7,
          8,
          9,
          10,
          11,
          12,
          13,
          14,
          15,
          16,
          17,
          18,
          19,
          20,
          21,
          22,
          23,
          24,
          25,
          26,
          27,
          28,
          29,
          30
         ],
         "xaxis": "x",
         "y": [
          192949,
          148372,
          3982,
          10555,
          7448,
          142163,
          138121,
          149577,
          144780,
          132950,
          142620,
          123718,
          142065,
          135353,
          134044,
          127394,
          139075,
          12231,
          4302,
          7081,
          8739,
          18815,
          17969,
          11655,
          20396,
          5028,
          2733,
          5209,
          18489,
          3682
         ],
         "yaxis": "y"
        },
        {
         "hovertemplate": "type=TRANSFER<br>jour_du_mois=%{x}<br>count=%{y}<extra></extra>",
         "legendgroup": "TRANSFER",
         "line": {
          "color": "#FFA15A",
          "dash": "solid"
         },
         "marker": {
          "symbol": "circle"
         },
         "mode": "lines",
         "name": "TRANSFER",
         "orientation": "v",
         "showlegend": true,
         "type": "scatter",
         "x": [
          1,
          2,
          3,
          4,
          5,
          6,
          7,
          8,
          9,
          10,
          11,
          12,
          13,
          14,
          15,
          16,
          17,
          18,
          19,
          20,
          21,
          22,
          23,
          24,
          25,
          26,
          27,
          28,
          29,
          30,
          31
         ],
         "xaxis": "x",
         "y": [
          46377,
          38065,
          695,
          2018,
          1151,
          36267,
          34702,
          37567,
          34059,
          32684,
          34143,
          27833,
          36860,
          33905,
          33727,
          31606,
          35171,
          2565,
          986,
          1957,
          2539,
          4734,
          4610,
          3137,
          5417,
          1248,
          886,
          1475,
          5372,
          1012,
          141
         ],
         "yaxis": "y"
        }
       ],
       "layout": {
        "height": 350,
        "legend": {
         "orientation": "h",
         "title": {
          "text": "type"
         },
         "tracegroupgap": 0,
         "x": 0.5,
         "xanchor": "center",
         "y": -0.2,
         "yanchor": "bottom"
        },
        "margin": {
         "b": 0,
         "l": 0,
         "r": 0,
         "t": 30
        },
        "paper_bgcolor": "white",
        "template": {
         "data": {
          "bar": [
           {
            "error_x": {
             "color": "#2a3f5f"
            },
            "error_y": {
             "color": "#2a3f5f"
            },
            "marker": {
             "line": {
              "color": "#E5ECF6",
              "width": 0.5
             },
             "pattern": {
              "fillmode": "overlay",
              "size": 10,
              "solidity": 0.2
             }
            },
            "type": "bar"
           }
          ],
          "barpolar": [
           {
            "marker": {
             "line": {
              "color": "#E5ECF6",
              "width": 0.5
             },
             "pattern": {
              "fillmode": "overlay",
              "size": 10,
              "solidity": 0.2
             }
            },
            "type": "barpolar"
           }
          ],
          "carpet": [
           {
            "aaxis": {
             "endlinecolor": "#2a3f5f",
             "gridcolor": "white",
             "linecolor": "white",
             "minorgridcolor": "white",
             "startlinecolor": "#2a3f5f"
            },
            "baxis": {
             "endlinecolor": "#2a3f5f",
             "gridcolor": "white",
             "linecolor": "white",
             "minorgridcolor": "white",
             "startlinecolor": "#2a3f5f"
            },
            "type": "carpet"
           }
          ],
          "choropleth": [
           {
            "colorbar": {
             "outlinewidth": 0,
             "ticks": ""
            },
            "type": "choropleth"
           }
          ],
          "contour": [
           {
            "colorbar": {
             "outlinewidth": 0,
             "ticks": ""
            },
            "colorscale": [
             [
              0,
              "#0d0887"
             ],
             [
              0.1111111111111111,
              "#46039f"
             ],
             [
              0.2222222222222222,
              "#7201a8"
             ],
             [
              0.3333333333333333,
              "#9c179e"
             ],
             [
              0.4444444444444444,
              "#bd3786"
             ],
             [
              0.5555555555555556,
              "#d8576b"
             ],
             [
              0.6666666666666666,
              "#ed7953"
             ],
             [
              0.7777777777777778,
              "#fb9f3a"
             ],
             [
              0.8888888888888888,
              "#fdca26"
             ],
             [
              1,
              "#f0f921"
             ]
            ],
            "type": "contour"
           }
          ],
          "contourcarpet": [
           {
            "colorbar": {
             "outlinewidth": 0,
             "ticks": ""
            },
            "type": "contourcarpet"
           }
          ],
          "heatmap": [
           {
            "colorbar": {
             "outlinewidth": 0,
             "ticks": ""
            },
            "colorscale": [
             [
              0,
              "#0d0887"
             ],
             [
              0.1111111111111111,
              "#46039f"
             ],
             [
              0.2222222222222222,
              "#7201a8"
             ],
             [
              0.3333333333333333,
              "#9c179e"
             ],
             [
              0.4444444444444444,
              "#bd3786"
             ],
             [
              0.5555555555555556,
              "#d8576b"
             ],
             [
              0.6666666666666666,
              "#ed7953"
             ],
             [
              0.7777777777777778,
              "#fb9f3a"
             ],
             [
              0.8888888888888888,
              "#fdca26"
             ],
             [
              1,
              "#f0f921"
             ]
            ],
            "type": "heatmap"
           }
          ],
          "heatmapgl": [
           {
            "colorbar": {
             "outlinewidth": 0,
             "ticks": ""
            },
            "colorscale": [
             [
              0,
              "#0d0887"
             ],
             [
              0.1111111111111111,
              "#46039f"
             ],
             [
              0.2222222222222222,
              "#7201a8"
             ],
             [
              0.3333333333333333,
              "#9c179e"
             ],
             [
              0.4444444444444444,
              "#bd3786"
             ],
             [
              0.5555555555555556,
              "#d8576b"
             ],
             [
              0.6666666666666666,
              "#ed7953"
             ],
             [
              0.7777777777777778,
              "#fb9f3a"
             ],
             [
              0.8888888888888888,
              "#fdca26"
             ],
             [
              1,
              "#f0f921"
             ]
            ],
            "type": "heatmapgl"
           }
          ],
          "histogram": [
           {
            "marker": {
             "pattern": {
              "fillmode": "overlay",
              "size": 10,
              "solidity": 0.2
             }
            },
            "type": "histogram"
           }
          ],
          "histogram2d": [
           {
            "colorbar": {
             "outlinewidth": 0,
             "ticks": ""
            },
            "colorscale": [
             [
              0,
              "#0d0887"
             ],
             [
              0.1111111111111111,
              "#46039f"
             ],
             [
              0.2222222222222222,
              "#7201a8"
             ],
             [
              0.3333333333333333,
              "#9c179e"
             ],
             [
              0.4444444444444444,
              "#bd3786"
             ],
             [
              0.5555555555555556,
              "#d8576b"
             ],
             [
              0.6666666666666666,
              "#ed7953"
             ],
             [
              0.7777777777777778,
              "#fb9f3a"
             ],
             [
              0.8888888888888888,
              "#fdca26"
             ],
             [
              1,
              "#f0f921"
             ]
            ],
            "type": "histogram2d"
           }
          ],
          "histogram2dcontour": [
           {
            "colorbar": {
             "outlinewidth": 0,
             "ticks": ""
            },
            "colorscale": [
             [
              0,
              "#0d0887"
             ],
             [
              0.1111111111111111,
              "#46039f"
             ],
             [
              0.2222222222222222,
              "#7201a8"
             ],
             [
              0.3333333333333333,
              "#9c179e"
             ],
             [
              0.4444444444444444,
              "#bd3786"
             ],
             [
              0.5555555555555556,
              "#d8576b"
             ],
             [
              0.6666666666666666,
              "#ed7953"
             ],
             [
              0.7777777777777778,
              "#fb9f3a"
             ],
             [
              0.8888888888888888,
              "#fdca26"
             ],
             [
              1,
              "#f0f921"
             ]
            ],
            "type": "histogram2dcontour"
           }
          ],
          "mesh3d": [
           {
            "colorbar": {
             "outlinewidth": 0,
             "ticks": ""
            },
            "type": "mesh3d"
           }
          ],
          "parcoords": [
           {
            "line": {
             "colorbar": {
              "outlinewidth": 0,
              "ticks": ""
             }
            },
            "type": "parcoords"
           }
          ],
          "pie": [
           {
            "automargin": true,
            "type": "pie"
           }
          ],
          "scatter": [
           {
            "fillpattern": {
             "fillmode": "overlay",
             "size": 10,
             "solidity": 0.2
            },
            "type": "scatter"
           }
          ],
          "scatter3d": [
           {
            "line": {
             "colorbar": {
              "outlinewidth": 0,
              "ticks": ""
             }
            },
            "marker": {
             "colorbar": {
              "outlinewidth": 0,
              "ticks": ""
             }
            },
            "type": "scatter3d"
           }
          ],
          "scattercarpet": [
           {
            "marker": {
             "colorbar": {
              "outlinewidth": 0,
              "ticks": ""
             }
            },
            "type": "scattercarpet"
           }
          ],
          "scattergeo": [
           {
            "marker": {
             "colorbar": {
              "outlinewidth": 0,
              "ticks": ""
             }
            },
            "type": "scattergeo"
           }
          ],
          "scattergl": [
           {
            "marker": {
             "colorbar": {
              "outlinewidth": 0,
              "ticks": ""
             }
            },
            "type": "scattergl"
           }
          ],
          "scattermapbox": [
           {
            "marker": {
             "colorbar": {
              "outlinewidth": 0,
              "ticks": ""
             }
            },
            "type": "scattermapbox"
           }
          ],
          "scatterpolar": [
           {
            "marker": {
             "colorbar": {
              "outlinewidth": 0,
              "ticks": ""
             }
            },
            "type": "scatterpolar"
           }
          ],
          "scatterpolargl": [
           {
            "marker": {
             "colorbar": {
              "outlinewidth": 0,
              "ticks": ""
             }
            },
            "type": "scatterpolargl"
           }
          ],
          "scatterternary": [
           {
            "marker": {
             "colorbar": {
              "outlinewidth": 0,
              "ticks": ""
             }
            },
            "type": "scatterternary"
           }
          ],
          "surface": [
           {
            "colorbar": {
             "outlinewidth": 0,
             "ticks": ""
            },
            "colorscale": [
             [
              0,
              "#0d0887"
             ],
             [
              0.1111111111111111,
              "#46039f"
             ],
             [
              0.2222222222222222,
              "#7201a8"
             ],
             [
              0.3333333333333333,
              "#9c179e"
             ],
             [
              0.4444444444444444,
              "#bd3786"
             ],
             [
              0.5555555555555556,
              "#d8576b"
             ],
             [
              0.6666666666666666,
              "#ed7953"
             ],
             [
              0.7777777777777778,
              "#fb9f3a"
             ],
             [
              0.8888888888888888,
              "#fdca26"
             ],
             [
              1,
              "#f0f921"
             ]
            ],
            "type": "surface"
           }
          ],
          "table": [
           {
            "cells": {
             "fill": {
              "color": "#EBF0F8"
             },
             "line": {
              "color": "white"
             }
            },
            "header": {
             "fill": {
              "color": "#C8D4E3"
             },
             "line": {
              "color": "white"
             }
            },
            "type": "table"
           }
          ]
         },
         "layout": {
          "annotationdefaults": {
           "arrowcolor": "#2a3f5f",
           "arrowhead": 0,
           "arrowwidth": 1
          },
          "autotypenumbers": "strict",
          "coloraxis": {
           "colorbar": {
            "outlinewidth": 0,
            "ticks": ""
           }
          },
          "colorscale": {
           "diverging": [
            [
             0,
             "#8e0152"
            ],
            [
             0.1,
             "#c51b7d"
            ],
            [
             0.2,
             "#de77ae"
            ],
            [
             0.3,
             "#f1b6da"
            ],
            [
             0.4,
             "#fde0ef"
            ],
            [
             0.5,
             "#f7f7f7"
            ],
            [
             0.6,
             "#e6f5d0"
            ],
            [
             0.7,
             "#b8e186"
            ],
            [
             0.8,
             "#7fbc41"
            ],
            [
             0.9,
             "#4d9221"
            ],
            [
             1,
             "#276419"
            ]
           ],
           "sequential": [
            [
             0,
             "#0d0887"
            ],
            [
             0.1111111111111111,
             "#46039f"
            ],
            [
             0.2222222222222222,
             "#7201a8"
            ],
            [
             0.3333333333333333,
             "#9c179e"
            ],
            [
             0.4444444444444444,
             "#bd3786"
            ],
            [
             0.5555555555555556,
             "#d8576b"
            ],
            [
             0.6666666666666666,
             "#ed7953"
            ],
            [
             0.7777777777777778,
             "#fb9f3a"
            ],
            [
             0.8888888888888888,
             "#fdca26"
            ],
            [
             1,
             "#f0f921"
            ]
           ],
           "sequentialminus": [
            [
             0,
             "#0d0887"
            ],
            [
             0.1111111111111111,
             "#46039f"
            ],
            [
             0.2222222222222222,
             "#7201a8"
            ],
            [
             0.3333333333333333,
             "#9c179e"
            ],
            [
             0.4444444444444444,
             "#bd3786"
            ],
            [
             0.5555555555555556,
             "#d8576b"
            ],
            [
             0.6666666666666666,
             "#ed7953"
            ],
            [
             0.7777777777777778,
             "#fb9f3a"
            ],
            [
             0.8888888888888888,
             "#fdca26"
            ],
            [
             1,
             "#f0f921"
            ]
           ]
          },
          "colorway": [
           "#636efa",
           "#EF553B",
           "#00cc96",
           "#ab63fa",
           "#FFA15A",
           "#19d3f3",
           "#FF6692",
           "#B6E880",
           "#FF97FF",
           "#FECB52"
          ],
          "font": {
           "color": "#2a3f5f"
          },
          "geo": {
           "bgcolor": "white",
           "lakecolor": "white",
           "landcolor": "#E5ECF6",
           "showlakes": true,
           "showland": true,
           "subunitcolor": "white"
          },
          "hoverlabel": {
           "align": "left"
          },
          "hovermode": "closest",
          "mapbox": {
           "style": "light"
          },
          "paper_bgcolor": "white",
          "plot_bgcolor": "#E5ECF6",
          "polar": {
           "angularaxis": {
            "gridcolor": "white",
            "linecolor": "white",
            "ticks": ""
           },
           "bgcolor": "#E5ECF6",
           "radialaxis": {
            "gridcolor": "white",
            "linecolor": "white",
            "ticks": ""
           }
          },
          "scene": {
           "xaxis": {
            "backgroundcolor": "#E5ECF6",
            "gridcolor": "white",
            "gridwidth": 2,
            "linecolor": "white",
            "showbackground": true,
            "ticks": "",
            "zerolinecolor": "white"
           },
           "yaxis": {
            "backgroundcolor": "#E5ECF6",
            "gridcolor": "white",
            "gridwidth": 2,
            "linecolor": "white",
            "showbackground": true,
            "ticks": "",
            "zerolinecolor": "white"
           },
           "zaxis": {
            "backgroundcolor": "#E5ECF6",
            "gridcolor": "white",
            "gridwidth": 2,
            "linecolor": "white",
            "showbackground": true,
            "ticks": "",
            "zerolinecolor": "white"
           }
          },
          "shapedefaults": {
           "line": {
            "color": "#2a3f5f"
           }
          },
          "ternary": {
           "aaxis": {
            "gridcolor": "white",
            "linecolor": "white",
            "ticks": ""
           },
           "baxis": {
            "gridcolor": "white",
            "linecolor": "white",
            "ticks": ""
           },
           "bgcolor": "#E5ECF6",
           "caxis": {
            "gridcolor": "white",
            "linecolor": "white",
            "ticks": ""
           }
          },
          "title": {
           "x": 0.05
          },
          "xaxis": {
           "automargin": true,
           "gridcolor": "white",
           "linecolor": "white",
           "ticks": "",
           "title": {
            "standoff": 15
           },
           "zerolinecolor": "white",
           "zerolinewidth": 2
          },
          "yaxis": {
           "automargin": true,
           "gridcolor": "white",
           "linecolor": "white",
           "ticks": "",
           "title": {
            "standoff": 15
           },
           "zerolinecolor": "white",
           "zerolinewidth": 2
          }
         }
        },
        "title": {
         "text": "Répartition des types de transactions par jour"
        },
        "width": 1050,
        "xaxis": {
         "anchor": "y",
         "categoryarray": [
          1,
          1,
          1,
          1,
          1,
          2,
          2,
          2,
          2,
          2,
          3,
          3,
          3,
          3,
          3,
          4,
          4,
          4,
          4,
          4,
          5,
          5,
          5,
          5,
          5,
          6,
          6,
          6,
          6,
          6,
          7,
          7,
          7,
          7,
          7,
          8,
          8,
          8,
          8,
          8,
          9,
          9,
          9,
          9,
          9,
          10,
          10,
          10,
          10,
          10,
          11,
          11,
          11,
          11,
          11,
          12,
          12,
          12,
          12,
          12,
          13,
          13,
          13,
          13,
          13,
          14,
          14,
          14,
          14,
          14,
          15,
          15,
          15,
          15,
          15,
          16,
          16,
          16,
          16,
          16,
          17,
          17,
          17,
          17,
          17,
          18,
          18,
          18,
          18,
          18,
          19,
          19,
          19,
          19,
          19,
          20,
          20,
          20,
          20,
          20,
          21,
          21,
          21,
          21,
          21,
          22,
          22,
          22,
          22,
          22,
          23,
          23,
          23,
          23,
          23,
          24,
          24,
          24,
          24,
          24,
          25,
          25,
          25,
          25,
          25,
          26,
          26,
          26,
          26,
          26,
          27,
          27,
          27,
          27,
          27,
          28,
          28,
          28,
          28,
          28,
          29,
          29,
          29,
          29,
          29,
          30,
          30,
          30,
          30,
          30,
          31,
          31
         ],
         "categoryorder": "array",
         "domain": [
          0,
          1
         ],
         "title": {
          "text": "Jour"
         },
         "type": "category"
        },
        "yaxis": {
         "anchor": "x",
         "domain": [
          0,
          1
         ],
         "title": {
          "text": "Effectif"
         }
        }
       }
      }
     },
     "metadata": {},
     "output_type": "display_data"
    }
   ],
   "source": [
    "type_vs_jours = pd.read_csv('data/type_vs_eff_jour_T.csv',index_col=0)\n",
    "\n",
    "\n",
    "def retourne_transaction_type(type_vs_jours=type_vs_jours):\n",
    "    height = 350\n",
    "    width = 1050\n",
    "    col=\"white\"\n",
    "        \n",
    "    fig = px.line(type_vs_jours, x='jour_du_mois', y='count', color='type', title='Répartition des types de transactions par jour')\n",
    "    fig.update_layout(\n",
    "        margin=dict(t=30,l=0,r=0,b=0),\n",
    "        yaxis=dict(title=\"Effectif\"),legend=dict(orientation=\"h\",yanchor=\"bottom\",y=-0.2,xanchor=\"center\",x=0.5),\n",
    "        xaxis=dict(title=\"Jour\"),\n",
    "        paper_bgcolor=col,height=height,width=width\n",
    "        )\n",
    "    \n",
    "    fig.update_xaxes(\n",
    "        type='category',  categoryorder='array',  \n",
    "        categoryarray=[i for i in type_vs_jours.sort_values(by='jour_du_mois').jour_du_mois]  \n",
    "    )\n",
    "    return fig\n",
    "\n",
    "retourne_transaction_type().show()"
   ]
  },
  {
   "cell_type": "code",
   "execution_count": 8,
   "metadata": {},
   "outputs": [
    {
     "data": {
      "application/vnd.plotly.v1+json": {
       "config": {
        "plotlyServerURL": "https://plot.ly"
       },
       "data": [
        {
         "alignmentgroup": "True",
         "hovertemplate": "Effectif=%{x}<br>type=%{y}<extra></extra>",
         "legendgroup": "",
         "marker": {
          "color": "#636efa",
          "pattern": {
           "shape": ""
          }
         },
         "name": "",
         "offsetgroup": "",
         "orientation": "h",
         "showlegend": false,
         "textposition": "auto",
         "texttemplate": "%{x:.0f}",
         "type": "bar",
         "x": [
          41432,
          532909,
          1399284,
          2151495,
          2237500
         ],
         "xaxis": "x",
         "y": [
          "DEBIT",
          "TRANSFER",
          "CASH_IN",
          "PAYMENT",
          "CASH_OUT"
         ],
         "yaxis": "y"
        }
       ],
       "layout": {
        "barmode": "relative",
        "height": 350,
        "legend": {
         "tracegroupgap": 0
        },
        "margin": {
         "b": 0,
         "l": 0,
         "r": 0,
         "t": 30
        },
        "template": {
         "data": {
          "bar": [
           {
            "error_x": {
             "color": "rgb(36,36,36)"
            },
            "error_y": {
             "color": "rgb(36,36,36)"
            },
            "marker": {
             "line": {
              "color": "rgb(234,234,242)",
              "width": 0.5
             },
             "pattern": {
              "fillmode": "overlay",
              "size": 10,
              "solidity": 0.2
             }
            },
            "type": "bar"
           }
          ],
          "barpolar": [
           {
            "marker": {
             "line": {
              "color": "rgb(234,234,242)",
              "width": 0.5
             },
             "pattern": {
              "fillmode": "overlay",
              "size": 10,
              "solidity": 0.2
             }
            },
            "type": "barpolar"
           }
          ],
          "carpet": [
           {
            "aaxis": {
             "endlinecolor": "rgb(36,36,36)",
             "gridcolor": "white",
             "linecolor": "white",
             "minorgridcolor": "white",
             "startlinecolor": "rgb(36,36,36)"
            },
            "baxis": {
             "endlinecolor": "rgb(36,36,36)",
             "gridcolor": "white",
             "linecolor": "white",
             "minorgridcolor": "white",
             "startlinecolor": "rgb(36,36,36)"
            },
            "type": "carpet"
           }
          ],
          "choropleth": [
           {
            "colorbar": {
             "outlinewidth": 0,
             "tickcolor": "rgb(36,36,36)",
             "ticklen": 8,
             "ticks": "outside",
             "tickwidth": 2
            },
            "type": "choropleth"
           }
          ],
          "contour": [
           {
            "colorbar": {
             "outlinewidth": 0,
             "tickcolor": "rgb(36,36,36)",
             "ticklen": 8,
             "ticks": "outside",
             "tickwidth": 2
            },
            "colorscale": [
             [
              0,
              "rgb(2,4,25)"
             ],
             [
              0.06274509803921569,
              "rgb(24,15,41)"
             ],
             [
              0.12549019607843137,
              "rgb(47,23,57)"
             ],
             [
              0.18823529411764706,
              "rgb(71,28,72)"
             ],
             [
              0.25098039215686274,
              "rgb(97,30,82)"
             ],
             [
              0.3137254901960784,
              "rgb(123,30,89)"
             ],
             [
              0.3764705882352941,
              "rgb(150,27,91)"
             ],
             [
              0.4392156862745098,
              "rgb(177,22,88)"
             ],
             [
              0.5019607843137255,
              "rgb(203,26,79)"
             ],
             [
              0.5647058823529412,
              "rgb(223,47,67)"
             ],
             [
              0.6274509803921569,
              "rgb(236,76,61)"
             ],
             [
              0.6901960784313725,
              "rgb(242,107,73)"
             ],
             [
              0.7529411764705882,
              "rgb(244,135,95)"
             ],
             [
              0.8156862745098039,
              "rgb(245,162,122)"
             ],
             [
              0.8784313725490196,
              "rgb(246,188,153)"
             ],
             [
              0.9411764705882353,
              "rgb(247,212,187)"
             ],
             [
              1,
              "rgb(250,234,220)"
             ]
            ],
            "type": "contour"
           }
          ],
          "contourcarpet": [
           {
            "colorbar": {
             "outlinewidth": 0,
             "tickcolor": "rgb(36,36,36)",
             "ticklen": 8,
             "ticks": "outside",
             "tickwidth": 2
            },
            "type": "contourcarpet"
           }
          ],
          "heatmap": [
           {
            "colorbar": {
             "outlinewidth": 0,
             "tickcolor": "rgb(36,36,36)",
             "ticklen": 8,
             "ticks": "outside",
             "tickwidth": 2
            },
            "colorscale": [
             [
              0,
              "rgb(2,4,25)"
             ],
             [
              0.06274509803921569,
              "rgb(24,15,41)"
             ],
             [
              0.12549019607843137,
              "rgb(47,23,57)"
             ],
             [
              0.18823529411764706,
              "rgb(71,28,72)"
             ],
             [
              0.25098039215686274,
              "rgb(97,30,82)"
             ],
             [
              0.3137254901960784,
              "rgb(123,30,89)"
             ],
             [
              0.3764705882352941,
              "rgb(150,27,91)"
             ],
             [
              0.4392156862745098,
              "rgb(177,22,88)"
             ],
             [
              0.5019607843137255,
              "rgb(203,26,79)"
             ],
             [
              0.5647058823529412,
              "rgb(223,47,67)"
             ],
             [
              0.6274509803921569,
              "rgb(236,76,61)"
             ],
             [
              0.6901960784313725,
              "rgb(242,107,73)"
             ],
             [
              0.7529411764705882,
              "rgb(244,135,95)"
             ],
             [
              0.8156862745098039,
              "rgb(245,162,122)"
             ],
             [
              0.8784313725490196,
              "rgb(246,188,153)"
             ],
             [
              0.9411764705882353,
              "rgb(247,212,187)"
             ],
             [
              1,
              "rgb(250,234,220)"
             ]
            ],
            "type": "heatmap"
           }
          ],
          "heatmapgl": [
           {
            "colorbar": {
             "outlinewidth": 0,
             "tickcolor": "rgb(36,36,36)",
             "ticklen": 8,
             "ticks": "outside",
             "tickwidth": 2
            },
            "colorscale": [
             [
              0,
              "rgb(2,4,25)"
             ],
             [
              0.06274509803921569,
              "rgb(24,15,41)"
             ],
             [
              0.12549019607843137,
              "rgb(47,23,57)"
             ],
             [
              0.18823529411764706,
              "rgb(71,28,72)"
             ],
             [
              0.25098039215686274,
              "rgb(97,30,82)"
             ],
             [
              0.3137254901960784,
              "rgb(123,30,89)"
             ],
             [
              0.3764705882352941,
              "rgb(150,27,91)"
             ],
             [
              0.4392156862745098,
              "rgb(177,22,88)"
             ],
             [
              0.5019607843137255,
              "rgb(203,26,79)"
             ],
             [
              0.5647058823529412,
              "rgb(223,47,67)"
             ],
             [
              0.6274509803921569,
              "rgb(236,76,61)"
             ],
             [
              0.6901960784313725,
              "rgb(242,107,73)"
             ],
             [
              0.7529411764705882,
              "rgb(244,135,95)"
             ],
             [
              0.8156862745098039,
              "rgb(245,162,122)"
             ],
             [
              0.8784313725490196,
              "rgb(246,188,153)"
             ],
             [
              0.9411764705882353,
              "rgb(247,212,187)"
             ],
             [
              1,
              "rgb(250,234,220)"
             ]
            ],
            "type": "heatmapgl"
           }
          ],
          "histogram": [
           {
            "marker": {
             "pattern": {
              "fillmode": "overlay",
              "size": 10,
              "solidity": 0.2
             }
            },
            "type": "histogram"
           }
          ],
          "histogram2d": [
           {
            "colorbar": {
             "outlinewidth": 0,
             "tickcolor": "rgb(36,36,36)",
             "ticklen": 8,
             "ticks": "outside",
             "tickwidth": 2
            },
            "colorscale": [
             [
              0,
              "rgb(2,4,25)"
             ],
             [
              0.06274509803921569,
              "rgb(24,15,41)"
             ],
             [
              0.12549019607843137,
              "rgb(47,23,57)"
             ],
             [
              0.18823529411764706,
              "rgb(71,28,72)"
             ],
             [
              0.25098039215686274,
              "rgb(97,30,82)"
             ],
             [
              0.3137254901960784,
              "rgb(123,30,89)"
             ],
             [
              0.3764705882352941,
              "rgb(150,27,91)"
             ],
             [
              0.4392156862745098,
              "rgb(177,22,88)"
             ],
             [
              0.5019607843137255,
              "rgb(203,26,79)"
             ],
             [
              0.5647058823529412,
              "rgb(223,47,67)"
             ],
             [
              0.6274509803921569,
              "rgb(236,76,61)"
             ],
             [
              0.6901960784313725,
              "rgb(242,107,73)"
             ],
             [
              0.7529411764705882,
              "rgb(244,135,95)"
             ],
             [
              0.8156862745098039,
              "rgb(245,162,122)"
             ],
             [
              0.8784313725490196,
              "rgb(246,188,153)"
             ],
             [
              0.9411764705882353,
              "rgb(247,212,187)"
             ],
             [
              1,
              "rgb(250,234,220)"
             ]
            ],
            "type": "histogram2d"
           }
          ],
          "histogram2dcontour": [
           {
            "colorbar": {
             "outlinewidth": 0,
             "tickcolor": "rgb(36,36,36)",
             "ticklen": 8,
             "ticks": "outside",
             "tickwidth": 2
            },
            "colorscale": [
             [
              0,
              "rgb(2,4,25)"
             ],
             [
              0.06274509803921569,
              "rgb(24,15,41)"
             ],
             [
              0.12549019607843137,
              "rgb(47,23,57)"
             ],
             [
              0.18823529411764706,
              "rgb(71,28,72)"
             ],
             [
              0.25098039215686274,
              "rgb(97,30,82)"
             ],
             [
              0.3137254901960784,
              "rgb(123,30,89)"
             ],
             [
              0.3764705882352941,
              "rgb(150,27,91)"
             ],
             [
              0.4392156862745098,
              "rgb(177,22,88)"
             ],
             [
              0.5019607843137255,
              "rgb(203,26,79)"
             ],
             [
              0.5647058823529412,
              "rgb(223,47,67)"
             ],
             [
              0.6274509803921569,
              "rgb(236,76,61)"
             ],
             [
              0.6901960784313725,
              "rgb(242,107,73)"
             ],
             [
              0.7529411764705882,
              "rgb(244,135,95)"
             ],
             [
              0.8156862745098039,
              "rgb(245,162,122)"
             ],
             [
              0.8784313725490196,
              "rgb(246,188,153)"
             ],
             [
              0.9411764705882353,
              "rgb(247,212,187)"
             ],
             [
              1,
              "rgb(250,234,220)"
             ]
            ],
            "type": "histogram2dcontour"
           }
          ],
          "mesh3d": [
           {
            "colorbar": {
             "outlinewidth": 0,
             "tickcolor": "rgb(36,36,36)",
             "ticklen": 8,
             "ticks": "outside",
             "tickwidth": 2
            },
            "type": "mesh3d"
           }
          ],
          "parcoords": [
           {
            "line": {
             "colorbar": {
              "outlinewidth": 0,
              "tickcolor": "rgb(36,36,36)",
              "ticklen": 8,
              "ticks": "outside",
              "tickwidth": 2
             }
            },
            "type": "parcoords"
           }
          ],
          "pie": [
           {
            "automargin": true,
            "type": "pie"
           }
          ],
          "scatter": [
           {
            "fillpattern": {
             "fillmode": "overlay",
             "size": 10,
             "solidity": 0.2
            },
            "type": "scatter"
           }
          ],
          "scatter3d": [
           {
            "line": {
             "colorbar": {
              "outlinewidth": 0,
              "tickcolor": "rgb(36,36,36)",
              "ticklen": 8,
              "ticks": "outside",
              "tickwidth": 2
             }
            },
            "marker": {
             "colorbar": {
              "outlinewidth": 0,
              "tickcolor": "rgb(36,36,36)",
              "ticklen": 8,
              "ticks": "outside",
              "tickwidth": 2
             }
            },
            "type": "scatter3d"
           }
          ],
          "scattercarpet": [
           {
            "marker": {
             "colorbar": {
              "outlinewidth": 0,
              "tickcolor": "rgb(36,36,36)",
              "ticklen": 8,
              "ticks": "outside",
              "tickwidth": 2
             }
            },
            "type": "scattercarpet"
           }
          ],
          "scattergeo": [
           {
            "marker": {
             "colorbar": {
              "outlinewidth": 0,
              "tickcolor": "rgb(36,36,36)",
              "ticklen": 8,
              "ticks": "outside",
              "tickwidth": 2
             }
            },
            "type": "scattergeo"
           }
          ],
          "scattergl": [
           {
            "marker": {
             "colorbar": {
              "outlinewidth": 0,
              "tickcolor": "rgb(36,36,36)",
              "ticklen": 8,
              "ticks": "outside",
              "tickwidth": 2
             }
            },
            "type": "scattergl"
           }
          ],
          "scattermapbox": [
           {
            "marker": {
             "colorbar": {
              "outlinewidth": 0,
              "tickcolor": "rgb(36,36,36)",
              "ticklen": 8,
              "ticks": "outside",
              "tickwidth": 2
             }
            },
            "type": "scattermapbox"
           }
          ],
          "scatterpolar": [
           {
            "marker": {
             "colorbar": {
              "outlinewidth": 0,
              "tickcolor": "rgb(36,36,36)",
              "ticklen": 8,
              "ticks": "outside",
              "tickwidth": 2
             }
            },
            "type": "scatterpolar"
           }
          ],
          "scatterpolargl": [
           {
            "marker": {
             "colorbar": {
              "outlinewidth": 0,
              "tickcolor": "rgb(36,36,36)",
              "ticklen": 8,
              "ticks": "outside",
              "tickwidth": 2
             }
            },
            "type": "scatterpolargl"
           }
          ],
          "scatterternary": [
           {
            "marker": {
             "colorbar": {
              "outlinewidth": 0,
              "tickcolor": "rgb(36,36,36)",
              "ticklen": 8,
              "ticks": "outside",
              "tickwidth": 2
             }
            },
            "type": "scatterternary"
           }
          ],
          "surface": [
           {
            "colorbar": {
             "outlinewidth": 0,
             "tickcolor": "rgb(36,36,36)",
             "ticklen": 8,
             "ticks": "outside",
             "tickwidth": 2
            },
            "colorscale": [
             [
              0,
              "rgb(2,4,25)"
             ],
             [
              0.06274509803921569,
              "rgb(24,15,41)"
             ],
             [
              0.12549019607843137,
              "rgb(47,23,57)"
             ],
             [
              0.18823529411764706,
              "rgb(71,28,72)"
             ],
             [
              0.25098039215686274,
              "rgb(97,30,82)"
             ],
             [
              0.3137254901960784,
              "rgb(123,30,89)"
             ],
             [
              0.3764705882352941,
              "rgb(150,27,91)"
             ],
             [
              0.4392156862745098,
              "rgb(177,22,88)"
             ],
             [
              0.5019607843137255,
              "rgb(203,26,79)"
             ],
             [
              0.5647058823529412,
              "rgb(223,47,67)"
             ],
             [
              0.6274509803921569,
              "rgb(236,76,61)"
             ],
             [
              0.6901960784313725,
              "rgb(242,107,73)"
             ],
             [
              0.7529411764705882,
              "rgb(244,135,95)"
             ],
             [
              0.8156862745098039,
              "rgb(245,162,122)"
             ],
             [
              0.8784313725490196,
              "rgb(246,188,153)"
             ],
             [
              0.9411764705882353,
              "rgb(247,212,187)"
             ],
             [
              1,
              "rgb(250,234,220)"
             ]
            ],
            "type": "surface"
           }
          ],
          "table": [
           {
            "cells": {
             "fill": {
              "color": "rgb(231,231,240)"
             },
             "line": {
              "color": "white"
             }
            },
            "header": {
             "fill": {
              "color": "rgb(183,183,191)"
             },
             "line": {
              "color": "white"
             }
            },
            "type": "table"
           }
          ]
         },
         "layout": {
          "annotationdefaults": {
           "arrowcolor": "rgb(67,103,167)"
          },
          "autotypenumbers": "strict",
          "coloraxis": {
           "colorbar": {
            "outlinewidth": 0,
            "tickcolor": "rgb(36,36,36)",
            "ticklen": 8,
            "ticks": "outside",
            "tickwidth": 2
           }
          },
          "colorscale": {
           "sequential": [
            [
             0,
             "rgb(2,4,25)"
            ],
            [
             0.06274509803921569,
             "rgb(24,15,41)"
            ],
            [
             0.12549019607843137,
             "rgb(47,23,57)"
            ],
            [
             0.18823529411764706,
             "rgb(71,28,72)"
            ],
            [
             0.25098039215686274,
             "rgb(97,30,82)"
            ],
            [
             0.3137254901960784,
             "rgb(123,30,89)"
            ],
            [
             0.3764705882352941,
             "rgb(150,27,91)"
            ],
            [
             0.4392156862745098,
             "rgb(177,22,88)"
            ],
            [
             0.5019607843137255,
             "rgb(203,26,79)"
            ],
            [
             0.5647058823529412,
             "rgb(223,47,67)"
            ],
            [
             0.6274509803921569,
             "rgb(236,76,61)"
            ],
            [
             0.6901960784313725,
             "rgb(242,107,73)"
            ],
            [
             0.7529411764705882,
             "rgb(244,135,95)"
            ],
            [
             0.8156862745098039,
             "rgb(245,162,122)"
            ],
            [
             0.8784313725490196,
             "rgb(246,188,153)"
            ],
            [
             0.9411764705882353,
             "rgb(247,212,187)"
            ],
            [
             1,
             "rgb(250,234,220)"
            ]
           ],
           "sequentialminus": [
            [
             0,
             "rgb(2,4,25)"
            ],
            [
             0.06274509803921569,
             "rgb(24,15,41)"
            ],
            [
             0.12549019607843137,
             "rgb(47,23,57)"
            ],
            [
             0.18823529411764706,
             "rgb(71,28,72)"
            ],
            [
             0.25098039215686274,
             "rgb(97,30,82)"
            ],
            [
             0.3137254901960784,
             "rgb(123,30,89)"
            ],
            [
             0.3764705882352941,
             "rgb(150,27,91)"
            ],
            [
             0.4392156862745098,
             "rgb(177,22,88)"
            ],
            [
             0.5019607843137255,
             "rgb(203,26,79)"
            ],
            [
             0.5647058823529412,
             "rgb(223,47,67)"
            ],
            [
             0.6274509803921569,
             "rgb(236,76,61)"
            ],
            [
             0.6901960784313725,
             "rgb(242,107,73)"
            ],
            [
             0.7529411764705882,
             "rgb(244,135,95)"
            ],
            [
             0.8156862745098039,
             "rgb(245,162,122)"
            ],
            [
             0.8784313725490196,
             "rgb(246,188,153)"
            ],
            [
             0.9411764705882353,
             "rgb(247,212,187)"
            ],
            [
             1,
             "rgb(250,234,220)"
            ]
           ]
          },
          "colorway": [
           "rgb(76,114,176)",
           "rgb(221,132,82)",
           "rgb(85,168,104)",
           "rgb(196,78,82)",
           "rgb(129,114,179)",
           "rgb(147,120,96)",
           "rgb(218,139,195)",
           "rgb(140,140,140)",
           "rgb(204,185,116)",
           "rgb(100,181,205)"
          ],
          "font": {
           "color": "rgb(36,36,36)"
          },
          "geo": {
           "bgcolor": "white",
           "lakecolor": "white",
           "landcolor": "rgb(234,234,242)",
           "showlakes": true,
           "showland": true,
           "subunitcolor": "white"
          },
          "hoverlabel": {
           "align": "left"
          },
          "hovermode": "closest",
          "paper_bgcolor": "white",
          "plot_bgcolor": "rgb(234,234,242)",
          "polar": {
           "angularaxis": {
            "gridcolor": "white",
            "linecolor": "white",
            "showgrid": true,
            "ticks": ""
           },
           "bgcolor": "rgb(234,234,242)",
           "radialaxis": {
            "gridcolor": "white",
            "linecolor": "white",
            "showgrid": true,
            "ticks": ""
           }
          },
          "scene": {
           "xaxis": {
            "backgroundcolor": "rgb(234,234,242)",
            "gridcolor": "white",
            "gridwidth": 2,
            "linecolor": "white",
            "showbackground": true,
            "showgrid": true,
            "ticks": "",
            "zerolinecolor": "white"
           },
           "yaxis": {
            "backgroundcolor": "rgb(234,234,242)",
            "gridcolor": "white",
            "gridwidth": 2,
            "linecolor": "white",
            "showbackground": true,
            "showgrid": true,
            "ticks": "",
            "zerolinecolor": "white"
           },
           "zaxis": {
            "backgroundcolor": "rgb(234,234,242)",
            "gridcolor": "white",
            "gridwidth": 2,
            "linecolor": "white",
            "showbackground": true,
            "showgrid": true,
            "ticks": "",
            "zerolinecolor": "white"
           }
          },
          "shapedefaults": {
           "fillcolor": "rgb(67,103,167)",
           "line": {
            "width": 0
           },
           "opacity": 0.5
          },
          "ternary": {
           "aaxis": {
            "gridcolor": "white",
            "linecolor": "white",
            "showgrid": true,
            "ticks": ""
           },
           "baxis": {
            "gridcolor": "white",
            "linecolor": "white",
            "showgrid": true,
            "ticks": ""
           },
           "bgcolor": "rgb(234,234,242)",
           "caxis": {
            "gridcolor": "white",
            "linecolor": "white",
            "showgrid": true,
            "ticks": ""
           }
          },
          "xaxis": {
           "automargin": true,
           "gridcolor": "white",
           "linecolor": "white",
           "showgrid": true,
           "ticks": "",
           "title": {
            "standoff": 15
           },
           "zerolinecolor": "white"
          },
          "yaxis": {
           "automargin": true,
           "gridcolor": "white",
           "linecolor": "white",
           "showgrid": true,
           "ticks": "",
           "title": {
            "standoff": 15
           },
           "zerolinecolor": "white"
          }
         }
        },
        "title": {
         "text": "Répartition des transactions par type de transactions"
        },
        "width": 1050,
        "xaxis": {
         "anchor": "y",
         "domain": [
          0,
          1
         ],
         "showgrid": false,
         "showline": false,
         "showticklabels": false,
         "title": {
          "text": ""
         },
         "zeroline": false
        },
        "yaxis": {
         "anchor": "x",
         "domain": [
          0,
          1
         ],
         "showgrid": false,
         "title": {
          "text": ""
         }
        }
       }
      }
     },
     "metadata": {},
     "output_type": "display_data"
    }
   ],
   "source": [
    "type_ = pd.read_csv('data/type_vs_eff_T.csv',index_col=0)\n",
    "\n",
    "def retourne_repartition_transaction(type_=type_):\n",
    "    height = 350\n",
    "    width = 1050\n",
    "    fig = px.bar(type_.sort_values(by='Effectif'), y='type', x='Effectif', title='Répartition des transactions par type de transactions',text_auto='.0f')\n",
    "    fig.update_layout(xaxis=dict(showgrid=False,title=\"\",\n",
    "                      showticklabels=False,showline=False,zeroline=False),\n",
    "                      yaxis=dict(showgrid=False,title=\"\"),\n",
    "                      margin=dict(t=30,l=0,r=0,b=0),\n",
    "                      height=height,width=width,template=\"seaborn\")\n",
    "    \n",
    "    return fig\n",
    "\n",
    "\n",
    "retourne_repartition_transaction().show()"
   ]
  },
  {
   "cell_type": "code",
   "execution_count": 9,
   "metadata": {},
   "outputs": [
    {
     "data": {
      "application/vnd.plotly.v1+json": {
       "config": {
        "plotlyServerURL": "https://plot.ly"
       },
       "data": [
        {
         "alignmentgroup": "True",
         "hovertemplate": "jour_du_mois=%{x}<br>Nombre=%{y}<extra></extra>",
         "legendgroup": "",
         "marker": {
          "color": "#636efa",
          "pattern": {
           "shape": ""
          }
         },
         "name": "",
         "offsetgroup": "",
         "orientation": "v",
         "showlegend": false,
         "textposition": "auto",
         "type": "bar",
         "x": [
          1,
          2,
          3,
          4,
          5,
          6,
          7,
          8,
          9,
          10,
          11,
          12,
          13,
          14,
          15,
          16,
          17,
          18,
          19,
          20,
          21,
          22,
          23,
          24,
          25,
          26,
          27,
          28,
          29,
          30,
          31
         ],
         "xaxis": "x",
         "y": [
          184902,
          150119,
          1755,
          6472,
          3563,
          148806,
          140439,
          148526,
          136782,
          133022,
          138170,
          113699,
          147575,
          136426,
          134265,
          125939,
          143902,
          7842,
          2818,
          5781,
          7214,
          16049,
          15002,
          9586,
          17077,
          3622,
          2242,
          3892,
          16068,
          891,
          3
         ],
         "yaxis": "y"
        }
       ],
       "layout": {
        "barmode": "relative",
        "height": 350,
        "legend": {
         "tracegroupgap": 0
        },
        "margin": {
         "b": 0,
         "l": 0,
         "r": 0,
         "t": 30
        },
        "template": {
         "data": {
          "bar": [
           {
            "error_x": {
             "color": "rgb(36,36,36)"
            },
            "error_y": {
             "color": "rgb(36,36,36)"
            },
            "marker": {
             "line": {
              "color": "rgb(234,234,242)",
              "width": 0.5
             },
             "pattern": {
              "fillmode": "overlay",
              "size": 10,
              "solidity": 0.2
             }
            },
            "type": "bar"
           }
          ],
          "barpolar": [
           {
            "marker": {
             "line": {
              "color": "rgb(234,234,242)",
              "width": 0.5
             },
             "pattern": {
              "fillmode": "overlay",
              "size": 10,
              "solidity": 0.2
             }
            },
            "type": "barpolar"
           }
          ],
          "carpet": [
           {
            "aaxis": {
             "endlinecolor": "rgb(36,36,36)",
             "gridcolor": "white",
             "linecolor": "white",
             "minorgridcolor": "white",
             "startlinecolor": "rgb(36,36,36)"
            },
            "baxis": {
             "endlinecolor": "rgb(36,36,36)",
             "gridcolor": "white",
             "linecolor": "white",
             "minorgridcolor": "white",
             "startlinecolor": "rgb(36,36,36)"
            },
            "type": "carpet"
           }
          ],
          "choropleth": [
           {
            "colorbar": {
             "outlinewidth": 0,
             "tickcolor": "rgb(36,36,36)",
             "ticklen": 8,
             "ticks": "outside",
             "tickwidth": 2
            },
            "type": "choropleth"
           }
          ],
          "contour": [
           {
            "colorbar": {
             "outlinewidth": 0,
             "tickcolor": "rgb(36,36,36)",
             "ticklen": 8,
             "ticks": "outside",
             "tickwidth": 2
            },
            "colorscale": [
             [
              0,
              "rgb(2,4,25)"
             ],
             [
              0.06274509803921569,
              "rgb(24,15,41)"
             ],
             [
              0.12549019607843137,
              "rgb(47,23,57)"
             ],
             [
              0.18823529411764706,
              "rgb(71,28,72)"
             ],
             [
              0.25098039215686274,
              "rgb(97,30,82)"
             ],
             [
              0.3137254901960784,
              "rgb(123,30,89)"
             ],
             [
              0.3764705882352941,
              "rgb(150,27,91)"
             ],
             [
              0.4392156862745098,
              "rgb(177,22,88)"
             ],
             [
              0.5019607843137255,
              "rgb(203,26,79)"
             ],
             [
              0.5647058823529412,
              "rgb(223,47,67)"
             ],
             [
              0.6274509803921569,
              "rgb(236,76,61)"
             ],
             [
              0.6901960784313725,
              "rgb(242,107,73)"
             ],
             [
              0.7529411764705882,
              "rgb(244,135,95)"
             ],
             [
              0.8156862745098039,
              "rgb(245,162,122)"
             ],
             [
              0.8784313725490196,
              "rgb(246,188,153)"
             ],
             [
              0.9411764705882353,
              "rgb(247,212,187)"
             ],
             [
              1,
              "rgb(250,234,220)"
             ]
            ],
            "type": "contour"
           }
          ],
          "contourcarpet": [
           {
            "colorbar": {
             "outlinewidth": 0,
             "tickcolor": "rgb(36,36,36)",
             "ticklen": 8,
             "ticks": "outside",
             "tickwidth": 2
            },
            "type": "contourcarpet"
           }
          ],
          "heatmap": [
           {
            "colorbar": {
             "outlinewidth": 0,
             "tickcolor": "rgb(36,36,36)",
             "ticklen": 8,
             "ticks": "outside",
             "tickwidth": 2
            },
            "colorscale": [
             [
              0,
              "rgb(2,4,25)"
             ],
             [
              0.06274509803921569,
              "rgb(24,15,41)"
             ],
             [
              0.12549019607843137,
              "rgb(47,23,57)"
             ],
             [
              0.18823529411764706,
              "rgb(71,28,72)"
             ],
             [
              0.25098039215686274,
              "rgb(97,30,82)"
             ],
             [
              0.3137254901960784,
              "rgb(123,30,89)"
             ],
             [
              0.3764705882352941,
              "rgb(150,27,91)"
             ],
             [
              0.4392156862745098,
              "rgb(177,22,88)"
             ],
             [
              0.5019607843137255,
              "rgb(203,26,79)"
             ],
             [
              0.5647058823529412,
              "rgb(223,47,67)"
             ],
             [
              0.6274509803921569,
              "rgb(236,76,61)"
             ],
             [
              0.6901960784313725,
              "rgb(242,107,73)"
             ],
             [
              0.7529411764705882,
              "rgb(244,135,95)"
             ],
             [
              0.8156862745098039,
              "rgb(245,162,122)"
             ],
             [
              0.8784313725490196,
              "rgb(246,188,153)"
             ],
             [
              0.9411764705882353,
              "rgb(247,212,187)"
             ],
             [
              1,
              "rgb(250,234,220)"
             ]
            ],
            "type": "heatmap"
           }
          ],
          "heatmapgl": [
           {
            "colorbar": {
             "outlinewidth": 0,
             "tickcolor": "rgb(36,36,36)",
             "ticklen": 8,
             "ticks": "outside",
             "tickwidth": 2
            },
            "colorscale": [
             [
              0,
              "rgb(2,4,25)"
             ],
             [
              0.06274509803921569,
              "rgb(24,15,41)"
             ],
             [
              0.12549019607843137,
              "rgb(47,23,57)"
             ],
             [
              0.18823529411764706,
              "rgb(71,28,72)"
             ],
             [
              0.25098039215686274,
              "rgb(97,30,82)"
             ],
             [
              0.3137254901960784,
              "rgb(123,30,89)"
             ],
             [
              0.3764705882352941,
              "rgb(150,27,91)"
             ],
             [
              0.4392156862745098,
              "rgb(177,22,88)"
             ],
             [
              0.5019607843137255,
              "rgb(203,26,79)"
             ],
             [
              0.5647058823529412,
              "rgb(223,47,67)"
             ],
             [
              0.6274509803921569,
              "rgb(236,76,61)"
             ],
             [
              0.6901960784313725,
              "rgb(242,107,73)"
             ],
             [
              0.7529411764705882,
              "rgb(244,135,95)"
             ],
             [
              0.8156862745098039,
              "rgb(245,162,122)"
             ],
             [
              0.8784313725490196,
              "rgb(246,188,153)"
             ],
             [
              0.9411764705882353,
              "rgb(247,212,187)"
             ],
             [
              1,
              "rgb(250,234,220)"
             ]
            ],
            "type": "heatmapgl"
           }
          ],
          "histogram": [
           {
            "marker": {
             "pattern": {
              "fillmode": "overlay",
              "size": 10,
              "solidity": 0.2
             }
            },
            "type": "histogram"
           }
          ],
          "histogram2d": [
           {
            "colorbar": {
             "outlinewidth": 0,
             "tickcolor": "rgb(36,36,36)",
             "ticklen": 8,
             "ticks": "outside",
             "tickwidth": 2
            },
            "colorscale": [
             [
              0,
              "rgb(2,4,25)"
             ],
             [
              0.06274509803921569,
              "rgb(24,15,41)"
             ],
             [
              0.12549019607843137,
              "rgb(47,23,57)"
             ],
             [
              0.18823529411764706,
              "rgb(71,28,72)"
             ],
             [
              0.25098039215686274,
              "rgb(97,30,82)"
             ],
             [
              0.3137254901960784,
              "rgb(123,30,89)"
             ],
             [
              0.3764705882352941,
              "rgb(150,27,91)"
             ],
             [
              0.4392156862745098,
              "rgb(177,22,88)"
             ],
             [
              0.5019607843137255,
              "rgb(203,26,79)"
             ],
             [
              0.5647058823529412,
              "rgb(223,47,67)"
             ],
             [
              0.6274509803921569,
              "rgb(236,76,61)"
             ],
             [
              0.6901960784313725,
              "rgb(242,107,73)"
             ],
             [
              0.7529411764705882,
              "rgb(244,135,95)"
             ],
             [
              0.8156862745098039,
              "rgb(245,162,122)"
             ],
             [
              0.8784313725490196,
              "rgb(246,188,153)"
             ],
             [
              0.9411764705882353,
              "rgb(247,212,187)"
             ],
             [
              1,
              "rgb(250,234,220)"
             ]
            ],
            "type": "histogram2d"
           }
          ],
          "histogram2dcontour": [
           {
            "colorbar": {
             "outlinewidth": 0,
             "tickcolor": "rgb(36,36,36)",
             "ticklen": 8,
             "ticks": "outside",
             "tickwidth": 2
            },
            "colorscale": [
             [
              0,
              "rgb(2,4,25)"
             ],
             [
              0.06274509803921569,
              "rgb(24,15,41)"
             ],
             [
              0.12549019607843137,
              "rgb(47,23,57)"
             ],
             [
              0.18823529411764706,
              "rgb(71,28,72)"
             ],
             [
              0.25098039215686274,
              "rgb(97,30,82)"
             ],
             [
              0.3137254901960784,
              "rgb(123,30,89)"
             ],
             [
              0.3764705882352941,
              "rgb(150,27,91)"
             ],
             [
              0.4392156862745098,
              "rgb(177,22,88)"
             ],
             [
              0.5019607843137255,
              "rgb(203,26,79)"
             ],
             [
              0.5647058823529412,
              "rgb(223,47,67)"
             ],
             [
              0.6274509803921569,
              "rgb(236,76,61)"
             ],
             [
              0.6901960784313725,
              "rgb(242,107,73)"
             ],
             [
              0.7529411764705882,
              "rgb(244,135,95)"
             ],
             [
              0.8156862745098039,
              "rgb(245,162,122)"
             ],
             [
              0.8784313725490196,
              "rgb(246,188,153)"
             ],
             [
              0.9411764705882353,
              "rgb(247,212,187)"
             ],
             [
              1,
              "rgb(250,234,220)"
             ]
            ],
            "type": "histogram2dcontour"
           }
          ],
          "mesh3d": [
           {
            "colorbar": {
             "outlinewidth": 0,
             "tickcolor": "rgb(36,36,36)",
             "ticklen": 8,
             "ticks": "outside",
             "tickwidth": 2
            },
            "type": "mesh3d"
           }
          ],
          "parcoords": [
           {
            "line": {
             "colorbar": {
              "outlinewidth": 0,
              "tickcolor": "rgb(36,36,36)",
              "ticklen": 8,
              "ticks": "outside",
              "tickwidth": 2
             }
            },
            "type": "parcoords"
           }
          ],
          "pie": [
           {
            "automargin": true,
            "type": "pie"
           }
          ],
          "scatter": [
           {
            "fillpattern": {
             "fillmode": "overlay",
             "size": 10,
             "solidity": 0.2
            },
            "type": "scatter"
           }
          ],
          "scatter3d": [
           {
            "line": {
             "colorbar": {
              "outlinewidth": 0,
              "tickcolor": "rgb(36,36,36)",
              "ticklen": 8,
              "ticks": "outside",
              "tickwidth": 2
             }
            },
            "marker": {
             "colorbar": {
              "outlinewidth": 0,
              "tickcolor": "rgb(36,36,36)",
              "ticklen": 8,
              "ticks": "outside",
              "tickwidth": 2
             }
            },
            "type": "scatter3d"
           }
          ],
          "scattercarpet": [
           {
            "marker": {
             "colorbar": {
              "outlinewidth": 0,
              "tickcolor": "rgb(36,36,36)",
              "ticklen": 8,
              "ticks": "outside",
              "tickwidth": 2
             }
            },
            "type": "scattercarpet"
           }
          ],
          "scattergeo": [
           {
            "marker": {
             "colorbar": {
              "outlinewidth": 0,
              "tickcolor": "rgb(36,36,36)",
              "ticklen": 8,
              "ticks": "outside",
              "tickwidth": 2
             }
            },
            "type": "scattergeo"
           }
          ],
          "scattergl": [
           {
            "marker": {
             "colorbar": {
              "outlinewidth": 0,
              "tickcolor": "rgb(36,36,36)",
              "ticklen": 8,
              "ticks": "outside",
              "tickwidth": 2
             }
            },
            "type": "scattergl"
           }
          ],
          "scattermapbox": [
           {
            "marker": {
             "colorbar": {
              "outlinewidth": 0,
              "tickcolor": "rgb(36,36,36)",
              "ticklen": 8,
              "ticks": "outside",
              "tickwidth": 2
             }
            },
            "type": "scattermapbox"
           }
          ],
          "scatterpolar": [
           {
            "marker": {
             "colorbar": {
              "outlinewidth": 0,
              "tickcolor": "rgb(36,36,36)",
              "ticklen": 8,
              "ticks": "outside",
              "tickwidth": 2
             }
            },
            "type": "scatterpolar"
           }
          ],
          "scatterpolargl": [
           {
            "marker": {
             "colorbar": {
              "outlinewidth": 0,
              "tickcolor": "rgb(36,36,36)",
              "ticklen": 8,
              "ticks": "outside",
              "tickwidth": 2
             }
            },
            "type": "scatterpolargl"
           }
          ],
          "scatterternary": [
           {
            "marker": {
             "colorbar": {
              "outlinewidth": 0,
              "tickcolor": "rgb(36,36,36)",
              "ticklen": 8,
              "ticks": "outside",
              "tickwidth": 2
             }
            },
            "type": "scatterternary"
           }
          ],
          "surface": [
           {
            "colorbar": {
             "outlinewidth": 0,
             "tickcolor": "rgb(36,36,36)",
             "ticklen": 8,
             "ticks": "outside",
             "tickwidth": 2
            },
            "colorscale": [
             [
              0,
              "rgb(2,4,25)"
             ],
             [
              0.06274509803921569,
              "rgb(24,15,41)"
             ],
             [
              0.12549019607843137,
              "rgb(47,23,57)"
             ],
             [
              0.18823529411764706,
              "rgb(71,28,72)"
             ],
             [
              0.25098039215686274,
              "rgb(97,30,82)"
             ],
             [
              0.3137254901960784,
              "rgb(123,30,89)"
             ],
             [
              0.3764705882352941,
              "rgb(150,27,91)"
             ],
             [
              0.4392156862745098,
              "rgb(177,22,88)"
             ],
             [
              0.5019607843137255,
              "rgb(203,26,79)"
             ],
             [
              0.5647058823529412,
              "rgb(223,47,67)"
             ],
             [
              0.6274509803921569,
              "rgb(236,76,61)"
             ],
             [
              0.6901960784313725,
              "rgb(242,107,73)"
             ],
             [
              0.7529411764705882,
              "rgb(244,135,95)"
             ],
             [
              0.8156862745098039,
              "rgb(245,162,122)"
             ],
             [
              0.8784313725490196,
              "rgb(246,188,153)"
             ],
             [
              0.9411764705882353,
              "rgb(247,212,187)"
             ],
             [
              1,
              "rgb(250,234,220)"
             ]
            ],
            "type": "surface"
           }
          ],
          "table": [
           {
            "cells": {
             "fill": {
              "color": "rgb(231,231,240)"
             },
             "line": {
              "color": "white"
             }
            },
            "header": {
             "fill": {
              "color": "rgb(183,183,191)"
             },
             "line": {
              "color": "white"
             }
            },
            "type": "table"
           }
          ]
         },
         "layout": {
          "annotationdefaults": {
           "arrowcolor": "rgb(67,103,167)"
          },
          "autotypenumbers": "strict",
          "coloraxis": {
           "colorbar": {
            "outlinewidth": 0,
            "tickcolor": "rgb(36,36,36)",
            "ticklen": 8,
            "ticks": "outside",
            "tickwidth": 2
           }
          },
          "colorscale": {
           "sequential": [
            [
             0,
             "rgb(2,4,25)"
            ],
            [
             0.06274509803921569,
             "rgb(24,15,41)"
            ],
            [
             0.12549019607843137,
             "rgb(47,23,57)"
            ],
            [
             0.18823529411764706,
             "rgb(71,28,72)"
            ],
            [
             0.25098039215686274,
             "rgb(97,30,82)"
            ],
            [
             0.3137254901960784,
             "rgb(123,30,89)"
            ],
            [
             0.3764705882352941,
             "rgb(150,27,91)"
            ],
            [
             0.4392156862745098,
             "rgb(177,22,88)"
            ],
            [
             0.5019607843137255,
             "rgb(203,26,79)"
            ],
            [
             0.5647058823529412,
             "rgb(223,47,67)"
            ],
            [
             0.6274509803921569,
             "rgb(236,76,61)"
            ],
            [
             0.6901960784313725,
             "rgb(242,107,73)"
            ],
            [
             0.7529411764705882,
             "rgb(244,135,95)"
            ],
            [
             0.8156862745098039,
             "rgb(245,162,122)"
            ],
            [
             0.8784313725490196,
             "rgb(246,188,153)"
            ],
            [
             0.9411764705882353,
             "rgb(247,212,187)"
            ],
            [
             1,
             "rgb(250,234,220)"
            ]
           ],
           "sequentialminus": [
            [
             0,
             "rgb(2,4,25)"
            ],
            [
             0.06274509803921569,
             "rgb(24,15,41)"
            ],
            [
             0.12549019607843137,
             "rgb(47,23,57)"
            ],
            [
             0.18823529411764706,
             "rgb(71,28,72)"
            ],
            [
             0.25098039215686274,
             "rgb(97,30,82)"
            ],
            [
             0.3137254901960784,
             "rgb(123,30,89)"
            ],
            [
             0.3764705882352941,
             "rgb(150,27,91)"
            ],
            [
             0.4392156862745098,
             "rgb(177,22,88)"
            ],
            [
             0.5019607843137255,
             "rgb(203,26,79)"
            ],
            [
             0.5647058823529412,
             "rgb(223,47,67)"
            ],
            [
             0.6274509803921569,
             "rgb(236,76,61)"
            ],
            [
             0.6901960784313725,
             "rgb(242,107,73)"
            ],
            [
             0.7529411764705882,
             "rgb(244,135,95)"
            ],
            [
             0.8156862745098039,
             "rgb(245,162,122)"
            ],
            [
             0.8784313725490196,
             "rgb(246,188,153)"
            ],
            [
             0.9411764705882353,
             "rgb(247,212,187)"
            ],
            [
             1,
             "rgb(250,234,220)"
            ]
           ]
          },
          "colorway": [
           "rgb(76,114,176)",
           "rgb(221,132,82)",
           "rgb(85,168,104)",
           "rgb(196,78,82)",
           "rgb(129,114,179)",
           "rgb(147,120,96)",
           "rgb(218,139,195)",
           "rgb(140,140,140)",
           "rgb(204,185,116)",
           "rgb(100,181,205)"
          ],
          "font": {
           "color": "rgb(36,36,36)"
          },
          "geo": {
           "bgcolor": "white",
           "lakecolor": "white",
           "landcolor": "rgb(234,234,242)",
           "showlakes": true,
           "showland": true,
           "subunitcolor": "white"
          },
          "hoverlabel": {
           "align": "left"
          },
          "hovermode": "closest",
          "paper_bgcolor": "white",
          "plot_bgcolor": "rgb(234,234,242)",
          "polar": {
           "angularaxis": {
            "gridcolor": "white",
            "linecolor": "white",
            "showgrid": true,
            "ticks": ""
           },
           "bgcolor": "rgb(234,234,242)",
           "radialaxis": {
            "gridcolor": "white",
            "linecolor": "white",
            "showgrid": true,
            "ticks": ""
           }
          },
          "scene": {
           "xaxis": {
            "backgroundcolor": "rgb(234,234,242)",
            "gridcolor": "white",
            "gridwidth": 2,
            "linecolor": "white",
            "showbackground": true,
            "showgrid": true,
            "ticks": "",
            "zerolinecolor": "white"
           },
           "yaxis": {
            "backgroundcolor": "rgb(234,234,242)",
            "gridcolor": "white",
            "gridwidth": 2,
            "linecolor": "white",
            "showbackground": true,
            "showgrid": true,
            "ticks": "",
            "zerolinecolor": "white"
           },
           "zaxis": {
            "backgroundcolor": "rgb(234,234,242)",
            "gridcolor": "white",
            "gridwidth": 2,
            "linecolor": "white",
            "showbackground": true,
            "showgrid": true,
            "ticks": "",
            "zerolinecolor": "white"
           }
          },
          "shapedefaults": {
           "fillcolor": "rgb(67,103,167)",
           "line": {
            "width": 0
           },
           "opacity": 0.5
          },
          "ternary": {
           "aaxis": {
            "gridcolor": "white",
            "linecolor": "white",
            "showgrid": true,
            "ticks": ""
           },
           "baxis": {
            "gridcolor": "white",
            "linecolor": "white",
            "showgrid": true,
            "ticks": ""
           },
           "bgcolor": "rgb(234,234,242)",
           "caxis": {
            "gridcolor": "white",
            "linecolor": "white",
            "showgrid": true,
            "ticks": ""
           }
          },
          "xaxis": {
           "automargin": true,
           "gridcolor": "white",
           "linecolor": "white",
           "showgrid": true,
           "ticks": "",
           "title": {
            "standoff": 15
           },
           "zerolinecolor": "white"
          },
          "yaxis": {
           "automargin": true,
           "gridcolor": "white",
           "linecolor": "white",
           "showgrid": true,
           "ticks": "",
           "title": {
            "standoff": 15
           },
           "zerolinecolor": "white"
          }
         }
        },
        "title": {
         "text": "Repartition des Transactions avec solde initial de l envoyeur nul par jour"
        },
        "width": 1050,
        "xaxis": {
         "anchor": "y",
         "categoryarray": [
          1,
          2,
          3,
          4,
          5,
          6,
          7,
          8,
          9,
          10,
          11,
          12,
          13,
          14,
          15,
          16,
          17,
          18,
          19,
          20,
          21,
          22,
          23,
          24,
          25,
          26,
          27,
          28,
          29,
          30,
          31
         ],
         "categoryorder": "array",
         "domain": [
          0,
          1
         ],
         "showgrid": false,
         "title": {
          "text": "Jour"
         },
         "type": "category"
        },
        "yaxis": {
         "anchor": "x",
         "domain": [
          0,
          1
         ],
         "showgrid": true,
         "title": {
          "text": "Total Transaction"
         }
        }
       }
      }
     },
     "metadata": {},
     "output_type": "display_data"
    }
   ],
   "source": [
    "data_sender_null = pd.read_csv('data/T_sold_sender_Null.csv',index_col=0)\n",
    "\n",
    "\n",
    "def retourne_repartition_transaction_sender_null(data_sender_null=data_sender_null):\n",
    "    height = 350\n",
    "    width = 1050\n",
    "    fig = px.bar(data_sender_null.sort_values(by='jour_du_mois'), x='jour_du_mois', y='Nombre', title='Repartition des Transactions avec solde initial de l envoyeur nul par jour')\n",
    "    fig.update_xaxes(\n",
    "        type='category',  \n",
    "        categoryorder='array',  \n",
    "        categoryarray=[i for i in data_sender_null.sort_values(by='jour_du_mois').jour_du_mois]  \n",
    "    )\n",
    "    fig.update_layout(xaxis=dict(showgrid=False,title=\"Jour\"),\n",
    "                          yaxis=dict(showgrid=True,title=\"Total Transaction\"),\n",
    "                          margin=dict(t=30,l=0,r=0,b=0),\n",
    "                          height=height,width=width,template=\"seaborn\")\n",
    "    \n",
    "    return fig\n",
    "\n",
    "retourne_repartition_transaction_sender_null().show()"
   ]
  },
  {
   "cell_type": "code",
   "execution_count": 10,
   "metadata": {},
   "outputs": [
    {
     "data": {
      "application/vnd.plotly.v1+json": {
       "config": {
        "plotlyServerURL": "https://plot.ly"
       },
       "data": [
        {
         "alignmentgroup": "True",
         "hovertemplate": "jour_du_mois=%{x}<br>Nombre=%{y}<extra></extra>",
         "legendgroup": "",
         "marker": {
          "color": "#636efa",
          "pattern": {
           "shape": ""
          }
         },
         "name": "",
         "offsetgroup": "",
         "orientation": "v",
         "showlegend": false,
         "textposition": "auto",
         "type": "bar",
         "x": [
          1,
          2,
          3,
          4,
          5,
          6,
          7,
          8,
          9,
          10,
          11,
          12,
          13,
          14,
          15,
          16,
          17,
          18,
          19,
          20,
          21,
          22,
          23,
          24,
          25,
          26,
          27,
          28,
          29,
          30,
          31
         ],
         "xaxis": "x",
         "y": [
          311000,
          256958,
          3176,
          10948,
          5995,
          254829,
          239245,
          253940,
          230817,
          227974,
          236849,
          191248,
          253491,
          233102,
          230968,
          214808,
          247691,
          14421,
          5554,
          10866,
          13628,
          29030,
          27733,
          18050,
          31785,
          7070,
          4614,
          7542,
          30232,
          5733,
          269
         ],
         "yaxis": "y"
        }
       ],
       "layout": {
        "barmode": "relative",
        "height": 350,
        "legend": {
         "tracegroupgap": 0
        },
        "margin": {
         "b": 0,
         "l": 0,
         "r": 0,
         "t": 30
        },
        "template": {
         "data": {
          "bar": [
           {
            "error_x": {
             "color": "rgb(36,36,36)"
            },
            "error_y": {
             "color": "rgb(36,36,36)"
            },
            "marker": {
             "line": {
              "color": "rgb(234,234,242)",
              "width": 0.5
             },
             "pattern": {
              "fillmode": "overlay",
              "size": 10,
              "solidity": 0.2
             }
            },
            "type": "bar"
           }
          ],
          "barpolar": [
           {
            "marker": {
             "line": {
              "color": "rgb(234,234,242)",
              "width": 0.5
             },
             "pattern": {
              "fillmode": "overlay",
              "size": 10,
              "solidity": 0.2
             }
            },
            "type": "barpolar"
           }
          ],
          "carpet": [
           {
            "aaxis": {
             "endlinecolor": "rgb(36,36,36)",
             "gridcolor": "white",
             "linecolor": "white",
             "minorgridcolor": "white",
             "startlinecolor": "rgb(36,36,36)"
            },
            "baxis": {
             "endlinecolor": "rgb(36,36,36)",
             "gridcolor": "white",
             "linecolor": "white",
             "minorgridcolor": "white",
             "startlinecolor": "rgb(36,36,36)"
            },
            "type": "carpet"
           }
          ],
          "choropleth": [
           {
            "colorbar": {
             "outlinewidth": 0,
             "tickcolor": "rgb(36,36,36)",
             "ticklen": 8,
             "ticks": "outside",
             "tickwidth": 2
            },
            "type": "choropleth"
           }
          ],
          "contour": [
           {
            "colorbar": {
             "outlinewidth": 0,
             "tickcolor": "rgb(36,36,36)",
             "ticklen": 8,
             "ticks": "outside",
             "tickwidth": 2
            },
            "colorscale": [
             [
              0,
              "rgb(2,4,25)"
             ],
             [
              0.06274509803921569,
              "rgb(24,15,41)"
             ],
             [
              0.12549019607843137,
              "rgb(47,23,57)"
             ],
             [
              0.18823529411764706,
              "rgb(71,28,72)"
             ],
             [
              0.25098039215686274,
              "rgb(97,30,82)"
             ],
             [
              0.3137254901960784,
              "rgb(123,30,89)"
             ],
             [
              0.3764705882352941,
              "rgb(150,27,91)"
             ],
             [
              0.4392156862745098,
              "rgb(177,22,88)"
             ],
             [
              0.5019607843137255,
              "rgb(203,26,79)"
             ],
             [
              0.5647058823529412,
              "rgb(223,47,67)"
             ],
             [
              0.6274509803921569,
              "rgb(236,76,61)"
             ],
             [
              0.6901960784313725,
              "rgb(242,107,73)"
             ],
             [
              0.7529411764705882,
              "rgb(244,135,95)"
             ],
             [
              0.8156862745098039,
              "rgb(245,162,122)"
             ],
             [
              0.8784313725490196,
              "rgb(246,188,153)"
             ],
             [
              0.9411764705882353,
              "rgb(247,212,187)"
             ],
             [
              1,
              "rgb(250,234,220)"
             ]
            ],
            "type": "contour"
           }
          ],
          "contourcarpet": [
           {
            "colorbar": {
             "outlinewidth": 0,
             "tickcolor": "rgb(36,36,36)",
             "ticklen": 8,
             "ticks": "outside",
             "tickwidth": 2
            },
            "type": "contourcarpet"
           }
          ],
          "heatmap": [
           {
            "colorbar": {
             "outlinewidth": 0,
             "tickcolor": "rgb(36,36,36)",
             "ticklen": 8,
             "ticks": "outside",
             "tickwidth": 2
            },
            "colorscale": [
             [
              0,
              "rgb(2,4,25)"
             ],
             [
              0.06274509803921569,
              "rgb(24,15,41)"
             ],
             [
              0.12549019607843137,
              "rgb(47,23,57)"
             ],
             [
              0.18823529411764706,
              "rgb(71,28,72)"
             ],
             [
              0.25098039215686274,
              "rgb(97,30,82)"
             ],
             [
              0.3137254901960784,
              "rgb(123,30,89)"
             ],
             [
              0.3764705882352941,
              "rgb(150,27,91)"
             ],
             [
              0.4392156862745098,
              "rgb(177,22,88)"
             ],
             [
              0.5019607843137255,
              "rgb(203,26,79)"
             ],
             [
              0.5647058823529412,
              "rgb(223,47,67)"
             ],
             [
              0.6274509803921569,
              "rgb(236,76,61)"
             ],
             [
              0.6901960784313725,
              "rgb(242,107,73)"
             ],
             [
              0.7529411764705882,
              "rgb(244,135,95)"
             ],
             [
              0.8156862745098039,
              "rgb(245,162,122)"
             ],
             [
              0.8784313725490196,
              "rgb(246,188,153)"
             ],
             [
              0.9411764705882353,
              "rgb(247,212,187)"
             ],
             [
              1,
              "rgb(250,234,220)"
             ]
            ],
            "type": "heatmap"
           }
          ],
          "heatmapgl": [
           {
            "colorbar": {
             "outlinewidth": 0,
             "tickcolor": "rgb(36,36,36)",
             "ticklen": 8,
             "ticks": "outside",
             "tickwidth": 2
            },
            "colorscale": [
             [
              0,
              "rgb(2,4,25)"
             ],
             [
              0.06274509803921569,
              "rgb(24,15,41)"
             ],
             [
              0.12549019607843137,
              "rgb(47,23,57)"
             ],
             [
              0.18823529411764706,
              "rgb(71,28,72)"
             ],
             [
              0.25098039215686274,
              "rgb(97,30,82)"
             ],
             [
              0.3137254901960784,
              "rgb(123,30,89)"
             ],
             [
              0.3764705882352941,
              "rgb(150,27,91)"
             ],
             [
              0.4392156862745098,
              "rgb(177,22,88)"
             ],
             [
              0.5019607843137255,
              "rgb(203,26,79)"
             ],
             [
              0.5647058823529412,
              "rgb(223,47,67)"
             ],
             [
              0.6274509803921569,
              "rgb(236,76,61)"
             ],
             [
              0.6901960784313725,
              "rgb(242,107,73)"
             ],
             [
              0.7529411764705882,
              "rgb(244,135,95)"
             ],
             [
              0.8156862745098039,
              "rgb(245,162,122)"
             ],
             [
              0.8784313725490196,
              "rgb(246,188,153)"
             ],
             [
              0.9411764705882353,
              "rgb(247,212,187)"
             ],
             [
              1,
              "rgb(250,234,220)"
             ]
            ],
            "type": "heatmapgl"
           }
          ],
          "histogram": [
           {
            "marker": {
             "pattern": {
              "fillmode": "overlay",
              "size": 10,
              "solidity": 0.2
             }
            },
            "type": "histogram"
           }
          ],
          "histogram2d": [
           {
            "colorbar": {
             "outlinewidth": 0,
             "tickcolor": "rgb(36,36,36)",
             "ticklen": 8,
             "ticks": "outside",
             "tickwidth": 2
            },
            "colorscale": [
             [
              0,
              "rgb(2,4,25)"
             ],
             [
              0.06274509803921569,
              "rgb(24,15,41)"
             ],
             [
              0.12549019607843137,
              "rgb(47,23,57)"
             ],
             [
              0.18823529411764706,
              "rgb(71,28,72)"
             ],
             [
              0.25098039215686274,
              "rgb(97,30,82)"
             ],
             [
              0.3137254901960784,
              "rgb(123,30,89)"
             ],
             [
              0.3764705882352941,
              "rgb(150,27,91)"
             ],
             [
              0.4392156862745098,
              "rgb(177,22,88)"
             ],
             [
              0.5019607843137255,
              "rgb(203,26,79)"
             ],
             [
              0.5647058823529412,
              "rgb(223,47,67)"
             ],
             [
              0.6274509803921569,
              "rgb(236,76,61)"
             ],
             [
              0.6901960784313725,
              "rgb(242,107,73)"
             ],
             [
              0.7529411764705882,
              "rgb(244,135,95)"
             ],
             [
              0.8156862745098039,
              "rgb(245,162,122)"
             ],
             [
              0.8784313725490196,
              "rgb(246,188,153)"
             ],
             [
              0.9411764705882353,
              "rgb(247,212,187)"
             ],
             [
              1,
              "rgb(250,234,220)"
             ]
            ],
            "type": "histogram2d"
           }
          ],
          "histogram2dcontour": [
           {
            "colorbar": {
             "outlinewidth": 0,
             "tickcolor": "rgb(36,36,36)",
             "ticklen": 8,
             "ticks": "outside",
             "tickwidth": 2
            },
            "colorscale": [
             [
              0,
              "rgb(2,4,25)"
             ],
             [
              0.06274509803921569,
              "rgb(24,15,41)"
             ],
             [
              0.12549019607843137,
              "rgb(47,23,57)"
             ],
             [
              0.18823529411764706,
              "rgb(71,28,72)"
             ],
             [
              0.25098039215686274,
              "rgb(97,30,82)"
             ],
             [
              0.3137254901960784,
              "rgb(123,30,89)"
             ],
             [
              0.3764705882352941,
              "rgb(150,27,91)"
             ],
             [
              0.4392156862745098,
              "rgb(177,22,88)"
             ],
             [
              0.5019607843137255,
              "rgb(203,26,79)"
             ],
             [
              0.5647058823529412,
              "rgb(223,47,67)"
             ],
             [
              0.6274509803921569,
              "rgb(236,76,61)"
             ],
             [
              0.6901960784313725,
              "rgb(242,107,73)"
             ],
             [
              0.7529411764705882,
              "rgb(244,135,95)"
             ],
             [
              0.8156862745098039,
              "rgb(245,162,122)"
             ],
             [
              0.8784313725490196,
              "rgb(246,188,153)"
             ],
             [
              0.9411764705882353,
              "rgb(247,212,187)"
             ],
             [
              1,
              "rgb(250,234,220)"
             ]
            ],
            "type": "histogram2dcontour"
           }
          ],
          "mesh3d": [
           {
            "colorbar": {
             "outlinewidth": 0,
             "tickcolor": "rgb(36,36,36)",
             "ticklen": 8,
             "ticks": "outside",
             "tickwidth": 2
            },
            "type": "mesh3d"
           }
          ],
          "parcoords": [
           {
            "line": {
             "colorbar": {
              "outlinewidth": 0,
              "tickcolor": "rgb(36,36,36)",
              "ticklen": 8,
              "ticks": "outside",
              "tickwidth": 2
             }
            },
            "type": "parcoords"
           }
          ],
          "pie": [
           {
            "automargin": true,
            "type": "pie"
           }
          ],
          "scatter": [
           {
            "fillpattern": {
             "fillmode": "overlay",
             "size": 10,
             "solidity": 0.2
            },
            "type": "scatter"
           }
          ],
          "scatter3d": [
           {
            "line": {
             "colorbar": {
              "outlinewidth": 0,
              "tickcolor": "rgb(36,36,36)",
              "ticklen": 8,
              "ticks": "outside",
              "tickwidth": 2
             }
            },
            "marker": {
             "colorbar": {
              "outlinewidth": 0,
              "tickcolor": "rgb(36,36,36)",
              "ticklen": 8,
              "ticks": "outside",
              "tickwidth": 2
             }
            },
            "type": "scatter3d"
           }
          ],
          "scattercarpet": [
           {
            "marker": {
             "colorbar": {
              "outlinewidth": 0,
              "tickcolor": "rgb(36,36,36)",
              "ticklen": 8,
              "ticks": "outside",
              "tickwidth": 2
             }
            },
            "type": "scattercarpet"
           }
          ],
          "scattergeo": [
           {
            "marker": {
             "colorbar": {
              "outlinewidth": 0,
              "tickcolor": "rgb(36,36,36)",
              "ticklen": 8,
              "ticks": "outside",
              "tickwidth": 2
             }
            },
            "type": "scattergeo"
           }
          ],
          "scattergl": [
           {
            "marker": {
             "colorbar": {
              "outlinewidth": 0,
              "tickcolor": "rgb(36,36,36)",
              "ticklen": 8,
              "ticks": "outside",
              "tickwidth": 2
             }
            },
            "type": "scattergl"
           }
          ],
          "scattermapbox": [
           {
            "marker": {
             "colorbar": {
              "outlinewidth": 0,
              "tickcolor": "rgb(36,36,36)",
              "ticklen": 8,
              "ticks": "outside",
              "tickwidth": 2
             }
            },
            "type": "scattermapbox"
           }
          ],
          "scatterpolar": [
           {
            "marker": {
             "colorbar": {
              "outlinewidth": 0,
              "tickcolor": "rgb(36,36,36)",
              "ticklen": 8,
              "ticks": "outside",
              "tickwidth": 2
             }
            },
            "type": "scatterpolar"
           }
          ],
          "scatterpolargl": [
           {
            "marker": {
             "colorbar": {
              "outlinewidth": 0,
              "tickcolor": "rgb(36,36,36)",
              "ticklen": 8,
              "ticks": "outside",
              "tickwidth": 2
             }
            },
            "type": "scatterpolargl"
           }
          ],
          "scatterternary": [
           {
            "marker": {
             "colorbar": {
              "outlinewidth": 0,
              "tickcolor": "rgb(36,36,36)",
              "ticklen": 8,
              "ticks": "outside",
              "tickwidth": 2
             }
            },
            "type": "scatterternary"
           }
          ],
          "surface": [
           {
            "colorbar": {
             "outlinewidth": 0,
             "tickcolor": "rgb(36,36,36)",
             "ticklen": 8,
             "ticks": "outside",
             "tickwidth": 2
            },
            "colorscale": [
             [
              0,
              "rgb(2,4,25)"
             ],
             [
              0.06274509803921569,
              "rgb(24,15,41)"
             ],
             [
              0.12549019607843137,
              "rgb(47,23,57)"
             ],
             [
              0.18823529411764706,
              "rgb(71,28,72)"
             ],
             [
              0.25098039215686274,
              "rgb(97,30,82)"
             ],
             [
              0.3137254901960784,
              "rgb(123,30,89)"
             ],
             [
              0.3764705882352941,
              "rgb(150,27,91)"
             ],
             [
              0.4392156862745098,
              "rgb(177,22,88)"
             ],
             [
              0.5019607843137255,
              "rgb(203,26,79)"
             ],
             [
              0.5647058823529412,
              "rgb(223,47,67)"
             ],
             [
              0.6274509803921569,
              "rgb(236,76,61)"
             ],
             [
              0.6901960784313725,
              "rgb(242,107,73)"
             ],
             [
              0.7529411764705882,
              "rgb(244,135,95)"
             ],
             [
              0.8156862745098039,
              "rgb(245,162,122)"
             ],
             [
              0.8784313725490196,
              "rgb(246,188,153)"
             ],
             [
              0.9411764705882353,
              "rgb(247,212,187)"
             ],
             [
              1,
              "rgb(250,234,220)"
             ]
            ],
            "type": "surface"
           }
          ],
          "table": [
           {
            "cells": {
             "fill": {
              "color": "rgb(231,231,240)"
             },
             "line": {
              "color": "white"
             }
            },
            "header": {
             "fill": {
              "color": "rgb(183,183,191)"
             },
             "line": {
              "color": "white"
             }
            },
            "type": "table"
           }
          ]
         },
         "layout": {
          "annotationdefaults": {
           "arrowcolor": "rgb(67,103,167)"
          },
          "autotypenumbers": "strict",
          "coloraxis": {
           "colorbar": {
            "outlinewidth": 0,
            "tickcolor": "rgb(36,36,36)",
            "ticklen": 8,
            "ticks": "outside",
            "tickwidth": 2
           }
          },
          "colorscale": {
           "sequential": [
            [
             0,
             "rgb(2,4,25)"
            ],
            [
             0.06274509803921569,
             "rgb(24,15,41)"
            ],
            [
             0.12549019607843137,
             "rgb(47,23,57)"
            ],
            [
             0.18823529411764706,
             "rgb(71,28,72)"
            ],
            [
             0.25098039215686274,
             "rgb(97,30,82)"
            ],
            [
             0.3137254901960784,
             "rgb(123,30,89)"
            ],
            [
             0.3764705882352941,
             "rgb(150,27,91)"
            ],
            [
             0.4392156862745098,
             "rgb(177,22,88)"
            ],
            [
             0.5019607843137255,
             "rgb(203,26,79)"
            ],
            [
             0.5647058823529412,
             "rgb(223,47,67)"
            ],
            [
             0.6274509803921569,
             "rgb(236,76,61)"
            ],
            [
             0.6901960784313725,
             "rgb(242,107,73)"
            ],
            [
             0.7529411764705882,
             "rgb(244,135,95)"
            ],
            [
             0.8156862745098039,
             "rgb(245,162,122)"
            ],
            [
             0.8784313725490196,
             "rgb(246,188,153)"
            ],
            [
             0.9411764705882353,
             "rgb(247,212,187)"
            ],
            [
             1,
             "rgb(250,234,220)"
            ]
           ],
           "sequentialminus": [
            [
             0,
             "rgb(2,4,25)"
            ],
            [
             0.06274509803921569,
             "rgb(24,15,41)"
            ],
            [
             0.12549019607843137,
             "rgb(47,23,57)"
            ],
            [
             0.18823529411764706,
             "rgb(71,28,72)"
            ],
            [
             0.25098039215686274,
             "rgb(97,30,82)"
            ],
            [
             0.3137254901960784,
             "rgb(123,30,89)"
            ],
            [
             0.3764705882352941,
             "rgb(150,27,91)"
            ],
            [
             0.4392156862745098,
             "rgb(177,22,88)"
            ],
            [
             0.5019607843137255,
             "rgb(203,26,79)"
            ],
            [
             0.5647058823529412,
             "rgb(223,47,67)"
            ],
            [
             0.6274509803921569,
             "rgb(236,76,61)"
            ],
            [
             0.6901960784313725,
             "rgb(242,107,73)"
            ],
            [
             0.7529411764705882,
             "rgb(244,135,95)"
            ],
            [
             0.8156862745098039,
             "rgb(245,162,122)"
            ],
            [
             0.8784313725490196,
             "rgb(246,188,153)"
            ],
            [
             0.9411764705882353,
             "rgb(247,212,187)"
            ],
            [
             1,
             "rgb(250,234,220)"
            ]
           ]
          },
          "colorway": [
           "rgb(76,114,176)",
           "rgb(221,132,82)",
           "rgb(85,168,104)",
           "rgb(196,78,82)",
           "rgb(129,114,179)",
           "rgb(147,120,96)",
           "rgb(218,139,195)",
           "rgb(140,140,140)",
           "rgb(204,185,116)",
           "rgb(100,181,205)"
          ],
          "font": {
           "color": "rgb(36,36,36)"
          },
          "geo": {
           "bgcolor": "white",
           "lakecolor": "white",
           "landcolor": "rgb(234,234,242)",
           "showlakes": true,
           "showland": true,
           "subunitcolor": "white"
          },
          "hoverlabel": {
           "align": "left"
          },
          "hovermode": "closest",
          "paper_bgcolor": "white",
          "plot_bgcolor": "rgb(234,234,242)",
          "polar": {
           "angularaxis": {
            "gridcolor": "white",
            "linecolor": "white",
            "showgrid": true,
            "ticks": ""
           },
           "bgcolor": "rgb(234,234,242)",
           "radialaxis": {
            "gridcolor": "white",
            "linecolor": "white",
            "showgrid": true,
            "ticks": ""
           }
          },
          "scene": {
           "xaxis": {
            "backgroundcolor": "rgb(234,234,242)",
            "gridcolor": "white",
            "gridwidth": 2,
            "linecolor": "white",
            "showbackground": true,
            "showgrid": true,
            "ticks": "",
            "zerolinecolor": "white"
           },
           "yaxis": {
            "backgroundcolor": "rgb(234,234,242)",
            "gridcolor": "white",
            "gridwidth": 2,
            "linecolor": "white",
            "showbackground": true,
            "showgrid": true,
            "ticks": "",
            "zerolinecolor": "white"
           },
           "zaxis": {
            "backgroundcolor": "rgb(234,234,242)",
            "gridcolor": "white",
            "gridwidth": 2,
            "linecolor": "white",
            "showbackground": true,
            "showgrid": true,
            "ticks": "",
            "zerolinecolor": "white"
           }
          },
          "shapedefaults": {
           "fillcolor": "rgb(67,103,167)",
           "line": {
            "width": 0
           },
           "opacity": 0.5
          },
          "ternary": {
           "aaxis": {
            "gridcolor": "white",
            "linecolor": "white",
            "showgrid": true,
            "ticks": ""
           },
           "baxis": {
            "gridcolor": "white",
            "linecolor": "white",
            "showgrid": true,
            "ticks": ""
           },
           "bgcolor": "rgb(234,234,242)",
           "caxis": {
            "gridcolor": "white",
            "linecolor": "white",
            "showgrid": true,
            "ticks": ""
           }
          },
          "xaxis": {
           "automargin": true,
           "gridcolor": "white",
           "linecolor": "white",
           "showgrid": true,
           "ticks": "",
           "title": {
            "standoff": 15
           },
           "zerolinecolor": "white"
          },
          "yaxis": {
           "automargin": true,
           "gridcolor": "white",
           "linecolor": "white",
           "showgrid": true,
           "ticks": "",
           "title": {
            "standoff": 15
           },
           "zerolinecolor": "white"
          }
         }
        },
        "title": {
         "text": "Repartition des Transactions avec solde final de l envoyeur nul par jour"
        },
        "width": 1050,
        "xaxis": {
         "anchor": "y",
         "categoryarray": [
          1,
          2,
          3,
          4,
          5,
          6,
          7,
          8,
          9,
          10,
          11,
          12,
          13,
          14,
          15,
          16,
          17,
          18,
          19,
          20,
          21,
          22,
          23,
          24,
          25,
          26,
          27,
          28,
          29,
          30,
          31
         ],
         "categoryorder": "array",
         "domain": [
          0,
          1
         ],
         "showgrid": false,
         "title": {
          "text": "Jour"
         },
         "type": "category"
        },
        "yaxis": {
         "anchor": "x",
         "domain": [
          0,
          1
         ],
         "showgrid": true,
         "title": {
          "text": "Total Transaction"
         }
        }
       }
      }
     },
     "metadata": {},
     "output_type": "display_data"
    }
   ],
   "source": [
    "data_sender_final_null = pd.read_csv('data/T_Final_sold_sender_null.csv',index_col=0)\n",
    "\n",
    "\n",
    "def retourne_repartition_transaction_sender_final_null(data_sender_final_null=data_sender_final_null):\n",
    "    height = 350\n",
    "    width = 1050\n",
    "    fig = px.bar(data_sender_final_null.sort_values(by='jour_du_mois'), x='jour_du_mois', y='Nombre', title='Repartition des Transactions avec solde final de l envoyeur nul par jour')\n",
    "    fig.update_xaxes(\n",
    "        type='category',  \n",
    "        categoryorder='array',  \n",
    "        categoryarray=[i for i in data_sender_final_null.sort_values(by='jour_du_mois').jour_du_mois]  \n",
    "    )\n",
    "    fig.update_layout(xaxis=dict(showgrid=False,title=\"Jour\"),\n",
    "                          yaxis=dict(showgrid=True,title=\"Total Transaction\"),\n",
    "                          margin=dict(t=30,l=0,r=0,b=0),\n",
    "                          height=height,width=width,template=\"seaborn\")\n",
    "    \n",
    "    return fig\n",
    "\n",
    "retourne_repartition_transaction_sender_final_null().show()"
   ]
  },
  {
   "cell_type": "markdown",
   "metadata": {},
   "source": []
  },
  {
   "cell_type": "code",
   "execution_count": 11,
   "metadata": {},
   "outputs": [
    {
     "data": {
      "text/html": [
       "<div>\n",
       "<style scoped>\n",
       "    .dataframe tbody tr th:only-of-type {\n",
       "        vertical-align: middle;\n",
       "    }\n",
       "\n",
       "    .dataframe tbody tr th {\n",
       "        vertical-align: top;\n",
       "    }\n",
       "\n",
       "    .dataframe thead th {\n",
       "        text-align: right;\n",
       "    }\n",
       "</style>\n",
       "<table border=\"1\" class=\"dataframe\">\n",
       "  <thead>\n",
       "    <tr style=\"text-align: right;\">\n",
       "      <th></th>\n",
       "      <th>nameOrig</th>\n",
       "      <th>count</th>\n",
       "    </tr>\n",
       "  </thead>\n",
       "  <tbody>\n",
       "    <tr>\n",
       "      <th>0</th>\n",
       "      <td>C1462946854</td>\n",
       "      <td>3</td>\n",
       "    </tr>\n",
       "    <tr>\n",
       "      <th>1</th>\n",
       "      <td>C1065307291</td>\n",
       "      <td>3</td>\n",
       "    </tr>\n",
       "    <tr>\n",
       "      <th>2</th>\n",
       "      <td>C1677795071</td>\n",
       "      <td>3</td>\n",
       "    </tr>\n",
       "    <tr>\n",
       "      <th>3</th>\n",
       "      <td>C1530544995</td>\n",
       "      <td>3</td>\n",
       "    </tr>\n",
       "    <tr>\n",
       "      <th>4</th>\n",
       "      <td>C1832548028</td>\n",
       "      <td>3</td>\n",
       "    </tr>\n",
       "    <tr>\n",
       "      <th>5</th>\n",
       "      <td>C1784010646</td>\n",
       "      <td>3</td>\n",
       "    </tr>\n",
       "    <tr>\n",
       "      <th>6</th>\n",
       "      <td>C1999539787</td>\n",
       "      <td>3</td>\n",
       "    </tr>\n",
       "    <tr>\n",
       "      <th>7</th>\n",
       "      <td>C1902386530</td>\n",
       "      <td>3</td>\n",
       "    </tr>\n",
       "    <tr>\n",
       "      <th>8</th>\n",
       "      <td>C2051359467</td>\n",
       "      <td>3</td>\n",
       "    </tr>\n",
       "    <tr>\n",
       "      <th>9</th>\n",
       "      <td>C1976208114</td>\n",
       "      <td>3</td>\n",
       "    </tr>\n",
       "  </tbody>\n",
       "</table>\n",
       "</div>"
      ],
      "text/plain": [
       "      nameOrig  count\n",
       "0  C1462946854      3\n",
       "1  C1065307291      3\n",
       "2  C1677795071      3\n",
       "3  C1530544995      3\n",
       "4  C1832548028      3\n",
       "5  C1784010646      3\n",
       "6  C1999539787      3\n",
       "7  C1902386530      3\n",
       "8  C2051359467      3\n",
       "9  C1976208114      3"
      ]
     },
     "execution_count": 11,
     "metadata": {},
     "output_type": "execute_result"
    }
   ],
   "source": [
    "pd.read_csv('data/sender_sorted.csv')"
   ]
  },
  {
   "cell_type": "code",
   "execution_count": 17,
   "metadata": {},
   "outputs": [
    {
     "data": {
      "text/html": [
       "<div>\n",
       "<style scoped>\n",
       "    .dataframe tbody tr th:only-of-type {\n",
       "        vertical-align: middle;\n",
       "    }\n",
       "\n",
       "    .dataframe tbody tr th {\n",
       "        vertical-align: top;\n",
       "    }\n",
       "\n",
       "    .dataframe thead th {\n",
       "        text-align: right;\n",
       "    }\n",
       "</style>\n",
       "<table border=\"1\" class=\"dataframe\">\n",
       "  <thead>\n",
       "    <tr style=\"text-align: right;\">\n",
       "      <th></th>\n",
       "      <th>jour_du_mois</th>\n",
       "      <th>C1023714065</th>\n",
       "      <th>C1286084959</th>\n",
       "      <th>C1360767589</th>\n",
       "      <th>C1590550415</th>\n",
       "      <th>C1789550256</th>\n",
       "      <th>C2083562754</th>\n",
       "      <th>C248609774</th>\n",
       "      <th>C451111351</th>\n",
       "      <th>C665576141</th>\n",
       "      <th>C985934102</th>\n",
       "    </tr>\n",
       "  </thead>\n",
       "  <tbody>\n",
       "    <tr>\n",
       "      <th>0</th>\n",
       "      <td>1</td>\n",
       "      <td>2.459328e+07</td>\n",
       "      <td>3.147544e+07</td>\n",
       "      <td>3.167217e+07</td>\n",
       "      <td>3.928447e+07</td>\n",
       "      <td>2.514704e+07</td>\n",
       "      <td>3.475213e+07</td>\n",
       "      <td>3.717157e+07</td>\n",
       "      <td>3.039493e+07</td>\n",
       "      <td>3.931057e+07</td>\n",
       "      <td>3.171760e+07</td>\n",
       "    </tr>\n",
       "    <tr>\n",
       "      <th>1</th>\n",
       "      <td>2</td>\n",
       "      <td>7.686254e+05</td>\n",
       "      <td>2.345857e+06</td>\n",
       "      <td>4.630604e+05</td>\n",
       "      <td>1.179350e+06</td>\n",
       "      <td>2.712449e+06</td>\n",
       "      <td>3.976759e+05</td>\n",
       "      <td>3.449218e+05</td>\n",
       "      <td>8.114452e+05</td>\n",
       "      <td>1.598291e+06</td>\n",
       "      <td>1.051542e+06</td>\n",
       "    </tr>\n",
       "    <tr>\n",
       "      <th>2</th>\n",
       "      <td>4</td>\n",
       "      <td>0.000000e+00</td>\n",
       "      <td>0.000000e+00</td>\n",
       "      <td>0.000000e+00</td>\n",
       "      <td>2.604924e+05</td>\n",
       "      <td>5.169173e+05</td>\n",
       "      <td>0.000000e+00</td>\n",
       "      <td>0.000000e+00</td>\n",
       "      <td>0.000000e+00</td>\n",
       "      <td>0.000000e+00</td>\n",
       "      <td>2.221072e+05</td>\n",
       "    </tr>\n",
       "    <tr>\n",
       "      <th>3</th>\n",
       "      <td>6</td>\n",
       "      <td>1.312346e+06</td>\n",
       "      <td>1.445515e+06</td>\n",
       "      <td>4.511472e+05</td>\n",
       "      <td>0.000000e+00</td>\n",
       "      <td>7.770315e+05</td>\n",
       "      <td>1.589081e+04</td>\n",
       "      <td>7.456667e+05</td>\n",
       "      <td>6.512577e+05</td>\n",
       "      <td>5.269972e+05</td>\n",
       "      <td>0.000000e+00</td>\n",
       "    </tr>\n",
       "    <tr>\n",
       "      <th>4</th>\n",
       "      <td>7</td>\n",
       "      <td>1.829438e+05</td>\n",
       "      <td>1.056223e+05</td>\n",
       "      <td>2.248765e+05</td>\n",
       "      <td>3.759431e+05</td>\n",
       "      <td>2.913187e+05</td>\n",
       "      <td>7.701785e+04</td>\n",
       "      <td>2.785157e+05</td>\n",
       "      <td>9.216808e+05</td>\n",
       "      <td>5.201813e+05</td>\n",
       "      <td>4.167365e+05</td>\n",
       "    </tr>\n",
       "    <tr>\n",
       "      <th>5</th>\n",
       "      <td>8</td>\n",
       "      <td>4.035945e+05</td>\n",
       "      <td>3.509572e+05</td>\n",
       "      <td>1.832368e+05</td>\n",
       "      <td>7.151060e+03</td>\n",
       "      <td>1.100282e+06</td>\n",
       "      <td>3.180361e+05</td>\n",
       "      <td>0.000000e+00</td>\n",
       "      <td>2.275653e+04</td>\n",
       "      <td>1.350487e+06</td>\n",
       "      <td>1.490547e+05</td>\n",
       "    </tr>\n",
       "    <tr>\n",
       "      <th>6</th>\n",
       "      <td>9</td>\n",
       "      <td>9.928717e+05</td>\n",
       "      <td>2.874242e+05</td>\n",
       "      <td>1.643154e+05</td>\n",
       "      <td>9.487539e+04</td>\n",
       "      <td>1.990911e+05</td>\n",
       "      <td>0.000000e+00</td>\n",
       "      <td>0.000000e+00</td>\n",
       "      <td>9.640859e+05</td>\n",
       "      <td>5.312217e+04</td>\n",
       "      <td>1.583195e+05</td>\n",
       "    </tr>\n",
       "    <tr>\n",
       "      <th>7</th>\n",
       "      <td>10</td>\n",
       "      <td>2.351739e+06</td>\n",
       "      <td>4.272261e+05</td>\n",
       "      <td>4.034651e+05</td>\n",
       "      <td>0.000000e+00</td>\n",
       "      <td>1.265017e+06</td>\n",
       "      <td>2.743264e+05</td>\n",
       "      <td>0.000000e+00</td>\n",
       "      <td>1.496671e+06</td>\n",
       "      <td>0.000000e+00</td>\n",
       "      <td>0.000000e+00</td>\n",
       "    </tr>\n",
       "    <tr>\n",
       "      <th>8</th>\n",
       "      <td>11</td>\n",
       "      <td>0.000000e+00</td>\n",
       "      <td>2.020008e+05</td>\n",
       "      <td>1.147782e+04</td>\n",
       "      <td>0.000000e+00</td>\n",
       "      <td>3.333169e+04</td>\n",
       "      <td>5.072869e+05</td>\n",
       "      <td>3.675845e+05</td>\n",
       "      <td>9.222018e+05</td>\n",
       "      <td>2.114264e+05</td>\n",
       "      <td>4.492273e+04</td>\n",
       "    </tr>\n",
       "    <tr>\n",
       "      <th>9</th>\n",
       "      <td>12</td>\n",
       "      <td>0.000000e+00</td>\n",
       "      <td>1.843578e+07</td>\n",
       "      <td>0.000000e+00</td>\n",
       "      <td>5.260435e+05</td>\n",
       "      <td>3.826287e+05</td>\n",
       "      <td>6.010754e+04</td>\n",
       "      <td>1.008830e+05</td>\n",
       "      <td>3.686685e+05</td>\n",
       "      <td>0.000000e+00</td>\n",
       "      <td>5.467692e+06</td>\n",
       "    </tr>\n",
       "    <tr>\n",
       "      <th>10</th>\n",
       "      <td>13</td>\n",
       "      <td>3.369888e+06</td>\n",
       "      <td>2.134265e+07</td>\n",
       "      <td>2.837094e+05</td>\n",
       "      <td>5.708930e+05</td>\n",
       "      <td>1.432145e+08</td>\n",
       "      <td>8.589857e+06</td>\n",
       "      <td>0.000000e+00</td>\n",
       "      <td>9.737191e+04</td>\n",
       "      <td>3.911926e+04</td>\n",
       "      <td>0.000000e+00</td>\n",
       "    </tr>\n",
       "    <tr>\n",
       "      <th>11</th>\n",
       "      <td>14</td>\n",
       "      <td>0.000000e+00</td>\n",
       "      <td>0.000000e+00</td>\n",
       "      <td>0.000000e+00</td>\n",
       "      <td>3.246735e+05</td>\n",
       "      <td>0.000000e+00</td>\n",
       "      <td>2.211452e+05</td>\n",
       "      <td>9.896087e+05</td>\n",
       "      <td>5.122203e+05</td>\n",
       "      <td>4.383140e+07</td>\n",
       "      <td>2.975990e+06</td>\n",
       "    </tr>\n",
       "    <tr>\n",
       "      <th>12</th>\n",
       "      <td>15</td>\n",
       "      <td>4.466182e+05</td>\n",
       "      <td>3.197701e+05</td>\n",
       "      <td>1.117761e+06</td>\n",
       "      <td>0.000000e+00</td>\n",
       "      <td>2.245865e+05</td>\n",
       "      <td>0.000000e+00</td>\n",
       "      <td>2.047018e+04</td>\n",
       "      <td>2.294710e+05</td>\n",
       "      <td>1.307784e+06</td>\n",
       "      <td>0.000000e+00</td>\n",
       "    </tr>\n",
       "    <tr>\n",
       "      <th>13</th>\n",
       "      <td>16</td>\n",
       "      <td>4.179356e+06</td>\n",
       "      <td>0.000000e+00</td>\n",
       "      <td>0.000000e+00</td>\n",
       "      <td>0.000000e+00</td>\n",
       "      <td>0.000000e+00</td>\n",
       "      <td>7.614459e+06</td>\n",
       "      <td>6.609430e+05</td>\n",
       "      <td>6.027020e+04</td>\n",
       "      <td>0.000000e+00</td>\n",
       "      <td>0.000000e+00</td>\n",
       "    </tr>\n",
       "    <tr>\n",
       "      <th>14</th>\n",
       "      <td>17</td>\n",
       "      <td>3.801656e+06</td>\n",
       "      <td>6.907077e+05</td>\n",
       "      <td>1.460726e+05</td>\n",
       "      <td>5.822095e+05</td>\n",
       "      <td>0.000000e+00</td>\n",
       "      <td>0.000000e+00</td>\n",
       "      <td>0.000000e+00</td>\n",
       "      <td>0.000000e+00</td>\n",
       "      <td>0.000000e+00</td>\n",
       "      <td>1.858110e+05</td>\n",
       "    </tr>\n",
       "    <tr>\n",
       "      <th>15</th>\n",
       "      <td>19</td>\n",
       "      <td>0.000000e+00</td>\n",
       "      <td>0.000000e+00</td>\n",
       "      <td>0.000000e+00</td>\n",
       "      <td>0.000000e+00</td>\n",
       "      <td>2.288988e+05</td>\n",
       "      <td>0.000000e+00</td>\n",
       "      <td>0.000000e+00</td>\n",
       "      <td>0.000000e+00</td>\n",
       "      <td>0.000000e+00</td>\n",
       "      <td>0.000000e+00</td>\n",
       "    </tr>\n",
       "    <tr>\n",
       "      <th>16</th>\n",
       "      <td>21</td>\n",
       "      <td>0.000000e+00</td>\n",
       "      <td>0.000000e+00</td>\n",
       "      <td>0.000000e+00</td>\n",
       "      <td>0.000000e+00</td>\n",
       "      <td>0.000000e+00</td>\n",
       "      <td>0.000000e+00</td>\n",
       "      <td>0.000000e+00</td>\n",
       "      <td>0.000000e+00</td>\n",
       "      <td>0.000000e+00</td>\n",
       "      <td>3.311387e+04</td>\n",
       "    </tr>\n",
       "    <tr>\n",
       "      <th>17</th>\n",
       "      <td>24</td>\n",
       "      <td>0.000000e+00</td>\n",
       "      <td>0.000000e+00</td>\n",
       "      <td>0.000000e+00</td>\n",
       "      <td>0.000000e+00</td>\n",
       "      <td>1.792126e+06</td>\n",
       "      <td>0.000000e+00</td>\n",
       "      <td>0.000000e+00</td>\n",
       "      <td>0.000000e+00</td>\n",
       "      <td>0.000000e+00</td>\n",
       "      <td>0.000000e+00</td>\n",
       "    </tr>\n",
       "    <tr>\n",
       "      <th>18</th>\n",
       "      <td>29</td>\n",
       "      <td>0.000000e+00</td>\n",
       "      <td>0.000000e+00</td>\n",
       "      <td>0.000000e+00</td>\n",
       "      <td>0.000000e+00</td>\n",
       "      <td>0.000000e+00</td>\n",
       "      <td>2.460068e+05</td>\n",
       "      <td>0.000000e+00</td>\n",
       "      <td>0.000000e+00</td>\n",
       "      <td>0.000000e+00</td>\n",
       "      <td>0.000000e+00</td>\n",
       "    </tr>\n",
       "  </tbody>\n",
       "</table>\n",
       "</div>"
      ],
      "text/plain": [
       "    jour_du_mois   C1023714065   C1286084959   C1360767589   C1590550415  \\\n",
       "0              1  2.459328e+07  3.147544e+07  3.167217e+07  3.928447e+07   \n",
       "1              2  7.686254e+05  2.345857e+06  4.630604e+05  1.179350e+06   \n",
       "2              4  0.000000e+00  0.000000e+00  0.000000e+00  2.604924e+05   \n",
       "3              6  1.312346e+06  1.445515e+06  4.511472e+05  0.000000e+00   \n",
       "4              7  1.829438e+05  1.056223e+05  2.248765e+05  3.759431e+05   \n",
       "5              8  4.035945e+05  3.509572e+05  1.832368e+05  7.151060e+03   \n",
       "6              9  9.928717e+05  2.874242e+05  1.643154e+05  9.487539e+04   \n",
       "7             10  2.351739e+06  4.272261e+05  4.034651e+05  0.000000e+00   \n",
       "8             11  0.000000e+00  2.020008e+05  1.147782e+04  0.000000e+00   \n",
       "9             12  0.000000e+00  1.843578e+07  0.000000e+00  5.260435e+05   \n",
       "10            13  3.369888e+06  2.134265e+07  2.837094e+05  5.708930e+05   \n",
       "11            14  0.000000e+00  0.000000e+00  0.000000e+00  3.246735e+05   \n",
       "12            15  4.466182e+05  3.197701e+05  1.117761e+06  0.000000e+00   \n",
       "13            16  4.179356e+06  0.000000e+00  0.000000e+00  0.000000e+00   \n",
       "14            17  3.801656e+06  6.907077e+05  1.460726e+05  5.822095e+05   \n",
       "15            19  0.000000e+00  0.000000e+00  0.000000e+00  0.000000e+00   \n",
       "16            21  0.000000e+00  0.000000e+00  0.000000e+00  0.000000e+00   \n",
       "17            24  0.000000e+00  0.000000e+00  0.000000e+00  0.000000e+00   \n",
       "18            29  0.000000e+00  0.000000e+00  0.000000e+00  0.000000e+00   \n",
       "\n",
       "     C1789550256   C2083562754    C248609774    C451111351    C665576141  \\\n",
       "0   2.514704e+07  3.475213e+07  3.717157e+07  3.039493e+07  3.931057e+07   \n",
       "1   2.712449e+06  3.976759e+05  3.449218e+05  8.114452e+05  1.598291e+06   \n",
       "2   5.169173e+05  0.000000e+00  0.000000e+00  0.000000e+00  0.000000e+00   \n",
       "3   7.770315e+05  1.589081e+04  7.456667e+05  6.512577e+05  5.269972e+05   \n",
       "4   2.913187e+05  7.701785e+04  2.785157e+05  9.216808e+05  5.201813e+05   \n",
       "5   1.100282e+06  3.180361e+05  0.000000e+00  2.275653e+04  1.350487e+06   \n",
       "6   1.990911e+05  0.000000e+00  0.000000e+00  9.640859e+05  5.312217e+04   \n",
       "7   1.265017e+06  2.743264e+05  0.000000e+00  1.496671e+06  0.000000e+00   \n",
       "8   3.333169e+04  5.072869e+05  3.675845e+05  9.222018e+05  2.114264e+05   \n",
       "9   3.826287e+05  6.010754e+04  1.008830e+05  3.686685e+05  0.000000e+00   \n",
       "10  1.432145e+08  8.589857e+06  0.000000e+00  9.737191e+04  3.911926e+04   \n",
       "11  0.000000e+00  2.211452e+05  9.896087e+05  5.122203e+05  4.383140e+07   \n",
       "12  2.245865e+05  0.000000e+00  2.047018e+04  2.294710e+05  1.307784e+06   \n",
       "13  0.000000e+00  7.614459e+06  6.609430e+05  6.027020e+04  0.000000e+00   \n",
       "14  0.000000e+00  0.000000e+00  0.000000e+00  0.000000e+00  0.000000e+00   \n",
       "15  2.288988e+05  0.000000e+00  0.000000e+00  0.000000e+00  0.000000e+00   \n",
       "16  0.000000e+00  0.000000e+00  0.000000e+00  0.000000e+00  0.000000e+00   \n",
       "17  1.792126e+06  0.000000e+00  0.000000e+00  0.000000e+00  0.000000e+00   \n",
       "18  0.000000e+00  2.460068e+05  0.000000e+00  0.000000e+00  0.000000e+00   \n",
       "\n",
       "      C985934102  \n",
       "0   3.171760e+07  \n",
       "1   1.051542e+06  \n",
       "2   2.221072e+05  \n",
       "3   0.000000e+00  \n",
       "4   4.167365e+05  \n",
       "5   1.490547e+05  \n",
       "6   1.583195e+05  \n",
       "7   0.000000e+00  \n",
       "8   4.492273e+04  \n",
       "9   5.467692e+06  \n",
       "10  0.000000e+00  \n",
       "11  2.975990e+06  \n",
       "12  0.000000e+00  \n",
       "13  0.000000e+00  \n",
       "14  1.858110e+05  \n",
       "15  0.000000e+00  \n",
       "16  3.311387e+04  \n",
       "17  0.000000e+00  \n",
       "18  0.000000e+00  "
      ]
     },
     "execution_count": 17,
     "metadata": {},
     "output_type": "execute_result"
    }
   ],
   "source": [
    "pd.read_csv('data/amount_top_7_dest.csv')"
   ]
  },
  {
   "cell_type": "code",
   "execution_count": 1,
   "metadata": {},
   "outputs": [
    {
     "data": {
      "text/html": [
       "<style type=\"text/css\">\n",
       "#T_b3e79_row0_col0, #T_b3e79_row0_col2 {\n",
       "  width: 10em;\n",
       "  background: linear-gradient(90deg, transparent 50.0%, lightblue 50.0%, lightblue 62.5%, transparent 62.5%);\n",
       "}\n",
       "#T_b3e79_row0_col1 {\n",
       "  width: 10em;\n",
       "  background: linear-gradient(90deg, transparent 50.0%, lightblue 50.0%, lightblue 66.7%, transparent 66.7%);\n",
       "}\n",
       "#T_b3e79_row1_col0, #T_b3e79_row1_col2 {\n",
       "  width: 10em;\n",
       "  background: linear-gradient(90deg, transparent 50.0%, lightblue 50.0%, lightblue 75.0%, transparent 75.0%);\n",
       "}\n",
       "#T_b3e79_row1_col1 {\n",
       "  width: 10em;\n",
       "  background: linear-gradient(90deg, transparent 50.0%, lightblue 50.0%, lightblue 77.8%, transparent 77.8%);\n",
       "}\n",
       "#T_b3e79_row2_col0, #T_b3e79_row2_col2 {\n",
       "  width: 10em;\n",
       "  background: linear-gradient(90deg, transparent 50.0%, lightblue 50.0%, lightblue 87.5%, transparent 87.5%);\n",
       "}\n",
       "#T_b3e79_row2_col1 {\n",
       "  width: 10em;\n",
       "  background: linear-gradient(90deg, transparent 50.0%, lightblue 50.0%, lightblue 88.9%, transparent 88.9%);\n",
       "}\n",
       "#T_b3e79_row3_col0, #T_b3e79_row3_col1, #T_b3e79_row3_col2 {\n",
       "  width: 10em;\n",
       "  background: linear-gradient(90deg, transparent 50.0%, lightblue 50.0%, lightblue 100.0%, transparent 100.0%);\n",
       "}\n",
       "</style>\n",
       "<table id=\"T_b3e79\">\n",
       "  <thead>\n",
       "    <tr>\n",
       "      <th class=\"blank level0\" >&nbsp;</th>\n",
       "      <th id=\"T_b3e79_level0_col0\" class=\"col_heading level0 col0\" >Colonne A</th>\n",
       "      <th id=\"T_b3e79_level0_col1\" class=\"col_heading level0 col1\" >Colonne B</th>\n",
       "      <th id=\"T_b3e79_level0_col2\" class=\"col_heading level0 col2\" >Colonne C</th>\n",
       "    </tr>\n",
       "  </thead>\n",
       "  <tbody>\n",
       "    <tr>\n",
       "      <th id=\"T_b3e79_level0_row0\" class=\"row_heading level0 row0\" >0</th>\n",
       "      <td id=\"T_b3e79_row0_col0\" class=\"data row0 col0\" >10</td>\n",
       "      <td id=\"T_b3e79_row0_col1\" class=\"data row0 col1\" >15</td>\n",
       "      <td id=\"T_b3e79_row0_col2\" class=\"data row0 col2\" >5</td>\n",
       "    </tr>\n",
       "    <tr>\n",
       "      <th id=\"T_b3e79_level0_row1\" class=\"row_heading level0 row1\" >1</th>\n",
       "      <td id=\"T_b3e79_row1_col0\" class=\"data row1 col0\" >20</td>\n",
       "      <td id=\"T_b3e79_row1_col1\" class=\"data row1 col1\" >25</td>\n",
       "      <td id=\"T_b3e79_row1_col2\" class=\"data row1 col2\" >10</td>\n",
       "    </tr>\n",
       "    <tr>\n",
       "      <th id=\"T_b3e79_level0_row2\" class=\"row_heading level0 row2\" >2</th>\n",
       "      <td id=\"T_b3e79_row2_col0\" class=\"data row2 col0\" >30</td>\n",
       "      <td id=\"T_b3e79_row2_col1\" class=\"data row2 col1\" >35</td>\n",
       "      <td id=\"T_b3e79_row2_col2\" class=\"data row2 col2\" >15</td>\n",
       "    </tr>\n",
       "    <tr>\n",
       "      <th id=\"T_b3e79_level0_row3\" class=\"row_heading level0 row3\" >3</th>\n",
       "      <td id=\"T_b3e79_row3_col0\" class=\"data row3 col0\" >40</td>\n",
       "      <td id=\"T_b3e79_row3_col1\" class=\"data row3 col1\" >45</td>\n",
       "      <td id=\"T_b3e79_row3_col2\" class=\"data row3 col2\" >20</td>\n",
       "    </tr>\n",
       "  </tbody>\n",
       "</table>\n"
      ],
      "text/plain": [
       "<pandas.io.formats.style.Styler at 0x1e8f42ad070>"
      ]
     },
     "execution_count": 1,
     "metadata": {},
     "output_type": "execute_result"
    }
   ],
   "source": [
    "import pandas as pd\n",
    "import numpy as np\n",
    "\n",
    "# Exemple de données\n",
    "data = {\n",
    "    'Colonne A': [10, 20, 30, 40],\n",
    "    'Colonne B': [15, 25, 35, 45],\n",
    "    'Colonne C': [5, 10, 15, 20]\n",
    "}\n",
    "df = pd.DataFrame(data)\n",
    "\n",
    "# Appliquer le style de barre\n",
    "styled_df = df.style.bar(align='zero', color='lightblue')\n",
    "\n",
    "# Afficher le tableau stylisé\n",
    "styled_df"
   ]
  },
  {
   "cell_type": "code",
   "execution_count": 20,
   "metadata": {},
   "outputs": [
    {
     "data": {
      "application/vnd.plotly.v1+json": {
       "config": {
        "plotlyServerURL": "https://plot.ly"
       },
       "data": [
        {
         "alignmentgroup": "True",
         "hovertemplate": "amount=%{x}<br>type=%{y}<extra></extra>",
         "legendgroup": "",
         "marker": {
          "color": "#B85C00",
          "line": {
           "color": "black",
           "width": 1
          }
         },
         "name": "",
         "notched": false,
         "offsetgroup": "",
         "opacity": 1,
         "orientation": "h",
         "showlegend": false,
         "type": "box",
         "x": [
          940584138.4548608,
          1576448970.0187674,
          4834670.6220703125,
          851849.5210647583,
          325071.4486694336,
          85500789.51052856,
          2741453.953125,
          2826971872.2453046,
          1923864054.0347824,
          44361782.833984375,
          1672559.4765625,
          1506829.126953125,
          149756881.08876145,
          710527239.8858032,
          3127637.435985565,
          130047919.91095877,
          1273724.2887039185,
          324800656.52453613,
          5900694.28125,
          2231683629.8558865,
          2089011922.219935,
          1549153410.159729,
          1038754.7684020996,
          2238725.480911255,
          15014460.35546875,
          21161287.310546875,
          1319420814.2681465,
          649643.2588500977,
          352211954.34454346,
          2581932082.7098694,
          222013693.71565247,
          173497410.05092907,
          141310397.97394562,
          1419458564.629639,
          1313660.828125,
          58904798.75913596,
          16897097.74609375,
          1096585316.605362,
          8501799.147503257,
          2484575.421875,
          16723161.08203125,
          47601.61979675293,
          17962750.40625,
          25361766.81030273,
          124297366.3125,
          2629174023.303646,
          3221499.77734375,
          8177430.737401009,
          1714817153.9162292,
          553543029.1039429,
          183183381.46603632,
          4680910.1328125,
          147910524.39295226,
          6445709.981933594,
          154625987.75942945,
          8188198.389648437,
          171257205.97557443,
          2064179260.45758,
          21762995.546875,
          196055874.54071355,
          238091.6113433838,
          76739357.16446829,
          2541774479.4120445,
          21762995.546875,
          5604072.375,
          769895654.3757553,
          115059218.05602407,
          1546801.4611825943,
          472868.5697784424,
          1746535418.5250769,
          34583837.01074219,
          7743884.55859375,
          112630220.51542664,
          18305642.84863281,
          15783791.785081623,
          32496559.935546875,
          5651531.5625,
          4323576.03125,
          1554706.0410385132,
          12853918.666992188,
          8188198.389648437,
          2794368231.6450195,
          7996242.875,
          96379.84985351562,
          110810265.70487976,
          1983049729.4013064,
          139277651.07383728,
          514543.5538816452,
          1982773653.423828,
          1113014067.7027197,
          651968262.6348763,
          37410031.003133535,
          2531010.33203125,
          173847778.76094234,
          1262506.116159439,
          52998161.47021485,
          25373574.30029297,
          1435192196.2865982,
          2484575.421875,
          7743884.55859375,
          110812002.23666382,
          2217192563.024369,
          2347358597.749075,
          7340664.06640625,
          205453417.6967163,
          11038690.25,
          630057.6791877747,
          965062.3387527466,
          354589.09872436523,
          2531010.33203125,
          1103.8299560546875,
          2769687851.4590454,
          552317583.7494278,
          5163187.32421875,
          2985307.5625,
          82797.91990661621,
          1091864291.4192238,
          5101797.7265625,
          1028958.693435669,
          4156666.9453125,
          1470624,
          257848745.6109619,
          1580438521.679573,
          5714.909942626953,
          1995123338.9121475,
          1678635811.730135,
          1154726076.0061398,
          3613110.7890625,
          2837199061.2934685,
          674028.8422966003,
          6308950.713378906,
          6522057.0234375,
          1231411.2788238523,
          2741453.953125,
          614147.7782049179,
          327484.7788553238,
          930306.0200538636,
          1717238.2519760132,
          311853.46943473816,
          491233318.563858,
          1877059.35546875,
          1995054148.83609,
          2558732593.8207703,
          10303008.579101562,
          1809671395.2246215,
          11476.22004699707,
          1543245213.2221832,
          46765734.41523743,
          1505110461.6408691,
          1971403404.5819244,
          4680910.1328125,
          2271034.832813263,
          7763016.2265625,
          7763016.2265625,
          6827675.6376953125,
          5304155.1328125,
          970195.3860549928,
          548522181.5659943,
          3130803.07421875,
          5900694.28125,
          6677644.4140625,
          220436.15983200076,
          2747818498.370363,
          168557968.8062426,
          1398498808.979496,
          3882269.515625,
          2667510.2109375,
          2822789751.3371925,
          4323576.03125,
          165058098.35901642,
          491190.4015350342,
          2667510.2109375,
          68691503.25341797,
          20416314.1640625,
          38645571.38488267,
          968802.6369609832,
          1623087174.7631836,
          178955574.03125,
          1675979955.5379057,
          21026335.45166874,
          507625.638589859,
          1208102546.1299973,
          3080487268.5794296,
          16082360.744628906,
          37675.98027420044,
          6203793.34765625,
          166049774.41537476,
          3028075622.2645054,
          174804220.87347412,
          1078790.55859375,
          1198419155.691986,
          131501669.5180746,
          151899799.97013775,
          1583403928.4205437,
          7427701.8125,
          646821026.2402344,
          1176643.3299293518,
          1974842387.1298215,
          1621799704.4485106,
          834401805.1431427,
          6031120.5859375,
          487600.462890625,
          347096.39160203934,
          2270550219.344665,
          3083640557.016199,
          1788799.21875,
          7427701.8125,
          2141292945.1572263,
          1340350660.1572018,
          49942785.80529308,
          10899785.1484375,
          9184709.3828125,
          59580753.71812892,
          1891001087.425171,
          19225.779724121094,
          262554253.67726895,
          608840.21875,
          1291237.2587890625,
          17877538.63244629,
          1158915051.5453415,
          8944374.096939087,
          10387255.34765625,
          1839140211.7854004,
          1454386784.1558075,
          1094176296.3717108,
          1988499.578125,
          2280316782.9029827,
          1620696608.7690735,
          97613785.71805418,
          1059432.067369461,
          1536568941.08327,
          2256158.28125,
          3194588664.9849014,
          44478686.37875652,
          2644895.460729122,
          1650151000.2437344,
          2053394.8798828125,
          107824582.8175786,
          7481237.974121094,
          387519.6678161621,
          1177300.28125,
          44972232.119628906,
          2021291856.47522,
          110960606.90014648,
          5304155.1328125,
          77165607.20617676,
          299262.62019348145,
          12809469.05053711,
          1041060.463912964,
          116172192.22906636,
          1480154004.9800663,
          14941178.919921877,
          11044602.388671877,
          2558380555.4437027,
          421669035.9251404,
          1435300435.3318405,
          84876354.05403423,
          1496311.3125,
          17314021.125,
          116802546.39600624,
          145244159.48967743,
          16723161.08203125,
          1234779.9600982666,
          26782782.439453125,
          2370571297.2606506,
          8337616.694694042,
          474920852.6500549,
          126919325.99531102,
          2845729053.919495,
          11038690.25,
          1186542840.2934022,
          4422757.65625,
          38096012.50162125,
          2618061805.408943,
          10845837.36767578,
          1479351776.0006714,
          15942243.380371094,
          334714353.1478195,
          209096.7591176033,
          14174436.70336914,
          126101947.90734148,
          2076363.51953125,
          130869550.34404874,
          2007742679.221283,
          17906237.2890625,
          3613110.7890625,
          500765.5102844238,
          465122.9714202881,
          120135787.88963938,
          1645539670.2364657,
          1653431569.6835022,
          121290087.44773483,
          1877059.35546875,
          290875420.940918,
          13891966.676269531,
          1291237.2587890625,
          2169942.501953125,
          125922169.11196624,
          110667994.16374016,
          23705176.892578125,
          2525912.26953125,
          85275735.41897583,
          33304210.999938965,
          106019151.37324668,
          1605664848.1137085,
          30658836.848754168,
          118587983.4857136,
          652321.3810129166,
          152296957.67059326,
          1496311.3125,
          513096303.9645996,
          1209317900.3921776,
          3072409623.6845226,
          7996242.875,
          21176788.54382324,
          2256158.28125,
          7007292.21875,
          3874487.25,
          119988759.18596686,
          1569375.789932251,
          148564624.515871,
          1272542234.1191485,
          487600.462890625,
          2053394.8798828125,
          1860591.143125534,
          5401384.96875,
          204636175.0830841,
          1526867.484375,
          4194083.013671875,
          1991413571.5130424,
          2943410851.103012,
          1325136.0522499084,
          87103031.99987793,
          6522057.0234375,
          3874487.25,
          122232.22052764893,
          1110662618.6669922,
          2169942.501953125,
          1341573.907562256,
          2777325467.5525284,
          1237424711.3791952,
          2015667541.548096,
          702759755.2972717,
          1215836.7895531654,
          4194083.013671875,
          2241390885.6031494,
          2089351276.980774,
          85105901.51098633,
          2510366383.864483,
          20416314.1640625,
          432135078.795166,
          1868721005.9135816,
          1896238979.8729289,
          1476124447.867508,
          18305642.84863281,
          6031120.5859375,
          6203793.34765625,
          723874794.160984,
          1167286599.3630524,
          958296.4674758912,
          166623077.17086133,
          5101059.3671875,
          164235951.62205887,
          1624930276.7208445,
          154097525.9114282,
          2076363.51953125,
          179934633.37044072,
          2453662960.4697123,
          4754973.516927719,
          47220312.07669592,
          582399.2510986328,
          21006775.09960937,
          2031564170.7999592,
          608840.21875,
          28342000.67604816,
          202473051.06565857,
          96782932.7941742,
          1600335.0050582886,
          20729184.5546875,
          1236297245.6149292,
          35377857.16040039,
          761465.9503631592,
          977936068.0676132,
          1552509172.4081488,
          75966302.4912591,
          20665740.61279297,
          6677644.4140625,
          25222710.809570312,
          1119875.676973343,
          2353131974.4396057,
          16897097.74609375,
          56327474.808250606,
          393112177.24783325,
          999257.7360458374,
          1326524315.7361317,
          441808.4410362244,
          24693733.16210937,
          12853918.666992188,
          1378115225.802967,
          2030617588.368916,
          2915950948.328354,
          1233864.928791046,
          144851816.9028176,
          1313660.828125,
          2220246667.7193604,
          4807049.474609375,
          5401384.96875,
          379486.8423584104,
          66629775.86645508,
          3322879186.6088715,
          1342679682.6219215,
          787140141.5920105,
          9674965.890625,
          68622262.32929707,
          8163413.876876831,
          33305060.40576172,
          6827675.6376953125,
          1622714798.501339,
          899031.1496601105,
          1177300.28125,
          32703015.519788746,
          25071346.08874512,
          69496.58979797363,
          363260892.6214218,
          1470624,
          29924189.4375,
          17962750.40625,
          1177825990.0855217,
          31606.649974942207,
          1247831201.5253124,
          472993.83904373646,
          17906237.2890625,
          834013340.0414429,
          6445709.981933594,
          161615881.39112043,
          338575.2083854676,
          295171.4498023987,
          42418.8515625,
          507754.2903213501,
          686957.98097229,
          199875324.54867932,
          11044602.388671877,
          1527775524.785122,
          6463563.990234375,
          14089518.300292969,
          4156666.9453125,
          15574004.934936523,
          101839965.1554784,
          1577493409.8911743,
          27209790.50250101,
          240648.46954345703,
          226420.71993255612,
          14941178.919921877,
          29924189.4375,
          5604072.375,
          88319.979347229,
          6463563.990234375,
          1223680814.4119415,
          1672559.4765625,
          1078790.55859375,
          250519416.4333191,
          21006775.09960937,
          420153.3691062927,
          3882269.515625,
          922288985.8799917,
          30301591.58834076,
          116359927.99368492,
          191027137.2959304,
          23541190.368896484,
          3110507762.3939104,
          6308950.713378906,
          240998031.69452667,
          42418.8515625,
          21552634.94763184,
          3011608.7925453186,
          9674965.890625,
          2727467903.8597345,
          21678967.974365234,
          90481.74069213869,
          3313900.6530978084,
          9184709.3828125,
          671755.258972168,
          100778654.69970304,
          2337771319.2721024,
          2119765112.7593384,
          3937091.68482399,
          1926867381.2364504,
          1596204297.3210258,
          214319862.33628845,
          2533949644.466711,
          2283627183.3409333,
          1537005109.8737006,
          1388800804.7847023,
          2029746499.2592468,
          10387255.34765625,
          905507.9666099548,
          7007292.21875,
          1924126978.190216,
          1487657046.1023116,
          11904.760009765623,
          1611232054.9464111,
          105910.33233642578,
          1788799.21875,
          1526867.484375,
          663632.3317565918,
          29722267.24329448,
          19133672.14141512,
          152353928.77572477,
          65128125.02274251,
          344543930.5363159,
          5101059.3671875,
          370032352.5865669,
          452020.82859802246,
          3221499.77734375,
          126097823.03295684,
          1506829.126953125,
          177711682.81423116,
          16190378.607421877,
          247239278.27244568,
          374708.1207885742,
          1988499.578125,
          160226377.93740416,
          277615800.875,
          391666914.614624,
          28317121.750671387,
          2013377110.281464,
          15843400.68717718,
          12809469.05053711,
          1530614081.4296875,
          5163187.32421875,
          2985307.5625,
          305336971.1639404,
          1451845333.5183716,
          1403434634.055191,
          1943657.892337799,
          16676090.174316406,
          10899785.1484375,
          2525912.26953125,
          611739.632561326,
          12249798.456279757,
          1247569665.9663696,
          3130803.07421875,
          22721281.647460938,
          82661437.20222747,
          26782782.439453125,
          4422757.65625,
          20729184.5546875,
          167968354.6064453,
          2082739609.5079997,
          548880768.1871967,
          2095785967.9397907,
          494387962.8274689,
          430081.6286907196,
          1428266.3525848389,
          8163413.876876831,
          11619488.21142578,
          1730551712.4046936,
          3786772.36328125,
          5101797.7265625,
          1306701851.6577454,
          1926517221.5611567,
          7340664.06640625,
          17314021.125,
          487515965.8192864,
          125495137.09986876,
          1076842988.2493591,
          60950.610246658325,
          13663938.248046877,
          1681403.6171875,
          492761.4793395996,
          1195533280.7922363,
          536810.6501159668,
          812345.8828125,
          677332740.1047587,
          185042.93949890137,
          2684479443.3580017,
          1270005281.290392,
          1904866.590309143,
          760100102.3720474,
          3080625.83984375,
          2353357825.833709,
          2729404.044473648,
          592661110.4932117,
          4843548.46875,
          1425000704.4387913,
          476396.51198482513,
          90112661.669322,
          1059933213.200878,
          580926.5806560516,
          4281422.08203125,
          22845700.115020752,
          142974614.0121268,
          5075902.1640625,
          2827008432.2891235,
          789941.2746047974,
          2447486.78125,
          1095641567.8761787,
          132542341.3616712,
          39527836.12487793,
          1811579625.1620595,
          1151875051.2350578,
          2053672.2942810056,
          1595281697.2791672,
          116304169.12553534,
          2105736.139427185,
          11118942.12890625,
          1327610442.3215332,
          36285255.01742554,
          1681899407.4294071,
          425083.64008283615,
          94592795.4320755,
          351450.7912211418,
          2805593786.167179,
          37392425.25,
          67023608.85204148,
          1970084239.5447464,
          2015905562.339562,
          110559458.93658803,
          525739667.24651337,
          558112.6892089844,
          7487699.46875,
          110382120.2370336,
          258067517.96640012,
          13089572.7265625,
          117165034.63042212,
          83574395.29223824,
          1833472336.495987,
          49841472.951538086,
          1753454217.3980217,
          10117495.90234375,
          21225767.13474216,
          124943623.9091568,
          598089.8793640137,
          1893184894.7474797,
          184212.61058044437,
          107312169.68813288,
          796935663.6442871,
          1463742.3900909424,
          1279365575.7136536,
          298707.10579299927,
          107906195.55542123,
          3237779.015625,
          726716.0345611572,
          16031456.22058198,
          100055364.33807372,
          332187.31886291504,
          1315849084.4085455,
          595520.9404754639,
          1952616671.2306635,
          1286987487.04245,
          761519477.2889404,
          1710334598.6584716,
          1214045275.957014,
          1086204855.785163,
          381480.1826019287,
          1999673087.723341,
          210413374.78232485,
          87020995.87629992,
          739768.1777226925,
          94745271.80064178,
          1417583663.730011,
          975779548.8810948,
          1023364378.0250992,
          2974650.12109375,
          1642788135.932541,
          143317017.4772339,
          2345185927.6299734,
          2811202538.0935936,
          4692380.31640625,
          27128037.275482178,
          1176329742.7844486,
          297635240.12112427,
          52333991.83907163,
          10117495.90234375,
          130572991.05429824,
          629665733.656189,
          270640097.572464,
          99009565.19739568,
          1611572065.793213,
          2622911776.160156,
          157587324.66374996,
          1997252945.5860212,
          3293724.234375,
          801097.2000236511,
          2747966573.734229,
          3355222.1988754272,
          31100379.348388672,
          528019.7406721115,
          482112818.8898926,
          465091.35730552673,
          1427855892.2976685,
          112619264.32821491,
          2181076529.4705067,
          269933515.29424334,
          161641.63025045395,
          908911.7797727584,
          610689.6014137268,
          2481847396.46994,
          1251403346.266646,
          3293724.234375,
          278087435.3532734,
          170963554.39123535,
          271064672.59558105,
          21490529.5,
          9438142.3119812,
          947896295.0700492,
          16453435.803909568,
          108724155.321714,
          14121887.25390625,
          1196035436.0528564,
          395069500.97817993,
          119444587.64982724,
          19776602.28515625,
          91714364.51498032,
          992760784.042203,
          1465689843.589012,
          13769.580078125,
          144070437.9364748,
          2027215.15127182,
          2447486.78125,
          1184614282.7583618,
          82252934.21834973,
          7978800.314609528,
          931427238.0177687,
          13649662.810302734,
          791894827.8340433,
          1944904849.2679536,
          418399.6696062088,
          1863712047.194275,
          2395893317.765197,
          2080833337.5154724,
          1920330643.106018,
          214212944.89770508,
          50735345.17736816,
          631778236.0964966,
          195952562.6301293,
          373009.1314716339,
          13649662.810302734,
          1350026529.9829082,
          1758042881.373642,
          1324336756.440918,
          2218778028.3574905,
          679888637.5367584,
          584620.9571533203,
          99328219.15994264,
          282499.8599281311,
          271328.93017578125,
          33867515.71772742,
          494491450.2677002,
          1494911450.5409737,
          2974650.12109375,
          14121887.25390625,
          226757352.65885043,
          101457511.50746012,
          1310049201.9157562,
          1339659953.706356,
          594221407.9924316,
          201430230.71281865,
          112797558.98439884,
          8123938.0625,
          1350000.4375,
          70543610.53503667,
          711505.4301719666,
          213418.18081474304,
          52043079.84199369,
          109508255.50250244,
          1765678379.5207825,
          1223009722.5397348,
          1244107381.0720978,
          597232.5557365417,
          710400.3217983246,
          846068.7802734375,
          64825358.6026721,
          91669352.13231218,
          156524767.13278246,
          33504935.47439289,
          846068.7802734375,
          3656420.09375,
          1979456895.4512272,
          1557888294.0804443,
          2283211214.23012,
          2041471143.5129397,
          2643093.015625,
          141421794.36502498,
          262920.3095178604,
          979337211.8289796,
          1294307.7483978271,
          416725958.37545776,
          15618193.309404371,
          419847.1287536621,
          1713330097.7110176,
          56641632.92048788,
          77572198.75610352,
          911844745.365139,
          835492.1508331299,
          2134916253.4538825,
          7958483.752441406,
          1170793996.0295496,
          15417260.71875,
          24573166.60131836,
          1053779484.799983,
          538766749.2985382,
          596549842.3306317,
          18851316.137695312,
          190488198.56834388,
          1243747917.3916016,
          98201756.78249644,
          503428.4514770508,
          236784804.5854492,
          38880326.76096845,
          40939115.921875,
          3307330.525024414,
          11118942.12890625,
          2643093.015625,
          361132599.3027277,
          1725468872.114448,
          2858251495.7426863,
          439744734.36523247,
          1722769717.3441772,
          13032754.810546877,
          1827063849.6536024,
          130879875.39403544,
          1410080393.9552343,
          1253329699.2769775,
          350253481.4004898,
          2108752007.6353877,
          894627.580039978,
          121377115.57681942,
          13089572.7265625,
          2071544509.7110243,
          1033567239.1730824,
          1281054094.177682,
          576535.938041687,
          1967390009.550672,
          520483.6301994324,
          60469902.55149411,
          865043.5629701614,
          81816952.66432133,
          171524854.4875539,
          575849.3393630981,
          113018883.2495756,
          2015328260.359732,
          218911091.04385376,
          422610.3812103272,
          2333483470.71933,
          501454469.90253353,
          8123938.0625,
          107675958.0318836,
          98662.25934076308,
          1064914929.529026,
          1655946105.6447754,
          602529795.4932764,
          2818413098.976265,
          47304673.80572447,
          2082013.2634215355,
          161683230.935112,
          1210747742.803223,
          2090196446.0873568,
          1248313379.0221825,
          1211934782.7759628,
          116924739.7536323,
          459432.9698562622,
          4281422.08203125,
          46192430.75488281,
          812345.8828125,
          1731484375.7199955,
          151968408.05173445,
          687017816.7066803,
          1513534534.3538742,
          584196.4705276489,
          4843548.46875,
          486513796.2209549,
          2399282232.3848524,
          458010072.12420654,
          1337017442.74115,
          1983598592.0028992,
          477888650.0544739,
          3656420.09375,
          2562864795.7874146,
          1087839046.2778397,
          2076856073.426516,
          2499483,
          822124861.0844574,
          492324.6986236572,
          490647.36003398895,
          1569255679.633896,
          18655664.215820312,
          389130630.60427856,
          525110.3799819946,
          3237779.015625,
          1702650468.400154,
          551009.7310771942,
          198087.3601064682,
          2250300195.9129486,
          1860846191.9920795,
          97417305.78239992,
          473817.4385576248,
          124231370.48054886,
          1722568230.601181,
          1121115741.985695,
          346187450.05155945,
          336149.33873033524,
          216864528.2552185,
          46600770.961603165,
          283758.9292831421,
          154404552.89688468,
          1630383187.4722672,
          656713.7618179321,
          587738.9641113281,
          1350000.4375,
          14365.359771728516,
          1470967052.166748,
          802683.457939148,
          1021815798.308464,
          32166112.438598637,
          13663938.248046877,
          147517421.19275844,
          668167100.6519012,
          1502922285.7801514,
          2183723382.0510178,
          1556379000.984253,
          1320554041.8750954,
          130749.13988113403,
          2261692259.7273703,
          1681403.6171875,
          1230566605.7555945,
          23268350.95655155,
          29636357.96655273,
          19357284.10217285,
          1285694659.3371124,
          1717737114.392376,
          308560364.42626953,
          6612955.966739893,
          1235652314.580429,
          1466577646.8265915,
          49578013.576776505,
          188187845.3520508,
          1243672864.680672,
          211353038.65122983,
          2612491292.3582764,
          19776602.28515625,
          363803629.5765762,
          1031491137.4421996,
          357672.2003364563,
          157911083.25392067,
          1222215901.3284264,
          1536704568.9819946,
          182934671.4312744,
          779488.1320419312,
          1833114872.0755613,
          49948686.94537568,
          2309904487.7528,
          2323224184.642745,
          109112430.77447766,
          223794199.5725129,
          2015869314.916031,
          3080625.83984375,
          15417260.71875,
          2251977967.0264907,
          5075902.1640625,
          1210249808.469988,
          1123080930.1017303,
          516104010.5629196,
          1031321554.2248536,
          1570733416.3323977,
          1108882.89420259,
          2039378168.8705444,
          270857.6989974976,
          2499483,
          1097661345.217163,
          1926412.892692566,
          103717963.92570242,
          1969299487.6015549,
          4547601362.2595215,
          3854187.90625,
          423649.37022805214,
          639233652.5340481,
          224146726.46592712,
          120582006.3844242,
          421695.3579876423,
          653819323.5600891,
          403432.6012496948,
          3854187.90625,
          15393450.3125,
          182354142.7699895,
          3820167023.522583,
          1633913905.1936274,
          579071756.3753204,
          768944.1267280579,
          1736054.4388751984,
          1108198124.5873413,
          1301112.222169876,
          431331531.6637516,
          905488614.859829,
          6624422.5830078125,
          1986699470.0884247,
          2069118690.1241376,
          353202124.2841568,
          1840545165.1196597,
          1106702161.4921389,
          2542384.994861603,
          180391714.7864914,
          1162818635.4107666,
          1958988411.0348413,
          164473.23986816406,
          4639712.609375,
          2195051516.8979607,
          2419888.8901367188,
          276872.2892341614,
          831565.8816051483,
          1273804439.6583748,
          1051091341.0292932,
          108602607.11079071,
          2419888.8901367188,
          2407666917.056267,
          55339639.32714844,
          24936705.08984375,
          3457625047.3258514,
          11625368.125,
          361252803.7709808,
          226517124.6899252,
          1001345.1995162964,
          501283.4940395355,
          1580548076.507576,
          417774.1322784424,
          15052100081.990936,
          118497777.36853027,
          26297833.37273407,
          160407527.12564182,
          1367143104.5055237,
          90963314.03366712,
          2365258903.341034,
          16600859.587402344,
          701471.0414886475,
          1692354.6875,
          1083317423.427948,
          1650148371.825348,
          1906009377.188332,
          556836.6900463104,
          327350.86126708984,
          212360.1902923584,
          138519818.18566608,
          109633843.79411292,
          11073372.27669406,
          2623077.28125,
          8678193551.247559,
          405076.90966415405,
          2424555705.9330444,
          38569940.88381958,
          524267963.2094727,
          5006693152.843903,
          323196116.1604576,
          167330675.30664062,
          983975759.0407716,
          316805299.0143051,
          693743.0899715424,
          15702457.425157549,
          90416353.66583252,
          26477547.8125,
          23815064.05046081,
          18431909.94140625,
          561334.3994321823,
          1628486118.212052,
          152566347.5185176,
          248086466.1694336,
          47346430.4128418,
          804920.6629524231,
          40084425.099731445,
          1254969980.4888458,
          537897107.308384,
          3164761398.423004,
          1135806.742406845,
          849105.5385818481,
          482587.83880615234,
          64558826.34423828,
          1002531.8799057008,
          11625368.125,
          848555765.1475372,
          118546949.14154053,
          15393450.3125,
          113105308.4159131,
          1189361733.0262604,
          1825467663.4982567,
          247048027.06612304,
          17326081.874627113,
          354216899.7279358,
          1436381.759765625,
          1833581420.8541489,
          764798.765625,
          3726854.6630859375,
          184112434.1714888,
          55868403.49298093,
          9000635.421875,
          474235736.46905136,
          85046615.150092,
          137386.33988952637,
          4840636.796875,
          21992027.700406417,
          1130245383.8610306,
          22032490989.85083,
          1054179.9512023926,
          521783.4168777466,
          168917719.78133428,
          1793342673.216843,
          2239430.951690674,
          9368998.369140623,
          2274588294.2333617,
          238656404.43579105,
          5482158478.897907,
          1650436794.2796822,
          1749875854.8012743,
          10382223.41796875,
          36334600.380615234,
          13408398.0078125,
          177450293.6913209,
          12660827.59765625,
          388720736.15216064,
          909622916.6722716,
          170147241.6839956,
          1144036.411140442,
          1336473474.2333715,
          5176282832.197449,
          440984502.4477234,
          194700947.10780975,
          166585950.74279207,
          188806527.08773717,
          1868644934.588768,
          1365381492.1107788,
          1089456928.1755524,
          2119841336.0104485,
          38941556.6246028,
          106989272.8491528,
          4432493185.11261,
          994838.9101696014,
          867245.3416481018,
          71934627.75505257,
          875720674.9007568,
          275801583.1850586,
          1864119720.5905917,
          2556099271.936592,
          716181.4916567802,
          1006581925.3234715,
          5825915331.085266,
          2057633935.635033,
          793752.0598678589,
          214542633.0802431,
          141192263.77272892,
          975588.120300293,
          25538157.464660645,
          1692354.6875,
          16001920.299296975,
          24936705.08984375,
          1478167.894519329,
          476053.3013000488,
          2136161704.0889,
          1378402686.788803,
          179410564.70283237,
          921063442.6851854,
          10387016.04808426,
          2623077.28125,
          190691.84999465945,
          225019796.89847088,
          912711912.8539352,
          2522922933.9438763,
          217807.93992614743,
          382415475.6407776,
          4793600.97908783,
          124372250.79521084,
          2522872478.1290283,
          3482735.1640625,
          629555700.7962646,
          84108337.09349513,
          458651.9895706177,
          2453531.529794693,
          638079.390045166,
          1115521665.7165031,
          167217301.59921986,
          663739.6793804169,
          676387.6999673843,
          912737017.7732792,
          42345448.86914063,
          610639.9799408913,
          233867.92045593265,
          819928.8392486572,
          137968960.90983114,
          72651789.22237015,
          4179135060.488281,
          19013906.53515625,
          1372358841.328251,
          2685317.8272399902,
          156404426.6838187,
          2718906863.817312,
          1088375675.2081032,
          1100782810.0578003,
          99083434.78222656,
          90328832.09755212,
          6110191.421875,
          2051324076.0420551,
          48887154.16992188,
          13408398.0078125,
          10288289.50390625,
          916423.1730155944,
          77949918.41189384,
          722528.7444152832,
          968879710.843994,
          1773707814.0891323,
          397276.822851181,
          1114235310.086196,
          4045207.5,
          16600859.587402344,
          1632846207.95916,
          947767192.9534798,
          19547850.64203644,
          2337687058.884007,
          11314120.35986328,
          1970944303.0040452,
          2967970059.3338013,
          61574.4603881836,
          1418838613.2263143,
          1176348964.6740098,
          6110191.421875,
          10288289.50390625,
          1402262956.786333,
          977936727.9440098,
          1463791738.5252075,
          1042259.6459960938,
          35700876.66931152,
          3005441.61328125,
          88273594.76867676,
          37047948.74340904,
          103692227.3552246,
          285890.4397678375,
          1509311.9179992676,
          97852713.05008437,
          3805762473.478149,
          1911035326.8750496,
          296416.50291252136,
          91953982.59742735,
          1818853697.573017,
          2891218360.657837,
          597586.3597640991,
          172263433.16603184,
          2477958.234066009,
          88856124.92758942,
          36229989.68310547,
          192857221.26119372,
          1111599608.759777,
          1740639.7779483795,
          3177044.011444092,
          815055.1491851807,
          3439831497.54184,
          42339316.61395073,
          81973410.5804131,
          323351.08907699585,
          1984938686.55876,
          4840636.796875,
          1552783144.115241,
          62040.15821647644,
          880412613.6309433,
          97818714.4090271,
          8447689041.0095215,
          12542849.260742188,
          1401926583.095749,
          1599533658.57135,
          2120932580.1588745,
          973611.5374364852,
          3482735.1640625,
          1305193799.9054563,
          186735126.95011365,
          3095227832.9619675,
          6624422.5830078125,
          5881952886.52832,
          1220373667.7704737,
          3169003007.409912,
          123939724.63497669,
          87715037.04881287,
          14250909.353637695,
          358172405.92030525,
          1699918227.8757343,
          4639712.609375,
          35065426.41682434,
          313422320.5561981,
          8314219.9609375,
          912936723.8472444,
          3539253828.5856323,
          4184819853.257141,
          996706.9113311768,
          20289673.953711987,
          178430744.2592497,
          96392434.11721016,
          625282.590359211,
          2511260009.5386667,
          1176022163.1089065,
          10925434.074951172,
          2057133913.3608477,
          151478800.188097,
          121378.4804172516,
          982301622.876297,
          833489762.7985382,
          293554523.2840195,
          1264096806.5070038,
          677532039.4908371,
          643670071.1742201,
          94900489.29260254,
          1436381.759765625,
          2239377776.067505,
          422884471.1477814,
          3726854.6630859375,
          844813.9300842285,
          116758.3596420288,
          80745595.68060458,
          46477.82022094727,
          411525714.6618805,
          125466837.06759644,
          2945822.4380340576,
          32684704.2857666,
          1096744375.5145874,
          153999142.0028708,
          2649961.7890625,
          7381464.734375,
          1158988455.7557695,
          1377601900.2788067,
          11410075295.501465,
          1233197291.3266106,
          1450469.328125,
          893754890.8515949,
          1250370.834924698,
          58620847.113987446,
          388775044.4091797,
          2263172156.485016,
          34546618.763183594,
          152613868.65432262,
          1450469.328125,
          10805937.8671875,
          87735078.95303637,
          1966808.207565308,
          1795867508.914646,
          13346457.994140623,
          1111409246.043253,
          129391067.47284698,
          546134562.4725342,
          430639653.8275833,
          1222466.907333374,
          7381464.734375,
          1186581937.3391037,
          475994.4398498535,
          77501199.44032645,
          764798.765625,
          1212182881.5751524,
          10805937.8671875,
          2034397089.6275177,
          9368998.369140623,
          1715088668.210144,
          190728594.9493353,
          354621947.2379074,
          509268059.83914185,
          1325337679.5582085,
          1799188267.4158936,
          3177044.011444092,
          2731958804.349365,
          55965367.817985296,
          520373.15156555176,
          1351413822.6480818,
          72927.49934434891,
          92570109.57393384,
          118329651.53710938,
          208544.51973724365,
          743168.5793113708,
          200077.17110443115,
          5809589505.065674,
          2987353184.407142,
          48531610.86907959,
          1829995133.6033056,
          76299102.20889044,
          24233058.30810547,
          1117352249.439724,
          1402991632.4601488,
          1639998616.276188,
          57868459.83747864,
          477430512.4926605,
          443896.26323509216,
          164052786.55834198,
          2274125602.654358,
          1260485910.181862,
          2649961.7890625,
          26058864.942871094,
          154922388.54050446,
          44418.8984375,
          1732084166.9687386,
          4459562.669710636,
          1481228667.2583504,
          146729257.83356816,
          2874187828.4992867,
          942661427.6617508,
          86517493.60212278,
          69254121.80868918,
          1629230193.9020617,
          1726900794.2036345,
          239815.22900772092,
          92958097.9871645,
          2023836.2922859192,
          788044.2693862915,
          3005441.61328125,
          2071733520.097765,
          2412378828.965529,
          418439909.82364273,
          459632.4079742432,
          2257636154.7077904,
          208230140.30429924,
          984614950.0171432,
          216399029.2292595,
          45957891.375,
          1439994865.9051952,
          27228880.12158203,
          2785508079.273712,
          252039522.4847412,
          4045207.5,
          10382223.41796875,
          1235795169.8072548,
          610670547.9916964,
          84230.67010498047,
          19013906.53515625,
          479147.0214691162,
          1259963836.886355,
          104258.24021148682,
          265805768.9855957,
          2193823138.281589,
          1732852914.6723022,
          481986.8305902481,
          1502916779.5216446,
          86062689.78655642,
          1892183158.0996628,
          540570022.9401083,
          6460825.48828125,
          179103229.0343895,
          301448508.82347107,
          1392572.184621811,
          2032344022.8791027,
          494504737.73280334,
          1435246731.1484184,
          674420686.0710373,
          1026563245.7704571,
          222373059.04968265,
          1220634465.7718005,
          1056200611.554222,
          1752319470.967865,
          230903038.74298096,
          1059536591.7680511,
          16469937.969848633,
          43252508.46128845,
          57476073.1953125,
          123877.25952911375,
          1192978.2734375,
          2758420622.865814,
          207200648.3258448,
          952670.3689804076,
          164860699.49035645,
          555807.4686889648,
          14560.16015625,
          4878587.037109375,
          19692.64953613281,
          6264169.371525764,
          19411637.48840332,
          883144563.8413086,
          132783773.6621704,
          49083122.14996338,
          17907195.875,
          3709541.375,
          178282616.0221398,
          122505058.17163086,
          27022.409729003903,
          2338708.546875,
          28904.700241088867,
          7538916.498707771,
          7830774.6527581215,
          17597785.51246202,
          1928157623.0003376,
          1379136.39453125,
          22469534.10255015,
          105995044.56401062,
          189810229.0821381,
          90643485.6737976,
          1094960.328125,
          3967679.28125,
          397102694.6974335,
          58580738.44252777,
          35255911.34635818,
          36338679.56311035,
          51275867.14892578,
          5630588.96875,
          335801849.97019386,
          194158656.3937836,
          9629677.7578125,
          757889.5576515198,
          34657.02996826172,
          96875686.622818,
          2979014.0186553,
          1194322.8046875,
          13445251.65625,
          29875144.460256334,
          248393099.74176025,
          3738033.7734375,
          253719.7301940918,
          27250619.864013672,
          735292.08203125,
          15222545.2734375,
          738826.45703125,
          69853425.54364014,
          37337405.634765625,
          6994170.015625,
          15031115.5625,
          96416028.49157716,
          996581.8671875,
          20197672.921875,
          72135.69028353691,
          81843755.51797485,
          1192978.2734375,
          30163021.76464844,
          71172727.20898438,
          1321967204.6822815,
          1246856963.4279432,
          13793437.303710938,
          54263136.18164063,
          24542643.508972168,
          14139.030302524568,
          130957260.22589111,
          29593562.826171875,
          2437451254.029114,
          85226296.42442942,
          2083918.767578125,
          3018.2000122070312,
          32664607.45501709,
          26357358.92773437,
          2181204.8515625,
          24147336.25870943,
          17161454.112487793,
          3778443.865234375,
          7687764.072463989,
          3816481.75,
          68822480.55541992,
          1870176.9448242188,
          53339446.43765259,
          2498070.296875,
          154100141.68234253,
          77640762.01912498,
          186280712.0716858,
          39807335.578125,
          35319.899963378906,
          4029920.106352806,
          74013671.05541992,
          8759913,
          541214298.2234688,
          199608562.43922424,
          86562925.5849762,
          13724670.5,
          39157.8798828125,
          47301416.65698242,
          4941633.09375,
          53614.75,
          38737275.25,
          134711798.93580246,
          215205111.5655899,
          62070.410572052,
          273429014.370697,
          1940477.6796875,
          6678467.6875,
          17812.25016784668,
          19702915.71875,
          4824577.7421875,
          2931460.9169921875,
          10612080.015285432,
          55756378.43164063,
          8596468.6796875,
          492972380.7765236,
          14347933.8203125,
          16045754.338867188,
          28443314.88085937,
          259963406.18367004,
          3105562.549775124,
          29134643.87602997,
          9671781.67553711,
          321309.1298311949,
          195319377.51049805,
          4755657.8359375,
          69975000.62668705,
          24498942.61405897,
          12139875.73828125,
          7185662.703125,
          1704613265.3226624,
          1091755313.2917483,
          12023222.596679688,
          364.9800109863281,
          48915.71964263916,
          3507384.9375,
          13653540.640625,
          1851391660.11623,
          27451623.8515625,
          14899309.860468864,
          127181506.55749512,
          24210.76005172729,
          201297538.55395508,
          14009202.078125,
          284017.4319763184,
          661666.7373809814,
          4200441.215388298,
          953634.109375,
          47546703.71386719,
          16265483.65234375,
          114216788.40542604,
          4402.6099853515625,
          19452973.84228516,
          590653.3295288086,
          311140487.548584,
          245446197.2337952,
          405325815.8267174,
          25548259.03027344,
          3229672.375,
          108124236.21289062,
          6449236.80859375,
          1094960.328125,
          44029630.46185303,
          142775254.51960754,
          42757.01025390625,
          13016344.609680176,
          5972994.86328125,
          297378767.7237854,
          29279365.04536164,
          70371346.72216797,
          658001.8594474792,
          1619187364.7295532,
          80748319.72509766,
          37275.13940429688,
          6964930.790039063,
          12042884.844726562,
          7726509.40625,
          126919903.99365234,
          913535.8568878174,
          3316259.640625,
          4941633.09375,
          4734841.265625,
          218987964.43746567,
          11084637.3125,
          109674008.14520264,
          7961879.47265625,
          188826.1706161499,
          43637378.048583984,
          162751.55110931396,
          1117533310.1892242,
          1843470166.3174856,
          628947189.331593,
          230777873.6119194,
          4455536.900707245,
          164509835.89134598,
          125632304.31347656,
          23772267.21484375,
          963500.20236969,
          149587666.73118043,
          14795.340209960938,
          8335194.8046875,
          23173.53030395508,
          10097910.76171875,
          333520429.7366333,
          100401.42016601562,
          1594038.7263641355,
          12271274.5390625,
          2480927.140625,
          8621512.464012146,
          5207230.741032124,
          1254653336.0536196,
          12215.290405273438,
          7631175.05907774,
          26694226.435424805,
          81069209.4961319,
          47124361.57080078,
          8041556.2032699585,
          8617993.984375,
          1948730521.5077896,
          13907700.87890625,
          22032550,
          1412855085.6072645,
          21526.120178222656,
          1267552.8359375,
          134441152.75061035,
          13756305.859375,
          12910278.3203125,
          94856.177734375,
          715262415.9636841,
          307600.5990867615,
          10970.120361328123,
          3809126.869140625,
          3983341.288175345,
          27322788.07672119,
          526529592.161499,
          57918345.6069336,
          4020.6900024414062,
          13636.560039520264,
          146024793.3859253,
          250185.23387146,
          7787845.921875,
          397046360.03982544,
          1560439.40625,
          60073137.89996338,
          3252.6701049804688,
          3894327.09375,
          108849187.60668944,
          339782034.17785645,
          3894583.1484375,
          94829861.48358154,
          279523348.33529663,
          19223943.883789062,
          8716537.787719727,
          1022503.0078125,
          41081037.29956055,
          9823925.0390625,
          6695556.9765625,
          94671848.66430664,
          833821.484375,
          152984507.72652304,
          155494420.7772827,
          3738033.7734375,
          260110447.86802676,
          8596468.6796875,
          22032550,
          78275.69975280762,
          1200551.4375,
          14407957.7421875,
          300494106.7451477,
          35198.830169677734,
          15327134.107666016,
          5972994.86328125,
          86154774.97399902,
          27964990.46875,
          2235609.2265625,
          10506298.236816406,
          40416.58044433594,
          14900890.40625,
          44957.73973083496,
          2690258.8828125,
          20026220.06604004,
          22356.320190429688,
          120182.38013458252,
          4629010.472783089,
          2031301523.7999544,
          1451523451.8445437,
          77099904.63720703,
          11795983.90625,
          24673840.09863281,
          10506298.236816406,
          235529908.9880371,
          1150642512.5286713,
          9823925.0390625,
          19160596.375,
          193580856.99067688,
          4636146.977840424,
          36121146.97216797,
          10136703.578125,
          1200551.4375,
          1906143762.594265,
          50941141.79577637,
          1007144937.5912952,
          82744595.27194214,
          115350154.8204155,
          242852725.1409912,
          10302967.709472656,
          9981919.47265625,
          2638.030029296875,
          449198982.779541,
          293600648.4477539,
          718020.5417785645,
          451513.7048339844,
          10501510.263316154,
          1016651122.1522368,
          2351450984.753216,
          130311526.09765624,
          5019757.359375,
          7376005.6484375,
          4862508.21484375,
          63835090.37158203,
          11140046.578125,
          10883788.976373672,
          4734841.265625,
          18987171.985601425,
          181336.43013000488,
          7059762.71875,
          801117038.4273682,
          15828205.560546877,
          245641444.72998047,
          105697166.94506836,
          157370945.59017944,
          211965171.96765137,
          1191055.4140625,
          5286427.625035286,
          16871.660385131836,
          2908995.210170746,
          10136703.578125,
          165599977.70441437,
          4484252.176483154,
          6449236.80859375,
          2499010791.9311523,
          46661571.66137695,
          6312271.740999222,
          6199800.113536835,
          9118794.16152215,
          65717359.43154335,
          1307852812.046852,
          11623602.640625,
          7787845.921875,
          1615.8800048828125,
          129741.58085632324,
          259236.0301208496,
          11256126.688386915,
          953634.109375,
          22438409.229711533,
          9983668.53125,
          3297438.71875,
          206063646.94241333,
          2153428889.5632,
          2096715423.0041049,
          2931460.9169921875,
          58267.149161338806,
          5868050.640625,
          421336.078125,
          11186146.0703125,
          92449.25030517578,
          167013069.159432,
          17115965.49609375,
          1498800.818523407,
          11795983.90625,
          236819466.3987637,
          278483.0625,
          474670956.0587158,
          735292.08203125,
          1387.9299621582031,
          7856011.28125,
          5742423.647705078,
          55604988.63525391,
          63462.71934509277,
          305794297.8616333,
          2690258.8828125,
          12302594.805664062,
          3778443.865234375,
          148550984.81640625,
          12587185.6311903,
          30552814.69970703,
          21655332.09375,
          6695556.9765625,
          155619392.9989624,
          3465744.171875,
          18182898.7545166,
          2176405.21875,
          23788306.911743164,
          231085947.92993164,
          141930892.35546875,
          16145904.447265623,
          8137.97998046875,
          12230.2998046875,
          139034060.9546399,
          142873514.81134987,
          188790257.93332025,
          66555.01944732666,
          315396022.2266846,
          568555.1934814453,
          3944730.512802124,
          956.7899780273438,
          323.29998779296875,
          10344988.963378906,
          422765449.4945984,
          20837.63982009888,
          21067471.765625,
          17051807.512695312,
          421336.078125,
          7686734.385825157,
          182787792.9297485,
          10461546.59375,
          711566.7739257812,
          252914746.08530807,
          149008.86987304688,
          4862508.21484375,
          546033767.6287613,
          17161454.112487793,
          4005746.6626758575,
          63813145.64343262,
          172174.66818237305,
          12267.760009765623,
          306524906.2877197,
          96875527.47576904,
          12487.299949645996,
          9629677.7578125,
          22098402.3125,
          455106295.62597656,
          94407.7197265625,
          170586.53900146484,
          3776846.919466018,
          67479325.96484375,
          1267774309.6277733,
          23297.38024902344,
          8012304.782772064,
          205008990.53741452,
          43403584.1777935,
          324087.48962402344,
          4236340.066162109,
          155146.86895751953,
          325069889.1216278,
          72881101.93579102,
          33249.78981781006,
          108144.16948509216,
          64846733.41227722,
          52629355.65234375,
          79563679.08874512,
          6821483.29296875,
          12615097.049905775,
          13233241.203125,
          19235294.055664062,
          5869433.4677734375,
          7533189.505859375,
          19116487.9609375,
          981466.640625,
          21013979.3984375,
          1482536.5,
          36373053.74975586,
          8382537.526317596,
          33804.34977722168,
          46152.59996032715,
          94856.177734375,
          2195975.51171875,
          3434133.0484657288,
          131332108.79424286,
          11623602.640625,
          57767840.28125,
          184034.71096611023,
          9432148.3671875,
          225348925.58462524,
          32967268.030029297,
          1887919313.2810464,
          18910269.04333496,
          157420080.69140625,
          177293908.00675964,
          2496481785.520569,
          19160596.375,
          163007445.22462463,
          2293001611.79541,
          2057775.75,
          2176405.21875,
          314101935.6631851,
          7323357.275691986,
          244637922.4653778,
          22677.670166015625,
          9058945.71875,
          10594389.15580368,
          38531561.00390625,
          96340293.84005736,
          17032028.903320312,
          141735009.63736677,
          170154826.6055298,
          1848.8399658203125,
          13724670.5,
          91961995.94604492,
          25256685.25,
          10172922.027816772,
          1059466.5241889954,
          202170575.32424927,
          6218599.983154297,
          174979.7993774414,
          136858867.85692155,
          7286453.033165932,
          1243804.2202148438,
          7161867.80859375,
          2366385513.614197,
          87011972.38830566,
          25797654.3157959,
          12271274.5390625,
          19112147.21716309,
          247971328.4902344,
          186682925.7192917,
          126108244.9322815,
          228736.7907104492,
          30057295.314453125,
          8759913,
          973033.4543981552,
          862006.6387023926,
          11062782.977016447,
          119555321.4203186,
          102756561.89538574,
          62622889.20477295,
          1940477.6796875,
          252638.78033447263,
          6770763.174804688,
          49819669.60620117,
          9058945.71875,
          10461546.59375,
          3951861658.458832,
          3316259.640625,
          47793526.24511719,
          3809126.869140625,
          83016185.43989563,
          11328256.3515625,
          371872550.8939209,
          3671372.1796875,
          69720241.69333458,
          4824577.7421875,
          21655332.09375,
          5209131.96875,
          202465417.65093997,
          1302811639.998762,
          170074864.73470354,
          163370348.10021973,
          186440757.6015625,
          136674146.08898926,
          72768872.64556885,
          16265483.65234375,
          4780059.90625,
          4307218,
          709806349.6096191,
          66159844.87249756,
          64941755.44921875,
          111806.9090576172,
          763643.546875,
          1056100.2738304138,
          48843589.87249756,
          1472839725.9119186,
          45817910.07849336,
          102947591.81816006,
          19483295.19659424,
          199125720.54956052,
          6534721.765625,
          3551527.276579857,
          170108500.93432617,
          16302015.273986816,
          438781.1669921875,
          107086944.77842712,
          8508008.96290472,
          6678467.6875,
          213489174.43847656,
          19894310.294433597,
          2195975.51171875,
          1379136.39453125,
          11724731.06507492,
          622860483.3500977,
          3167.0899658203125,
          7896760.291015625,
          29304.849990844727,
          10828032.625,
          596500.6993103027,
          231874712.68130493,
          22217233.78125,
          10732257.233119965,
          18664902.5,
          183114847.18017575,
          16988478.2421875,
          10106992.166992188,
          900499.6180267334,
          5019757.359375,
          330407310.28125,
          981466.640625,
          4878587.037109375,
          27545211.326416016,
          27134223.66113281,
          64144051.45800781,
          6373979.853004456,
          31779458.15185547,
          920.439971923828,
          23772267.21484375,
          72929388.10809326,
          1146011.1455078125,
          601129857.0043945,
          673252.1913490295,
          19708.29000854492,
          8760.240234375,
          517562105.4380112,
          2440927690.4470787,
          428765.0406951904,
          6244023.422631264,
          1916999.6328125,
          249130936.4494324,
          2615.9599609375,
          135607395.57232666,
          21032819.09680176,
          1671724.9602890017,
          213381543.5079422,
          26090029.792236328,
          96145190.87353516,
          24982.98992919922,
          3706544.607574582,
          7185662.703125,
          10828032.625,
          4780059.90625,
          117148753.48800182,
          1231461078.794487,
          108505227.66021729,
          20869.11975097656,
          15991870.538879396,
          8513564.6875,
          1911747.4296875,
          81895218.78112793,
          4889882.498328209,
          12346.83999633789,
          9671781.67553711,
          48349463.23712158,
          74311891.53393555,
          17318430.416503906,
          8293915.467285156,
          82078321.63113022,
          5243497.902832031,
          7139441.71875,
          264930531.0745697,
          37693042.2077837,
          12152277.635996342,
          2435929.7101192474,
          53449007.471710205,
          254011490.6807251,
          42846.3101978302,
          1247424446.9953156,
          3595581.4604492188,
          10050859.310531616,
          30739486.10869741,
          182885514.7993164,
          17222116.389190674,
          15974981.961914062,
          12714057.256225586,
          196853163.29711917,
          168613053.0444336,
          311890841.6156616,
          233065280.0914383,
          10261983.4921875,
          8838553.886518478,
          11274443.03515625,
          1062088.193359375,
          25364.210079193115,
          70305843.10838318,
          103490.34790039062,
          6964930.790039063,
          9282711.882476809,
          209789186.209816,
          197792.4498138428,
          403618545.8234253,
          16838255.887451172,
          29263632.97705078,
          329812942.0083008,
          122074732.28167725,
          79804069.6796875,
          18582319.53515625,
          11328256.3515625,
          15045657.341227531,
          1194322.8046875,
          1022503.0078125,
          299407.3984375,
          229550278.8086548,
          3894327.09375,
          140835.78048706055,
          25905093.844482426,
          146075039.54041144,
          21431127.20154524,
          3336949.1118164062,
          6153925.6875,
          5630588.96875,
          5286.679992675781,
          3507384.9375,
          4997277.7670784,
          17375153.46130371,
          996581.8671875,
          401318.2207636833,
          21053603.75,
          4307218,
          14632979.3914299,
          6821483.29296875,
          187331086.25623548,
          17139130.524352074,
          27396.750122070312,
          99964998.23590852,
          5742423.647705078,
          32422.77980041504,
          1281324963.7381744,
          47266929.03625488,
          148411030.1533203,
          10097910.76171875,
          405208040.7035675,
          34295.60000610352,
          98654488.3703766,
          20197672.921875,
          45356715.44921875,
          20668383.974933624,
          8352478.2890625,
          120664657.20117188,
          97103387.85131836,
          968848.8745117188,
          181910036.44836283,
          278483.0625,
          89515.03009271622,
          7800203.4144592285,
          20709474.052404404,
          25426894.19268799,
          15974981.961914062,
          16271.209716796877,
          53928411.28225613,
          134706.65844726562,
          186973959.7428589,
          70307032.09082031,
          8335194.8046875,
          39291294.58238792,
          17259447.56781006,
          17051807.512695312,
          7139080.625,
          51323265.35757446,
          685214048.9993439,
          74411415.88317871,
          9965.579895019531,
          13334203.080078123,
          13863823.130702972,
          483234.7234725952,
          8655534.376953125,
          16673.639862060547,
          3297438.71875,
          6140267.06640625,
          7361532.825195312,
          91046.84924316406,
          14428919.66015625,
          63303.04000854492,
          132220950.62564088,
          833821.484375,
          20560469.44866419,
          1482536.5,
          34414.78973388672,
          40324113.06152344,
          269343.01158714294,
          763643.546875,
          30201589.014128685,
          637646867.6035423,
          227384724.14501956,
          6466965.46875,
          56074.4196472168,
          4435912.605049133,
          71759.36959838867,
          530369523.4680786,
          911025.0911166668,
          1481050.9926757812,
          2730005.4453125,
          62876754.210510254,
          86419864.56105423,
          17907195.875,
          6900055.859375,
          1667944.610939026,
          67316732.99969482,
          6088850.836919785,
          380870660.00097656,
          6534721.765625,
          14044297.839050291,
          176995420.23236084,
          493631784.0256386,
          15186604.313232422,
          49578349.646484375,
          39807335.578125,
          24658015.25,
          13910356.685738564,
          199050577.00402832,
          808623.23046875,
          2547992743.9288387,
          19261857.977251053,
          268969127.6517639,
          342824.1583824158,
          449152027.1819153,
          12278579.301508188,
          2046691.0703125,
          595466276.1025391,
          295582366.95028687,
          18508411.262275696,
          389190660.49163055,
          53059723.83583534,
          55148887.421875,
          61736576.11364746,
          1481050.9926757812,
          1267552.8359375,
          2338708.546875,
          63727444.548828125,
          18849.72013092041,
          3060056.8359375,
          437160199.1988525,
          7507885.923050284,
          1509270.53125,
          711566.7739257812,
          28966167.49951172,
          161463.7101330757,
          8917419.674804688,
          21451633.970703125,
          24050379.967552185,
          50768.150217056274,
          61994.97964477539,
          6518500.616699219,
          169995562.73919678,
          21306669.4342041,
          45432719.31970149,
          47208561.3203125,
          19525535.745117188,
          4660.93994140625,
          73751747.55908203,
          3967679.28125,
          369486077.5933304,
          431558.515625,
          19211.71026611328,
          98989.74981689452,
          11274443.03515625,
          54155.47019958496,
          8628692.831792593,
          4364.580078125,
          104230.9991760254,
          338281286.2797852,
          2037992479.5285645,
          1473300525.1784365,
          762929495.2015076,
          27451623.8515625,
          344456.45024871826,
          59707329.97064209,
          121939380.66400146,
          337320374.3464527,
          15512878.25,
          406372.49970436096,
          46715968.70269776,
          8175986.171875,
          324391602.81347656,
          1201014039.0581255,
          16736.80010986328,
          2083918.767578125,
          50917981.01507568,
          1520491.9750976562,
          81400430.73284912,
          8362435.904296875,
          21382224.32910156,
          387071269.9221344,
          2122160.01171875,
          341629018.6016216,
          2480927.140625,
          1861.5100708007808,
          1976240328.5783625,
          949463.1156392096,
          43402091.55908203,
          199570845.1754112,
          136763662.01605225,
          280269761.6477051,
          29593562.826171875,
          21013979.3984375,
          210707542.26171875,
          70322810.31695557,
          102345332.6809082,
          6218599.983154297,
          5209131.96875,
          327467.69916534424,
          1468304.375,
          1867627459.017624,
          1702283183.608065,
          483768403.3227539,
          2558.420051574707,
          12023222.596679688,
          8352478.2890625,
          127248818.39775848,
          6153925.6875,
          190668980.6618805,
          1132326453.6670835,
          5617740.6552734375,
          562478083.1314774,
          9983668.53125,
          662111.670261383,
          5767824.6328125,
          21067471.765625,
          1520491.9750976562,
          34770071.474609375,
          102702.318901062,
          142831789.90506744,
          92632158.71429823,
          3903664.1936490536,
          291127352.17038727,
          2332525079.040861,
          4746.6900634765625,
          133809968.50201416,
          24676.25006103516,
          17032028.903320312,
          1870176.9448242188,
          1911747.4296875,
          3595581.4604492188,
          13650017.370483398,
          1414575.8244142532,
          44042269.00914574,
          4755657.8359375,
          1219804955.9452057,
          27964990.46875,
          59046963.8059082,
          79384252.73709917,
          33926063.41137695,
          4054521.734375,
          401916243.2280769,
          60220.81018066406,
          2057775.75,
          6059078.548828125,
          7538.129837036133,
          49607.400634765625,
          338626454.29680634,
          2349199.733382225,
          1577761.6640625,
          125416797.9868778,
          434942522.25512695,
          22357888.17650604,
          2848992.1875,
          8672114.01171875,
          33884503.103759766,
          11626.980285644531,
          397923.34375,
          129664936.3475952,
          21451633.970703125,
          44459241.61709595,
          46269557.14051819,
          7361532.825195312,
          66411.2702255249,
          23593.609954833984,
          179298708.56417847,
          4236340.066162109,
          24836223.3959198,
          399.3399963378906,
          3097887618.748474,
          369797779.6945801,
          181519466.9871521,
          5364217.97265625,
          27655347.99169922,
          7926108.34375,
          1199492983.6622047,
          1509270.53125,
          31246477.52734375,
          2181204.8515625,
          13328429.935546877,
          123277090.8269272,
          2848992.1875,
          13653540.640625,
          6900055.859375,
          968848.8745117188,
          3056601.67578125,
          172318768.2911133,
          151686325.75741577,
          4238776.903232694,
          105700865.4399414,
          105774848.13435364,
          30443461.60375977,
          57082705.44824219,
          2590202390.4530983,
          22546.61000061035,
          52926167.42333984,
          12499845.610351562,
          163126381.52752686,
          671100.2989196777,
          33717.32995605469,
          48053.48015975952,
          19142231.632141117,
          268077167.9974976,
          72293590.29807854,
          13514383.769879758,
          34505.69004821777,
          170027322.186203,
          34741139.06542969,
          2069842439.09729,
          14407957.7421875,
          58817.50020217896,
          5767824.6328125,
          18473772.649536133,
          140715141.07076263,
          15873143.375041485,
          20672666.98046875,
          9659296.45703125,
          2046691.0703125,
          642692.1989746094,
          1938339686.1307096,
          20992.95031738281,
          10030302.963378906,
          57110.74005126953,
          32641403.252685547,
          6096468.43359375,
          187094929.9695115,
          2029922306.9848936,
          6466965.46875,
          63424550.85709381,
          19184196.610839844,
          270813891.3242874,
          33811940.55090332,
          4054521.734375,
          12381758.04296875,
          60565.8515625,
          13275870.943359377,
          1058232260.042366,
          706166058.7813998,
          120312967.02203368,
          76523861.91267395,
          25576402.357250214,
          55368969.85534668,
          17709155.46484375,
          7059762.71875,
          76064920.20898438,
          5869433.4677734375,
          14825556.361328123,
          250567.6015625,
          3671372.1796875,
          39072889.57506561,
          3709541.375,
          1468304.375,
          325469565.7069626,
          3816481.75,
          772356341.3512726,
          5528909.069004059,
          160214958.7691269,
          21053603.75,
          104104823.09527588,
          237211547.3968506,
          7914849.314086914,
          3229672.375,
          9638.170013427734,
          116564458.1873169,
          459742542.4044952,
          12797929.828125,
          7533189.505859375,
          21786871.4765625,
          17403363.48083496,
          26026285.35926056,
          138628.10011291504,
          41822601.93115234,
          405805904.87908936,
          7161867.80859375,
          250567.6015625,
          24248200.47770691,
          413030.28148937225,
          1198969051.3178024,
          2085865107.790665,
          34496249.809173584,
          19217568.87402344,
          316579073.8657532,
          57690372.59869385,
          47872.97996520996,
          329289.2194213867,
          394375.5015563965,
          3465744.171875,
          129061157.9678421,
          1773372866.9575806,
          102858506.38442992,
          102534430.46307372,
          1088561336.7982273,
          1007187.9484558104,
          42259435.722717285,
          3336949.1118164062,
          78772.59963989258,
          972629.53125,
          415786.199054718,
          9735086.021484377,
          2685411.6491394043,
          20429450.479492188,
          10269273.982421877,
          22223817.900878903,
          152299.37937927246,
          260377903.375824,
          9617945.2734375,
          63465425.12841797,
          1632159885.4256191,
          5162624.26953125,
          121685060.79296876,
          1577761.6640625,
          10461219.32434082,
          2235609.2265625,
          5868050.640625,
          109840076.30810548,
          57080280.87109375,
          987698262.0467834,
          476856.7602996826,
          271980256.99328613,
          397923.34375,
          632877.3105010986,
          15512878.25,
          3019477.2529296875,
          657788.5891361237,
          89471794.10410309,
          28190.579711914062,
          3997764.250535965,
          51093756.85888672,
          7726509.40625,
          17791262.579331756,
          13445251.65625,
          46035096.52612305,
          117810606.3118286,
          5192031.525100231,
          32960.89015197754,
          95120811.93363953,
          438781.1669921875,
          95474064.0871582,
          808623.23046875,
          1888698189.1356356,
          808767.9184112549,
          6994170.015625,
          427481.482421875,
          67324.38983917236,
          136079793.45750555,
          8513564.6875,
          10692087.453125,
          9659296.45703125,
          701345.62109375,
          12139875.73828125,
          82687.58056640625,
          72422.18955612183,
          1772041.7037143707,
          114983922.46710204,
          22622.320251464844,
          82858549.71476746,
          113705764.12989044,
          11187003.569740295,
          8623979.085653782,
          34293876.578125,
          10413391.384685516,
          10030302.963378906,
          22521246.39703369,
          1560439.40625,
          3060056.8359375,
          128838937.62715708,
          13913703.19921875,
          46751770.55859375,
          2623941040.104492,
          12797929.828125,
          2498070.296875,
          7914849.314086914,
          8617993.984375,
          22217233.78125,
          93932817.9276123,
          31122791.078125,
          578204.5234375,
          1118610.9765625,
          32105545.29565048,
          489141886.9623909,
          22098402.3125,
          8655534.376953125,
          73881.296875,
          9432148.3671875,
          31421731.63085937,
          12910278.3203125,
          672745.1913223267,
          2407943436.8520203,
          41150209.17993164,
          1441851.484375,
          25602107.211669445,
          321091850.64359254,
          132700.021484375,
          1680.0700073242188,
          41077222.55859375,
          1310998990.423802,
          273249.860370636,
          21578068.845169067,
          2514864.138916016,
          14569099.59906125,
          15610865.615966797,
          1621036.15625,
          3056601.67578125,
          3425967396.8290405,
          539463.9787902832,
          53212448,
          130194004.50181198,
          2404.659912109375,
          15222545.2734375,
          1667944.610939026,
          485152.9305033684,
          27085558.069335938,
          4213878.125,
          1621036.15625,
          197749244.73291016,
          2139821.3046875,
          10106992.166992188,
          218715804.33073425,
          914941085.7457083,
          218540082.34657288,
          44726506.17993164,
          131493024.7040863,
          2122160.01171875,
          8293915.467285156,
          18730360.271118164,
          8175986.171875,
          15450157.589042664,
          32545.149658203125,
          55677872.61328125,
          339393.409072876,
          2212386105.412422,
          12090890.170571327,
          97654850.76568604,
          18907022.176081896,
          1191055.4140625,
          4213878.125,
          427481.482421875,
          24658015.25,
          281827136.9870815,
          701345.62109375,
          11968057.885742188,
          299407.3984375,
          4452408.75,
          4452408.75,
          7926108.34375,
          647154.9459686279,
          1379858280.0781012,
          75304564.77468872,
          24173179.70800781,
          972629.53125,
          210681161.6560974,
          411281942.464592,
          13650017.370483398,
          30057295.314453125,
          3121398.139087677,
          354774220.0093088,
          363038.9428062439,
          125195.16844177246,
          9889.64990234375,
          319369.53125,
          43832366.17047858,
          77168340.55381966,
          13913703.19921875,
          2082414684.1832275,
          53212448,
          18664902.5,
          17725498.534902573,
          7038402.761291504,
          25036325.535888672,
          39595.24017333984,
          1441851.484375,
          11140046.578125,
          183626671.8581543,
          34770071.474609375,
          427195.3181915283,
          119674837.67596436,
          132700.021484375,
          13582.099922180176,
          7140.440078735352,
          15810745.104370115,
          14900890.40625,
          1916999.6328125,
          10940005.637268066
         ],
         "x0": " ",
         "xaxis": "x",
         "y": [
          "CASH_IN",
          "CASH_IN",
          "CASH_OUT",
          "DEBIT",
          "PAYMENT",
          "CASH_IN",
          "TRANSFER",
          "CASH_OUT",
          "CASH_OUT",
          "TRANSFER",
          "TRANSFER",
          "CASH_OUT",
          "PAYMENT",
          "TRANSFER",
          "PAYMENT",
          "PAYMENT",
          "DEBIT",
          "TRANSFER",
          "CASH_OUT",
          "CASH_OUT",
          "CASH_OUT",
          "TRANSFER",
          "DEBIT",
          "DEBIT",
          "TRANSFER",
          "CASH_IN",
          "CASH_IN",
          "DEBIT",
          "CASH_IN",
          "TRANSFER",
          "CASH_IN",
          "PAYMENT",
          "CASH_IN",
          "TRANSFER",
          "TRANSFER",
          "PAYMENT",
          "CASH_OUT",
          "CASH_OUT",
          "PAYMENT",
          "CASH_OUT",
          "CASH_OUT",
          "DEBIT",
          "CASH_OUT",
          "CASH_OUT",
          "TRANSFER",
          "CASH_OUT",
          "TRANSFER",
          "PAYMENT",
          "CASH_IN",
          "TRANSFER",
          "PAYMENT",
          "CASH_OUT",
          "PAYMENT",
          "TRANSFER",
          "PAYMENT",
          "CASH_OUT",
          "PAYMENT",
          "CASH_OUT",
          "CASH_OUT",
          "PAYMENT",
          "DEBIT",
          "PAYMENT",
          "CASH_OUT",
          "TRANSFER",
          "TRANSFER",
          "CASH_OUT",
          "PAYMENT",
          "DEBIT",
          "DEBIT",
          "CASH_IN",
          "CASH_IN",
          "TRANSFER",
          "CASH_IN",
          "CASH_OUT",
          "PAYMENT",
          "CASH_IN",
          "TRANSFER",
          "CASH_OUT",
          "DEBIT",
          "CASH_OUT",
          "TRANSFER",
          "CASH_OUT",
          "CASH_OUT",
          "DEBIT",
          "CASH_OUT",
          "TRANSFER",
          "CASH_IN",
          "DEBIT",
          "TRANSFER",
          "CASH_IN",
          "CASH_IN",
          "PAYMENT",
          "CASH_OUT",
          "PAYMENT",
          "PAYMENT",
          "CASH_IN",
          "TRANSFER",
          "CASH_IN",
          "TRANSFER",
          "CASH_OUT",
          "CASH_IN",
          "CASH_OUT",
          "CASH_OUT",
          "TRANSFER",
          "CASH_OUT",
          "CASH_OUT",
          "DEBIT",
          "DEBIT",
          "DEBIT",
          "TRANSFER",
          "DEBIT",
          "CASH_OUT",
          "CASH_IN",
          "CASH_OUT",
          "TRANSFER",
          "DEBIT",
          "CASH_IN",
          "TRANSFER",
          "DEBIT",
          "CASH_OUT",
          "CASH_OUT",
          "CASH_OUT",
          "TRANSFER",
          "DEBIT",
          "CASH_OUT",
          "CASH_IN",
          "CASH_IN",
          "TRANSFER",
          "CASH_OUT",
          "DEBIT",
          "TRANSFER",
          "TRANSFER",
          "DEBIT",
          "CASH_OUT",
          "DEBIT",
          "DEBIT",
          "DEBIT",
          "DEBIT",
          "DEBIT",
          "TRANSFER",
          "TRANSFER",
          "TRANSFER",
          "TRANSFER",
          "CASH_OUT",
          "CASH_IN",
          "DEBIT",
          "CASH_IN",
          "CASH_OUT",
          "TRANSFER",
          "TRANSFER",
          "TRANSFER",
          "DEBIT",
          "TRANSFER",
          "CASH_OUT",
          "CASH_OUT",
          "CASH_OUT",
          "PAYMENT",
          "CASH_IN",
          "CASH_OUT",
          "TRANSFER",
          "TRANSFER",
          "DEBIT",
          "CASH_OUT",
          "PAYMENT",
          "CASH_IN",
          "CASH_OUT",
          "TRANSFER",
          "CASH_OUT",
          "TRANSFER",
          "CASH_IN",
          "DEBIT",
          "CASH_OUT",
          "TRANSFER",
          "CASH_OUT",
          "PAYMENT",
          "DEBIT",
          "TRANSFER",
          "TRANSFER",
          "CASH_IN",
          "PAYMENT",
          "DEBIT",
          "CASH_IN",
          "CASH_OUT",
          "TRANSFER",
          "DEBIT",
          "TRANSFER",
          "CASH_IN",
          "CASH_OUT",
          "TRANSFER",
          "TRANSFER",
          "TRANSFER",
          "PAYMENT",
          "PAYMENT",
          "TRANSFER",
          "TRANSFER",
          "TRANSFER",
          "DEBIT",
          "TRANSFER",
          "TRANSFER",
          "CASH_OUT",
          "TRANSFER",
          "TRANSFER",
          "DEBIT",
          "CASH_OUT",
          "CASH_OUT",
          "CASH_OUT",
          "CASH_OUT",
          "TRANSFER",
          "CASH_IN",
          "CASH_IN",
          "TRANSFER",
          "CASH_OUT",
          "PAYMENT",
          "TRANSFER",
          "DEBIT",
          "CASH_OUT",
          "CASH_OUT",
          "CASH_OUT",
          "CASH_OUT",
          "CASH_IN",
          "DEBIT",
          "CASH_OUT",
          "TRANSFER",
          "TRANSFER",
          "CASH_IN",
          "TRANSFER",
          "CASH_OUT",
          "TRANSFER",
          "PAYMENT",
          "DEBIT",
          "CASH_IN",
          "CASH_OUT",
          "CASH_OUT",
          "PAYMENT",
          "PAYMENT",
          "CASH_OUT",
          "CASH_OUT",
          "PAYMENT",
          "TRANSFER",
          "DEBIT",
          "TRANSFER",
          "TRANSFER",
          "TRANSFER",
          "CASH_OUT",
          "TRANSFER",
          "CASH_IN",
          "DEBIT",
          "TRANSFER",
          "DEBIT",
          "PAYMENT",
          "CASH_IN",
          "TRANSFER",
          "CASH_OUT",
          "CASH_OUT",
          "TRANSFER",
          "CASH_IN",
          "PAYMENT",
          "TRANSFER",
          "CASH_OUT",
          "PAYMENT",
          "CASH_IN",
          "TRANSFER",
          "DEBIT",
          "CASH_OUT",
          "CASH_OUT",
          "PAYMENT",
          "CASH_OUT",
          "PAYMENT",
          "CASH_OUT",
          "TRANSFER",
          "CASH_IN",
          "CASH_OUT",
          "PAYMENT",
          "CASH_OUT",
          "CASH_OUT",
          "TRANSFER",
          "CASH_OUT",
          "CASH_IN",
          "DEBIT",
          "TRANSFER",
          "PAYMENT",
          "CASH_OUT",
          "PAYMENT",
          "TRANSFER",
          "TRANSFER",
          "CASH_OUT",
          "DEBIT",
          "DEBIT",
          "PAYMENT",
          "TRANSFER",
          "TRANSFER",
          "PAYMENT",
          "CASH_OUT",
          "CASH_OUT",
          "TRANSFER",
          "TRANSFER",
          "TRANSFER",
          "PAYMENT",
          "PAYMENT",
          "CASH_IN",
          "CASH_OUT",
          "CASH_OUT",
          "CASH_IN",
          "PAYMENT",
          "TRANSFER",
          "PAYMENT",
          "PAYMENT",
          "DEBIT",
          "CASH_OUT",
          "CASH_OUT",
          "TRANSFER",
          "CASH_IN",
          "CASH_OUT",
          "TRANSFER",
          "CASH_IN",
          "TRANSFER",
          "TRANSFER",
          "TRANSFER",
          "PAYMENT",
          "DEBIT",
          "PAYMENT",
          "CASH_OUT",
          "CASH_OUT",
          "TRANSFER",
          "DEBIT",
          "CASH_OUT",
          "CASH_OUT",
          "CASH_OUT",
          "CASH_OUT",
          "CASH_OUT",
          "TRANSFER",
          "DEBIT",
          "CASH_IN",
          "CASH_OUT",
          "CASH_OUT",
          "DEBIT",
          "TRANSFER",
          "CASH_OUT",
          "DEBIT",
          "CASH_OUT",
          "CASH_IN",
          "CASH_OUT",
          "TRANSFER",
          "DEBIT",
          "TRANSFER",
          "TRANSFER",
          "TRANSFER",
          "TRANSFER",
          "CASH_OUT",
          "TRANSFER",
          "TRANSFER",
          "CASH_IN",
          "CASH_OUT",
          "TRANSFER",
          "TRANSFER",
          "CASH_OUT",
          "CASH_OUT",
          "CASH_IN",
          "CASH_IN",
          "DEBIT",
          "PAYMENT",
          "TRANSFER",
          "PAYMENT",
          "CASH_IN",
          "PAYMENT",
          "TRANSFER",
          "PAYMENT",
          "CASH_OUT",
          "PAYMENT",
          "PAYMENT",
          "DEBIT",
          "TRANSFER",
          "CASH_OUT",
          "TRANSFER",
          "PAYMENT",
          "CASH_OUT",
          "CASH_IN",
          "DEBIT",
          "TRANSFER",
          "CASH_IN",
          "CASH_IN",
          "DEBIT",
          "CASH_IN",
          "CASH_OUT",
          "PAYMENT",
          "CASH_OUT",
          "CASH_OUT",
          "TRANSFER",
          "DEBIT",
          "TRANSFER",
          "TRANSFER",
          "PAYMENT",
          "CASH_OUT",
          "PAYMENT",
          "CASH_IN",
          "DEBIT",
          "CASH_IN",
          "TRANSFER",
          "CASH_IN",
          "CASH_OUT",
          "TRANSFER",
          "DEBIT",
          "PAYMENT",
          "CASH_OUT",
          "TRANSFER",
          "CASH_OUT",
          "TRANSFER",
          "DEBIT",
          "CASH_OUT",
          "CASH_OUT",
          "CASH_IN",
          "TRANSFER",
          "TRANSFER",
          "PAYMENT",
          "TRANSFER",
          "TRANSFER",
          "TRANSFER",
          "CASH_IN",
          "DEBIT",
          "CASH_OUT",
          "PAYMENT",
          "CASH_IN",
          "DEBIT",
          "CASH_IN",
          "TRANSFER",
          "TRANSFER",
          "TRANSFER",
          "CASH_IN",
          "DEBIT",
          "CASH_IN",
          "DEBIT",
          "CASH_OUT",
          "CASH_OUT",
          "CASH_OUT",
          "PAYMENT",
          "DEBIT",
          "DEBIT",
          "TRANSFER",
          "DEBIT",
          "DEBIT",
          "CASH_OUT",
          "TRANSFER",
          "CASH_OUT",
          "CASH_OUT",
          "CASH_OUT",
          "TRANSFER",
          "CASH_OUT",
          "PAYMENT",
          "TRANSFER",
          "PAYMENT",
          "DEBIT",
          "DEBIT",
          "CASH_OUT",
          "CASH_OUT",
          "CASH_OUT",
          "DEBIT",
          "TRANSFER",
          "CASH_IN",
          "CASH_OUT",
          "CASH_OUT",
          "TRANSFER",
          "CASH_OUT",
          "DEBIT",
          "TRANSFER",
          "CASH_IN",
          "CASH_OUT",
          "PAYMENT",
          "PAYMENT",
          "CASH_IN",
          "CASH_OUT",
          "CASH_OUT",
          "CASH_OUT",
          "CASH_OUT",
          "CASH_IN",
          "PAYMENT",
          "CASH_OUT",
          "CASH_OUT",
          "TRANSFER",
          "PAYMENT",
          "PAYMENT",
          "TRANSFER",
          "DEBIT",
          "PAYMENT",
          "TRANSFER",
          "TRANSFER",
          "PAYMENT",
          "TRANSFER",
          "TRANSFER",
          "CASH_IN",
          "CASH_OUT",
          "CASH_OUT",
          "CASH_IN",
          "CASH_IN",
          "TRANSFER",
          "TRANSFER",
          "DEBIT",
          "CASH_OUT",
          "TRANSFER",
          "CASH_IN",
          "DEBIT",
          "TRANSFER",
          "PAYMENT",
          "TRANSFER",
          "TRANSFER",
          "DEBIT",
          "PAYMENT",
          "PAYMENT",
          "PAYMENT",
          "PAYMENT",
          "TRANSFER",
          "CASH_OUT",
          "CASH_IN",
          "DEBIT",
          "CASH_OUT",
          "PAYMENT",
          "TRANSFER",
          "PAYMENT",
          "TRANSFER",
          "TRANSFER",
          "DEBIT",
          "CASH_OUT",
          "PAYMENT",
          "TRANSFER",
          "TRANSFER",
          "CASH_OUT",
          "TRANSFER",
          "PAYMENT",
          "CASH_OUT",
          "CASH_IN",
          "TRANSFER",
          "CASH_OUT",
          "TRANSFER",
          "TRANSFER",
          "CASH_IN",
          "PAYMENT",
          "CASH_OUT",
          "CASH_OUT",
          "TRANSFER",
          "DEBIT",
          "PAYMENT",
          "CASH_IN",
          "TRANSFER",
          "CASH_OUT",
          "PAYMENT",
          "TRANSFER",
          "TRANSFER",
          "CASH_OUT",
          "TRANSFER",
          "CASH_OUT",
          "CASH_IN",
          "CASH_OUT",
          "CASH_OUT",
          "DEBIT",
          "DEBIT",
          "CASH_OUT",
          "TRANSFER",
          "TRANSFER",
          "CASH_OUT",
          "CASH_OUT",
          "CASH_IN",
          "TRANSFER",
          "CASH_OUT",
          "TRANSFER",
          "CASH_OUT",
          "CASH_OUT",
          "TRANSFER",
          "DEBIT",
          "CASH_OUT",
          "TRANSFER",
          "DEBIT",
          "CASH_IN",
          "DEBIT",
          "CASH_OUT",
          "CASH_IN",
          "DEBIT",
          "TRANSFER",
          "CASH_IN",
          "DEBIT",
          "CASH_OUT",
          "TRANSFER",
          "CASH_OUT",
          "PAYMENT",
          "CASH_OUT",
          "CASH_OUT",
          "CASH_IN",
          "DEBIT",
          "PAYMENT",
          "CASH_IN",
          "DEBIT",
          "CASH_OUT",
          "CASH_IN",
          "PAYMENT",
          "CASH_OUT",
          "TRANSFER",
          "DEBIT",
          "TRANSFER",
          "CASH_IN",
          "PAYMENT",
          "CASH_IN",
          "CASH_OUT",
          "CASH_IN",
          "DEBIT",
          "CASH_OUT",
          "PAYMENT",
          "PAYMENT",
          "CASH_OUT",
          "TRANSFER",
          "CASH_IN",
          "TRANSFER",
          "DEBIT",
          "CASH_IN",
          "DEBIT",
          "CASH_OUT",
          "TRANSFER",
          "PAYMENT",
          "CASH_OUT",
          "CASH_OUT",
          "PAYMENT",
          "CASH_IN",
          "DEBIT",
          "TRANSFER",
          "PAYMENT",
          "CASH_OUT",
          "TRANSFER",
          "PAYMENT",
          "CASH_IN",
          "CASH_OUT",
          "CASH_OUT",
          "CASH_OUT",
          "TRANSFER",
          "PAYMENT",
          "CASH_OUT",
          "DEBIT",
          "CASH_OUT",
          "DEBIT",
          "PAYMENT",
          "TRANSFER",
          "DEBIT",
          "TRANSFER",
          "DEBIT",
          "PAYMENT",
          "TRANSFER",
          "DEBIT",
          "PAYMENT",
          "CASH_IN",
          "DEBIT",
          "CASH_IN",
          "DEBIT",
          "TRANSFER",
          "CASH_IN",
          "TRANSFER",
          "CASH_IN",
          "CASH_IN",
          "CASH_IN",
          "DEBIT",
          "CASH_OUT",
          "PAYMENT",
          "PAYMENT",
          "DEBIT",
          "PAYMENT",
          "TRANSFER",
          "CASH_OUT",
          "CASH_IN",
          "CASH_OUT",
          "TRANSFER",
          "CASH_OUT",
          "CASH_OUT",
          "CASH_OUT",
          "CASH_IN",
          "PAYMENT",
          "CASH_IN",
          "CASH_IN",
          "PAYMENT",
          "CASH_OUT",
          "PAYMENT",
          "TRANSFER",
          "CASH_OUT",
          "PAYMENT",
          "TRANSFER",
          "TRANSFER",
          "PAYMENT",
          "CASH_OUT",
          "TRANSFER",
          "DEBIT",
          "CASH_OUT",
          "DEBIT",
          "TRANSFER",
          "DEBIT",
          "TRANSFER",
          "DEBIT",
          "TRANSFER",
          "PAYMENT",
          "CASH_OUT",
          "CASH_OUT",
          "DEBIT",
          "DEBIT",
          "DEBIT",
          "CASH_OUT",
          "CASH_IN",
          "CASH_OUT",
          "CASH_OUT",
          "TRANSFER",
          "TRANSFER",
          "TRANSFER",
          "DEBIT",
          "CASH_IN",
          "PAYMENT",
          "PAYMENT",
          "TRANSFER",
          "CASH_OUT",
          "TRANSFER",
          "PAYMENT",
          "TRANSFER",
          "PAYMENT",
          "CASH_IN",
          "CASH_IN",
          "DEBIT",
          "PAYMENT",
          "DEBIT",
          "CASH_OUT",
          "TRANSFER",
          "PAYMENT",
          "PAYMENT",
          "CASH_OUT",
          "CASH_OUT",
          "CASH_OUT",
          "CASH_OUT",
          "DEBIT",
          "CASH_OUT",
          "CASH_OUT",
          "CASH_OUT",
          "TRANSFER",
          "TRANSFER",
          "TRANSFER",
          "TRANSFER",
          "PAYMENT",
          "DEBIT",
          "TRANSFER",
          "CASH_OUT",
          "CASH_OUT",
          "TRANSFER",
          "CASH_OUT",
          "CASH_OUT",
          "DEBIT",
          "CASH_IN",
          "DEBIT",
          "DEBIT",
          "PAYMENT",
          "TRANSFER",
          "CASH_IN",
          "TRANSFER",
          "CASH_OUT",
          "PAYMENT",
          "PAYMENT",
          "TRANSFER",
          "CASH_IN",
          "TRANSFER",
          "PAYMENT",
          "PAYMENT",
          "CASH_OUT",
          "CASH_OUT",
          "PAYMENT",
          "DEBIT",
          "DEBIT",
          "PAYMENT",
          "CASH_OUT",
          "CASH_OUT",
          "CASH_IN",
          "CASH_IN",
          "DEBIT",
          "DEBIT",
          "CASH_OUT",
          "PAYMENT",
          "PAYMENT",
          "PAYMENT",
          "PAYMENT",
          "TRANSFER",
          "TRANSFER",
          "TRANSFER",
          "TRANSFER",
          "CASH_OUT",
          "TRANSFER",
          "TRANSFER",
          "PAYMENT",
          "DEBIT",
          "TRANSFER",
          "DEBIT",
          "TRANSFER",
          "PAYMENT",
          "PAYMENT",
          "CASH_IN",
          "PAYMENT",
          "TRANSFER",
          "CASH_IN",
          "DEBIT",
          "CASH_OUT",
          "CASH_OUT",
          "CASH_IN",
          "TRANSFER",
          "CASH_IN",
          "CASH_IN",
          "CASH_IN",
          "CASH_IN",
          "CASH_OUT",
          "PAYMENT",
          "TRANSFER",
          "PAYMENT",
          "DEBIT",
          "CASH_IN",
          "PAYMENT",
          "CASH_OUT",
          "DEBIT",
          "TRANSFER",
          "CASH_OUT",
          "CASH_IN",
          "CASH_OUT",
          "CASH_OUT",
          "CASH_IN",
          "TRANSFER",
          "TRANSFER",
          "TRANSFER",
          "PAYMENT",
          "CASH_IN",
          "TRANSFER",
          "CASH_IN",
          "CASH_OUT",
          "DEBIT",
          "PAYMENT",
          "CASH_OUT",
          "CASH_OUT",
          "CASH_IN",
          "CASH_IN",
          "DEBIT",
          "CASH_OUT",
          "DEBIT",
          "PAYMENT",
          "DEBIT",
          "PAYMENT",
          "PAYMENT",
          "DEBIT",
          "CASH_IN",
          "CASH_OUT",
          "CASH_IN",
          "DEBIT",
          "CASH_OUT",
          "CASH_IN",
          "TRANSFER",
          "PAYMENT",
          "DEBIT",
          "CASH_OUT",
          "TRANSFER",
          "CASH_IN",
          "CASH_OUT",
          "PAYMENT",
          "PAYMENT",
          "PAYMENT",
          "TRANSFER",
          "TRANSFER",
          "CASH_IN",
          "CASH_IN",
          "PAYMENT",
          "DEBIT",
          "TRANSFER",
          "CASH_IN",
          "TRANSFER",
          "CASH_IN",
          "PAYMENT",
          "TRANSFER",
          "TRANSFER",
          "DEBIT",
          "TRANSFER",
          "CASH_OUT",
          "CASH_OUT",
          "CASH_OUT",
          "CASH_IN",
          "CASH_OUT",
          "TRANSFER",
          "CASH_OUT",
          "TRANSFER",
          "CASH_IN",
          "CASH_OUT",
          "CASH_OUT",
          "TRANSFER",
          "DEBIT",
          "DEBIT",
          "TRANSFER",
          "CASH_OUT",
          "CASH_OUT",
          "DEBIT",
          "CASH_OUT",
          "CASH_OUT",
          "DEBIT",
          "DEBIT",
          "CASH_OUT",
          "CASH_OUT",
          "PAYMENT",
          "DEBIT",
          "CASH_OUT",
          "TRANSFER",
          "CASH_IN",
          "TRANSFER",
          "DEBIT",
          "CASH_IN",
          "PAYMENT",
          "DEBIT",
          "PAYMENT",
          "CASH_IN",
          "DEBIT",
          "DEBIT",
          "TRANSFER",
          "DEBIT",
          "TRANSFER",
          "DEBIT",
          "CASH_IN",
          "CASH_OUT",
          "TRANSFER",
          "PAYMENT",
          "CASH_IN",
          "TRANSFER",
          "TRANSFER",
          "TRANSFER",
          "CASH_IN",
          "DEBIT",
          "CASH_OUT",
          "CASH_OUT",
          "CASH_IN",
          "PAYMENT",
          "CASH_OUT",
          "CASH_IN",
          "TRANSFER",
          "CASH_OUT",
          "CASH_IN",
          "PAYMENT",
          "TRANSFER",
          "TRANSFER",
          "PAYMENT",
          "TRANSFER",
          "CASH_IN",
          "CASH_IN",
          "TRANSFER",
          "CASH_OUT",
          "CASH_OUT",
          "TRANSFER",
          "DEBIT",
          "PAYMENT",
          "CASH_IN",
          "TRANSFER",
          "TRANSFER",
          "DEBIT",
          "TRANSFER",
          "PAYMENT",
          "TRANSFER",
          "CASH_OUT",
          "PAYMENT",
          "PAYMENT",
          "TRANSFER",
          "CASH_OUT",
          "CASH_OUT",
          "CASH_OUT",
          "TRANSFER",
          "CASH_IN",
          "CASH_IN",
          "TRANSFER",
          "CASH_IN",
          "TRANSFER",
          "DEBIT",
          "TRANSFER",
          "DEBIT",
          "TRANSFER",
          "CASH_IN",
          "DEBIT",
          "PAYMENT",
          "TRANSFER",
          "TRANSFER",
          "CASH_OUT",
          "DEBIT",
          "CASH_OUT",
          "CASH_IN",
          "PAYMENT",
          "DEBIT",
          "CASH_IN",
          "DEBIT",
          "TRANSFER",
          "CASH_OUT",
          "PAYMENT",
          "TRANSFER",
          "CASH_OUT",
          "CASH_OUT",
          "DEBIT",
          "PAYMENT",
          "TRANSFER",
          "DEBIT",
          "CASH_OUT",
          "CASH_IN",
          "TRANSFER",
          "TRANSFER",
          "CASH_OUT",
          "CASH_IN",
          "TRANSFER",
          "TRANSFER",
          "PAYMENT",
          "PAYMENT",
          "TRANSFER",
          "CASH_OUT",
          "DEBIT",
          "CASH_OUT",
          "CASH_OUT",
          "TRANSFER",
          "DEBIT",
          "DEBIT",
          "CASH_IN",
          "CASH_IN",
          "PAYMENT",
          "CASH_OUT",
          "CASH_OUT",
          "TRANSFER",
          "TRANSFER",
          "TRANSFER",
          "TRANSFER",
          "CASH_OUT",
          "PAYMENT",
          "DEBIT",
          "DEBIT",
          "TRANSFER",
          "DEBIT",
          "TRANSFER",
          "CASH_OUT",
          "CASH_IN",
          "PAYMENT",
          "CASH_OUT",
          "PAYMENT",
          "TRANSFER",
          "TRANSFER",
          "DEBIT",
          "TRANSFER",
          "TRANSFER",
          "TRANSFER",
          "CASH_OUT",
          "DEBIT",
          "DEBIT",
          "DEBIT",
          "PAYMENT",
          "PAYMENT",
          "PAYMENT",
          "TRANSFER",
          "TRANSFER",
          "DEBIT",
          "TRANSFER",
          "CASH_IN",
          "TRANSFER",
          "TRANSFER",
          "CASH_OUT",
          "TRANSFER",
          "TRANSFER",
          "CASH_OUT",
          "DEBIT",
          "PAYMENT",
          "CASH_OUT",
          "TRANSFER",
          "PAYMENT",
          "CASH_OUT",
          "DEBIT",
          "CASH_OUT",
          "PAYMENT",
          "CASH_OUT",
          "CASH_OUT",
          "DEBIT",
          "CASH_IN",
          "CASH_IN",
          "CASH_IN",
          "TRANSFER",
          "DEBIT",
          "DEBIT",
          "DEBIT",
          "TRANSFER",
          "DEBIT",
          "CASH_OUT",
          "CASH_IN",
          "CASH_OUT",
          "TRANSFER",
          "PAYMENT",
          "CASH_IN",
          "CASH_OUT",
          "CASH_IN",
          "PAYMENT",
          "CASH_IN",
          "TRANSFER",
          "TRANSFER",
          "TRANSFER",
          "CASH_OUT",
          "PAYMENT",
          "PAYMENT",
          "TRANSFER",
          "CASH_IN",
          "PAYMENT",
          "DEBIT",
          "TRANSFER",
          "PAYMENT",
          "CASH_IN",
          "TRANSFER",
          "DEBIT",
          "DEBIT",
          "PAYMENT",
          "CASH_IN",
          "DEBIT",
          "TRANSFER",
          "CASH_OUT",
          "CASH_OUT",
          "TRANSFER",
          "CASH_OUT",
          "CASH_OUT",
          "CASH_OUT",
          "CASH_IN",
          "TRANSFER",
          "PAYMENT",
          "TRANSFER",
          "TRANSFER",
          "CASH_IN",
          "PAYMENT",
          "DEBIT",
          "CASH_IN",
          "TRANSFER",
          "CASH_OUT",
          "PAYMENT",
          "PAYMENT",
          "PAYMENT",
          "CASH_OUT",
          "CASH_IN",
          "CASH_IN",
          "TRANSFER",
          "PAYMENT",
          "PAYMENT",
          "TRANSFER",
          "DEBIT",
          "PAYMENT",
          "PAYMENT",
          "TRANSFER",
          "TRANSFER",
          "CASH_OUT",
          "CASH_OUT",
          "DEBIT",
          "CASH_OUT",
          "TRANSFER",
          "CASH_OUT",
          "DEBIT",
          "PAYMENT",
          "PAYMENT",
          "DEBIT",
          "CASH_IN",
          "CASH_OUT",
          "PAYMENT",
          "CASH_OUT",
          "DEBIT",
          "DEBIT",
          "CASH_OUT",
          "CASH_IN",
          "PAYMENT",
          "CASH_IN",
          "PAYMENT",
          "CASH_OUT",
          "DEBIT",
          "PAYMENT",
          "CASH_OUT",
          "CASH_OUT",
          "DEBIT",
          "CASH_OUT",
          "DEBIT",
          "PAYMENT",
          "TRANSFER",
          "TRANSFER",
          "TRANSFER",
          "PAYMENT",
          "DEBIT",
          "PAYMENT",
          "DEBIT",
          "CASH_IN",
          "PAYMENT",
          "DEBIT",
          "DEBIT",
          "TRANSFER",
          "CASH_OUT",
          "DEBIT",
          "DEBIT",
          "DEBIT",
          "PAYMENT",
          "PAYMENT",
          "TRANSFER",
          "TRANSFER",
          "CASH_OUT",
          "DEBIT",
          "PAYMENT",
          "CASH_OUT",
          "CASH_IN",
          "TRANSFER",
          "CASH_OUT",
          "PAYMENT",
          "TRANSFER",
          "CASH_OUT",
          "TRANSFER",
          "CASH_OUT",
          "CASH_OUT",
          "DEBIT",
          "PAYMENT",
          "DEBIT",
          "TRANSFER",
          "CASH_OUT",
          "DEBIT",
          "CASH_IN",
          "TRANSFER",
          "CASH_OUT",
          "TRANSFER",
          "CASH_IN",
          "PAYMENT",
          "CASH_OUT",
          "TRANSFER",
          "CASH_OUT",
          "TRANSFER",
          "DEBIT",
          "CASH_OUT",
          "CASH_IN",
          "CASH_OUT",
          "TRANSFER",
          "CASH_OUT",
          "CASH_IN",
          "TRANSFER",
          "DEBIT",
          "CASH_OUT",
          "TRANSFER",
          "CASH_IN",
          "PAYMENT",
          "CASH_IN",
          "DEBIT",
          "DEBIT",
          "PAYMENT",
          "TRANSFER",
          "CASH_OUT",
          "DEBIT",
          "PAYMENT",
          "CASH_OUT",
          "TRANSFER",
          "DEBIT",
          "PAYMENT",
          "PAYMENT",
          "PAYMENT",
          "CASH_OUT",
          "PAYMENT",
          "CASH_IN",
          "DEBIT",
          "CASH_OUT",
          "DEBIT",
          "TRANSFER",
          "PAYMENT",
          "PAYMENT",
          "DEBIT",
          "CASH_OUT",
          "CASH_OUT",
          "CASH_IN",
          "PAYMENT",
          "CASH_IN",
          "CASH_IN",
          "TRANSFER",
          "CASH_OUT",
          "CASH_OUT",
          "TRANSFER",
          "CASH_OUT",
          "DEBIT",
          "CASH_OUT",
          "TRANSFER",
          "PAYMENT",
          "TRANSFER",
          "CASH_OUT",
          "TRANSFER",
          "CASH_IN",
          "TRANSFER",
          "PAYMENT",
          "CASH_IN",
          "CASH_OUT",
          "CASH_IN",
          "TRANSFER",
          "TRANSFER",
          "CASH_OUT",
          "CASH_IN",
          "CASH_OUT",
          "CASH_IN",
          "TRANSFER",
          "TRANSFER",
          "DEBIT",
          "PAYMENT",
          "PAYMENT",
          "PAYMENT",
          "DEBIT",
          "TRANSFER",
          "TRANSFER",
          "CASH_OUT",
          "TRANSFER",
          "PAYMENT",
          "DEBIT",
          "CASH_IN",
          "CASH_OUT",
          "CASH_IN",
          "CASH_IN",
          "CASH_OUT",
          "CASH_OUT",
          "CASH_IN",
          "CASH_OUT",
          "TRANSFER",
          "CASH_IN",
          "TRANSFER",
          "DEBIT",
          "DEBIT",
          "PAYMENT",
          "DEBIT",
          "CASH_IN",
          "CASH_OUT",
          "DEBIT",
          "CASH_OUT",
          "CASH_IN",
          "PAYMENT",
          "TRANSFER",
          "CASH_OUT",
          "CASH_IN",
          "CASH_IN",
          "TRANSFER",
          "CASH_IN",
          "CASH_OUT",
          "CASH_IN",
          "DEBIT",
          "PAYMENT",
          "TRANSFER",
          "TRANSFER",
          "TRANSFER",
          "PAYMENT",
          "TRANSFER",
          "TRANSFER",
          "PAYMENT",
          "DEBIT",
          "CASH_OUT",
          "CASH_IN",
          "CASH_IN",
          "PAYMENT",
          "TRANSFER",
          "CASH_OUT",
          "DEBIT",
          "TRANSFER",
          "CASH_IN",
          "DEBIT",
          "PAYMENT",
          "CASH_OUT",
          "CASH_IN",
          "CASH_OUT",
          "TRANSFER",
          "CASH_OUT",
          "TRANSFER",
          "PAYMENT",
          "CASH_IN",
          "TRANSFER",
          "TRANSFER",
          "TRANSFER",
          "TRANSFER",
          "TRANSFER",
          "PAYMENT",
          "DEBIT",
          "CASH_IN",
          "PAYMENT",
          "PAYMENT",
          "TRANSFER",
          "DEBIT",
          "DEBIT",
          "DEBIT",
          "TRANSFER",
          "TRANSFER",
          "CASH_IN",
          "CASH_OUT",
          "PAYMENT",
          "CASH_IN",
          "CASH_OUT",
          "CASH_IN",
          "CASH_OUT",
          "TRANSFER",
          "CASH_IN",
          "DEBIT",
          "CASH_IN",
          "CASH_OUT",
          "CASH_IN",
          "CASH_OUT",
          "CASH_IN",
          "TRANSFER",
          "CASH_IN",
          "CASH_OUT",
          "PAYMENT",
          "CASH_OUT",
          "PAYMENT",
          "CASH_OUT",
          "CASH_IN",
          "PAYMENT",
          "PAYMENT",
          "CASH_OUT",
          "CASH_IN",
          "DEBIT",
          "PAYMENT",
          "DEBIT",
          "DEBIT",
          "CASH_OUT",
          "CASH_OUT",
          "CASH_OUT",
          "CASH_OUT",
          "DEBIT",
          "CASH_OUT",
          "PAYMENT",
          "CASH_IN",
          "TRANSFER",
          "TRANSFER",
          "CASH_OUT",
          "CASH_IN",
          "TRANSFER",
          "TRANSFER",
          "CASH_OUT",
          "TRANSFER",
          "CASH_IN",
          "CASH_OUT",
          "DEBIT",
          "CASH_OUT",
          "DEBIT",
          "CASH_IN",
          "DEBIT",
          "CASH_IN",
          "CASH_OUT",
          "CASH_OUT",
          "DEBIT",
          "CASH_IN",
          "PAYMENT",
          "CASH_OUT",
          "CASH_IN",
          "CASH_OUT",
          "PAYMENT",
          "CASH_IN",
          "PAYMENT",
          "TRANSFER",
          "CASH_IN",
          "CASH_OUT",
          "CASH_IN",
          "CASH_IN",
          "CASH_OUT",
          "CASH_IN",
          "CASH_IN",
          "TRANSFER",
          "CASH_IN",
          "TRANSFER",
          "CASH_IN",
          "TRANSFER",
          "TRANSFER",
          "DEBIT",
          "CASH_OUT",
          "TRANSFER",
          "PAYMENT",
          "PAYMENT",
          "CASH_OUT",
          "PAYMENT",
          "DEBIT",
          "CASH_OUT",
          "DEBIT",
          "PAYMENT",
          "CASH_IN",
          "TRANSFER",
          "CASH_IN",
          "CASH_IN",
          "TRANSFER",
          "TRANSFER",
          "PAYMENT",
          "TRANSFER",
          "DEBIT",
          "CASH_OUT",
          "DEBIT",
          "PAYMENT",
          "PAYMENT",
          "PAYMENT",
          "CASH_OUT",
          "TRANSFER",
          "PAYMENT",
          "CASH_IN",
          "CASH_IN",
          "CASH_IN",
          "CASH_OUT",
          "CASH_OUT",
          "CASH_OUT",
          "CASH_IN",
          "PAYMENT",
          "TRANSFER",
          "TRANSFER",
          "CASH_OUT",
          "CASH_OUT",
          "CASH_IN",
          "CASH_OUT",
          "DEBIT",
          "DEBIT",
          "CASH_IN",
          "PAYMENT",
          "CASH_OUT",
          "CASH_OUT",
          "PAYMENT",
          "CASH_OUT",
          "CASH_OUT",
          "DEBIT",
          "CASH_OUT",
          "TRANSFER",
          "CASH_OUT",
          "CASH_IN",
          "CASH_IN",
          "TRANSFER",
          "TRANSFER",
          "TRANSFER",
          "CASH_IN",
          "CASH_OUT",
          "TRANSFER",
          "PAYMENT",
          "CASH_IN",
          "TRANSFER",
          "CASH_IN",
          "CASH_OUT",
          "TRANSFER",
          "CASH_IN",
          "CASH_OUT",
          "TRANSFER",
          "CASH_IN",
          "DEBIT",
          "CASH_IN",
          "TRANSFER",
          "TRANSFER",
          "PAYMENT",
          "TRANSFER",
          "DEBIT",
          "CASH_IN",
          "CASH_IN",
          "TRANSFER",
          "PAYMENT",
          "TRANSFER",
          "TRANSFER",
          "PAYMENT",
          "TRANSFER",
          "CASH_IN",
          "TRANSFER",
          "CASH_IN",
          "CASH_OUT",
          "CASH_OUT",
          "PAYMENT",
          "CASH_IN",
          "CASH_OUT",
          "DEBIT",
          "PAYMENT",
          "CASH_OUT",
          "TRANSFER",
          "CASH_OUT",
          "CASH_IN",
          "CASH_OUT",
          "TRANSFER",
          "DEBIT",
          "CASH_OUT",
          "CASH_OUT",
          "DEBIT",
          "TRANSFER",
          "CASH_OUT",
          "CASH_IN",
          "DEBIT",
          "CASH_OUT",
          "TRANSFER",
          "CASH_OUT",
          "DEBIT",
          "CASH_OUT",
          "TRANSFER",
          "TRANSFER",
          "PAYMENT",
          "TRANSFER",
          "CASH_OUT",
          "TRANSFER",
          "CASH_OUT",
          "CASH_OUT",
          "CASH_IN",
          "CASH_OUT",
          "PAYMENT",
          "PAYMENT",
          "CASH_OUT",
          "DEBIT",
          "CASH_OUT",
          "TRANSFER",
          "PAYMENT",
          "PAYMENT",
          "TRANSFER",
          "CASH_OUT",
          "CASH_OUT",
          "CASH_IN",
          "TRANSFER",
          "DEBIT",
          "DEBIT",
          "TRANSFER",
          "TRANSFER",
          "CASH_OUT",
          "CASH_OUT",
          "PAYMENT",
          "CASH_IN",
          "DEBIT",
          "CASH_OUT",
          "TRANSFER",
          "DEBIT",
          "PAYMENT",
          "PAYMENT",
          "TRANSFER",
          "TRANSFER",
          "CASH_OUT",
          "CASH_IN",
          "DEBIT",
          "CASH_IN",
          "PAYMENT",
          "TRANSFER",
          "TRANSFER",
          "CASH_OUT",
          "CASH_OUT",
          "TRANSFER",
          "TRANSFER",
          "CASH_OUT",
          "TRANSFER",
          "CASH_IN",
          "PAYMENT",
          "DEBIT",
          "PAYMENT",
          "TRANSFER",
          "CASH_OUT",
          "PAYMENT",
          "CASH_IN",
          "PAYMENT",
          "CASH_IN",
          "TRANSFER",
          "DEBIT",
          "TRANSFER",
          "CASH_OUT",
          "TRANSFER",
          "TRANSFER",
          "DEBIT",
          "TRANSFER",
          "TRANSFER",
          "TRANSFER",
          "CASH_OUT",
          "CASH_OUT",
          "CASH_OUT",
          "TRANSFER",
          "DEBIT",
          "CASH_IN",
          "DEBIT",
          "CASH_IN",
          "TRANSFER",
          "CASH_OUT",
          "CASH_IN",
          "PAYMENT",
          "CASH_IN",
          "TRANSFER",
          "CASH_OUT",
          "DEBIT",
          "PAYMENT",
          "DEBIT",
          "CASH_OUT",
          "DEBIT",
          "CASH_OUT",
          "TRANSFER",
          "DEBIT",
          "PAYMENT",
          "TRANSFER",
          "TRANSFER",
          "PAYMENT",
          "PAYMENT",
          "CASH_IN",
          "DEBIT",
          "PAYMENT",
          "CASH_OUT",
          "CASH_IN",
          "TRANSFER",
          "PAYMENT",
          "CASH_OUT",
          "CASH_OUT",
          "TRANSFER",
          "CASH_OUT",
          "CASH_IN",
          "DEBIT",
          "CASH_OUT",
          "TRANSFER",
          "TRANSFER",
          "TRANSFER",
          "TRANSFER",
          "CASH_IN",
          "PAYMENT",
          "DEBIT",
          "CASH_OUT",
          "PAYMENT",
          "CASH_IN",
          "TRANSFER",
          "CASH_IN",
          "DEBIT",
          "DEBIT",
          "CASH_IN",
          "PAYMENT",
          "CASH_OUT",
          "TRANSFER",
          "CASH_OUT",
          "CASH_OUT",
          "DEBIT",
          "TRANSFER",
          "CASH_IN",
          "TRANSFER",
          "PAYMENT",
          "CASH_IN",
          "CASH_OUT",
          "TRANSFER",
          "CASH_IN",
          "TRANSFER",
          "CASH_IN",
          "TRANSFER",
          "TRANSFER",
          "CASH_IN",
          "TRANSFER",
          "PAYMENT",
          "TRANSFER",
          "TRANSFER",
          "CASH_IN",
          "TRANSFER",
          "TRANSFER",
          "DEBIT",
          "TRANSFER",
          "TRANSFER",
          "CASH_OUT",
          "DEBIT",
          "CASH_OUT",
          "CASH_OUT",
          "TRANSFER",
          "TRANSFER",
          "TRANSFER",
          "TRANSFER",
          "DEBIT",
          "CASH_OUT",
          "DEBIT",
          "CASH_OUT",
          "CASH_OUT",
          "DEBIT",
          "DEBIT",
          "PAYMENT",
          "CASH_OUT",
          "CASH_OUT",
          "CASH_IN",
          "CASH_OUT",
          "TRANSFER",
          "CASH_OUT",
          "TRANSFER",
          "CASH_IN",
          "CASH_OUT",
          "TRANSFER",
          "CASH_IN",
          "PAYMENT",
          "TRANSFER",
          "TRANSFER",
          "CASH_OUT",
          "CASH_OUT",
          "TRANSFER",
          "CASH_IN",
          "TRANSFER",
          "CASH_OUT",
          "TRANSFER",
          "PAYMENT",
          "TRANSFER",
          "DEBIT",
          "TRANSFER",
          "TRANSFER",
          "PAYMENT",
          "PAYMENT",
          "PAYMENT",
          "TRANSFER",
          "CASH_OUT",
          "TRANSFER",
          "CASH_OUT",
          "CASH_OUT",
          "TRANSFER",
          "CASH_IN",
          "TRANSFER",
          "PAYMENT",
          "CASH_OUT",
          "PAYMENT",
          "DEBIT",
          "TRANSFER",
          "TRANSFER",
          "TRANSFER",
          "TRANSFER",
          "TRANSFER",
          "CASH_IN",
          "TRANSFER",
          "CASH_OUT",
          "PAYMENT",
          "DEBIT",
          "PAYMENT",
          "CASH_OUT",
          "CASH_IN",
          "PAYMENT",
          "TRANSFER",
          "TRANSFER",
          "CASH_OUT",
          "PAYMENT",
          "PAYMENT",
          "PAYMENT",
          "CASH_IN",
          "CASH_IN",
          "TRANSFER",
          "TRANSFER",
          "DEBIT",
          "DEBIT",
          "PAYMENT",
          "PAYMENT",
          "CASH_OUT",
          "PAYMENT",
          "TRANSFER",
          "CASH_OUT",
          "CASH_IN",
          "CASH_OUT",
          "TRANSFER",
          "CASH_OUT",
          "PAYMENT",
          "TRANSFER",
          "CASH_OUT",
          "TRANSFER",
          "DEBIT",
          "PAYMENT",
          "CASH_OUT",
          "DEBIT",
          "TRANSFER",
          "CASH_OUT",
          "TRANSFER",
          "TRANSFER",
          "CASH_OUT",
          "DEBIT",
          "TRANSFER",
          "CASH_OUT",
          "TRANSFER",
          "DEBIT",
          "TRANSFER",
          "TRANSFER",
          "CASH_IN",
          "CASH_OUT",
          "CASH_OUT",
          "PAYMENT",
          "TRANSFER",
          "CASH_OUT",
          "CASH_OUT",
          "CASH_OUT",
          "CASH_OUT",
          "CASH_OUT",
          "TRANSFER",
          "CASH_IN",
          "TRANSFER",
          "TRANSFER",
          "CASH_IN",
          "PAYMENT",
          "DEBIT",
          "PAYMENT",
          "PAYMENT",
          "PAYMENT",
          "DEBIT",
          "CASH_OUT",
          "DEBIT",
          "PAYMENT",
          "DEBIT",
          "DEBIT",
          "CASH_IN",
          "CASH_OUT",
          "DEBIT",
          "CASH_OUT",
          "TRANSFER",
          "TRANSFER",
          "PAYMENT",
          "CASH_IN",
          "TRANSFER",
          "TRANSFER",
          "CASH_IN",
          "DEBIT",
          "CASH_OUT",
          "CASH_IN",
          "CASH_OUT",
          "PAYMENT",
          "CASH_IN",
          "PAYMENT",
          "DEBIT",
          "TRANSFER",
          "CASH_OUT",
          "DEBIT",
          "TRANSFER",
          "CASH_OUT",
          "TRANSFER",
          "PAYMENT",
          "DEBIT",
          "PAYMENT",
          "TRANSFER",
          "CASH_IN",
          "DEBIT",
          "PAYMENT",
          "CASH_OUT",
          "PAYMENT",
          "DEBIT",
          "TRANSFER",
          "DEBIT",
          "CASH_IN",
          "TRANSFER",
          "DEBIT",
          "DEBIT",
          "CASH_OUT",
          "TRANSFER",
          "CASH_IN",
          "CASH_OUT",
          "PAYMENT",
          "TRANSFER",
          "CASH_OUT",
          "CASH_OUT",
          "CASH_OUT",
          "TRANSFER",
          "CASH_OUT",
          "TRANSFER",
          "CASH_OUT",
          "CASH_OUT",
          "PAYMENT",
          "PAYMENT",
          "DEBIT",
          "CASH_OUT",
          "CASH_OUT",
          "PAYMENT",
          "PAYMENT",
          "CASH_OUT",
          "TRANSFER",
          "PAYMENT",
          "TRANSFER",
          "CASH_IN",
          "CASH_OUT",
          "CASH_OUT",
          "CASH_OUT",
          "CASH_IN",
          "CASH_IN",
          "TRANSFER",
          "CASH_OUT",
          "CASH_IN",
          "TRANSFER",
          "CASH_OUT",
          "CASH_OUT",
          "CASH_OUT",
          "PAYMENT",
          "CASH_OUT",
          "DEBIT",
          "TRANSFER",
          "PAYMENT",
          "TRANSFER",
          "CASH_IN",
          "CASH_OUT",
          "PAYMENT",
          "CASH_OUT",
          "DEBIT",
          "CASH_OUT",
          "TRANSFER",
          "TRANSFER",
          "PAYMENT",
          "DEBIT",
          "CASH_OUT",
          "TRANSFER",
          "DEBIT",
          "PAYMENT",
          "PAYMENT",
          "TRANSFER",
          "TRANSFER",
          "TRANSFER",
          "CASH_OUT",
          "CASH_IN",
          "CASH_OUT",
          "CASH_IN",
          "TRANSFER",
          "CASH_OUT",
          "CASH_OUT",
          "DEBIT",
          "CASH_OUT",
          "CASH_OUT",
          "DEBIT",
          "DEBIT",
          "PAYMENT",
          "CASH_OUT",
          "TRANSFER",
          "CASH_OUT",
          "CASH_OUT",
          "PAYMENT",
          "CASH_OUT",
          "CASH_OUT",
          "CASH_OUT",
          "CASH_OUT",
          "TRANSFER",
          "CASH_OUT",
          "CASH_OUT",
          "TRANSFER",
          "CASH_IN",
          "CASH_OUT",
          "TRANSFER",
          "CASH_OUT",
          "PAYMENT",
          "CASH_OUT",
          "TRANSFER",
          "CASH_OUT",
          "CASH_IN",
          "CASH_IN",
          "PAYMENT",
          "CASH_OUT",
          "TRANSFER",
          "TRANSFER",
          "CASH_OUT",
          "TRANSFER",
          "CASH_OUT",
          "CASH_OUT",
          "TRANSFER",
          "TRANSFER",
          "TRANSFER",
          "PAYMENT",
          "CASH_OUT",
          "PAYMENT",
          "CASH_OUT",
          "CASH_IN",
          "PAYMENT",
          "PAYMENT",
          "CASH_OUT",
          "TRANSFER",
          "TRANSFER",
          "PAYMENT",
          "TRANSFER",
          "PAYMENT",
          "TRANSFER",
          "CASH_OUT",
          "PAYMENT",
          "TRANSFER",
          "TRANSFER",
          "TRANSFER",
          "TRANSFER",
          "CASH_OUT",
          "PAYMENT",
          "TRANSFER",
          "DEBIT",
          "CASH_IN",
          "DEBIT",
          "CASH_OUT",
          "DEBIT",
          "CASH_IN",
          "TRANSFER",
          "PAYMENT",
          "TRANSFER",
          "TRANSFER",
          "CASH_OUT",
          "TRANSFER",
          "DEBIT",
          "TRANSFER",
          "TRANSFER",
          "TRANSFER",
          "TRANSFER",
          "CASH_OUT",
          "TRANSFER",
          "TRANSFER",
          "PAYMENT",
          "CASH_IN",
          "DEBIT",
          "TRANSFER",
          "CASH_OUT",
          "DEBIT",
          "TRANSFER",
          "PAYMENT",
          "DEBIT",
          "DEBIT",
          "CASH_OUT",
          "CASH_OUT",
          "DEBIT",
          "PAYMENT",
          "CASH_OUT",
          "CASH_OUT",
          "DEBIT",
          "CASH_IN",
          "CASH_IN",
          "PAYMENT",
          "TRANSFER",
          "CASH_OUT",
          "TRANSFER",
          "DEBIT",
          "PAYMENT",
          "TRANSFER",
          "TRANSFER",
          "TRANSFER",
          "PAYMENT",
          "CASH_OUT",
          "CASH_OUT",
          "DEBIT",
          "CASH_IN",
          "TRANSFER",
          "CASH_OUT",
          "TRANSFER",
          "PAYMENT",
          "DEBIT",
          "TRANSFER",
          "CASH_IN",
          "CASH_IN",
          "TRANSFER",
          "CASH_OUT",
          "PAYMENT",
          "CASH_OUT",
          "TRANSFER",
          "TRANSFER",
          "PAYMENT",
          "PAYMENT",
          "PAYMENT",
          "TRANSFER",
          "TRANSFER",
          "DEBIT",
          "CASH_IN",
          "TRANSFER",
          "PAYMENT",
          "PAYMENT",
          "TRANSFER",
          "CASH_OUT",
          "TRANSFER",
          "CASH_OUT",
          "CASH_OUT",
          "TRANSFER",
          "CASH_OUT",
          "CASH_IN",
          "TRANSFER",
          "PAYMENT",
          "TRANSFER",
          "CASH_IN",
          "DEBIT",
          "CASH_OUT",
          "PAYMENT",
          "CASH_OUT",
          "PAYMENT",
          "CASH_OUT",
          "DEBIT",
          "CASH_OUT",
          "TRANSFER",
          "CASH_OUT",
          "CASH_IN",
          "CASH_OUT",
          "TRANSFER",
          "TRANSFER",
          "TRANSFER",
          "PAYMENT",
          "TRANSFER",
          "CASH_OUT",
          "TRANSFER",
          "CASH_OUT",
          "CASH_OUT",
          "DEBIT",
          "CASH_IN",
          "PAYMENT",
          "PAYMENT",
          "TRANSFER",
          "CASH_OUT",
          "TRANSFER",
          "DEBIT",
          "CASH_OUT",
          "PAYMENT",
          "TRANSFER",
          "TRANSFER",
          "DEBIT",
          "CASH_OUT",
          "TRANSFER",
          "PAYMENT",
          "TRANSFER",
          "PAYMENT",
          "PAYMENT",
          "DEBIT",
          "CASH_OUT",
          "TRANSFER",
          "DEBIT",
          "CASH_IN",
          "CASH_OUT",
          "TRANSFER",
          "TRANSFER",
          "CASH_IN",
          "DEBIT",
          "CASH_IN",
          "CASH_OUT",
          "CASH_OUT",
          "PAYMENT",
          "CASH_OUT",
          "CASH_IN",
          "TRANSFER",
          "CASH_OUT",
          "PAYMENT",
          "CASH_OUT",
          "DEBIT",
          "PAYMENT",
          "PAYMENT",
          "TRANSFER",
          "CASH_OUT",
          "DEBIT",
          "PAYMENT",
          "DEBIT",
          "CASH_IN",
          "TRANSFER",
          "TRANSFER",
          "CASH_IN",
          "CASH_IN",
          "CASH_OUT",
          "CASH_OUT",
          "CASH_OUT",
          "CASH_IN",
          "CASH_OUT",
          "DEBIT",
          "CASH_OUT",
          "PAYMENT",
          "PAYMENT",
          "TRANSFER",
          "DEBIT",
          "TRANSFER",
          "CASH_IN",
          "TRANSFER",
          "DEBIT",
          "CASH_OUT",
          "DEBIT",
          "TRANSFER",
          "CASH_OUT",
          "PAYMENT",
          "TRANSFER",
          "DEBIT",
          "TRANSFER",
          "PAYMENT",
          "TRANSFER",
          "PAYMENT",
          "CASH_IN",
          "TRANSFER",
          "TRANSFER",
          "DEBIT",
          "PAYMENT",
          "DEBIT",
          "TRANSFER",
          "DEBIT",
          "CASH_OUT",
          "DEBIT",
          "CASH_IN",
          "CASH_OUT",
          "CASH_OUT",
          "TRANSFER",
          "TRANSFER",
          "CASH_IN",
          "DEBIT",
          "TRANSFER",
          "CASH_OUT",
          "TRANSFER",
          "CASH_IN",
          "CASH_OUT",
          "CASH_IN",
          "TRANSFER",
          "TRANSFER",
          "CASH_OUT",
          "PAYMENT",
          "TRANSFER",
          "TRANSFER",
          "CASH_OUT",
          "PAYMENT",
          "CASH_OUT",
          "PAYMENT",
          "CASH_OUT",
          "PAYMENT",
          "CASH_OUT",
          "TRANSFER",
          "CASH_OUT",
          "PAYMENT",
          "CASH_IN",
          "PAYMENT",
          "TRANSFER",
          "CASH_OUT",
          "TRANSFER",
          "TRANSFER",
          "TRANSFER",
          "TRANSFER",
          "DEBIT",
          "TRANSFER",
          "TRANSFER",
          "PAYMENT",
          "CASH_OUT",
          "CASH_OUT",
          "TRANSFER",
          "DEBIT",
          "CASH_IN",
          "CASH_OUT",
          "CASH_IN",
          "DEBIT",
          "DEBIT",
          "CASH_OUT",
          "TRANSFER",
          "TRANSFER",
          "PAYMENT",
          "CASH_OUT",
          "CASH_IN",
          "DEBIT",
          "TRANSFER",
          "TRANSFER",
          "CASH_IN",
          "CASH_IN",
          "DEBIT",
          "DEBIT",
          "CASH_OUT",
          "DEBIT",
          "PAYMENT",
          "DEBIT",
          "DEBIT",
          "TRANSFER",
          "TRANSFER",
          "TRANSFER",
          "TRANSFER",
          "TRANSFER",
          "DEBIT",
          "CASH_OUT",
          "CASH_IN",
          "CASH_OUT",
          "TRANSFER",
          "DEBIT",
          "CASH_IN",
          "TRANSFER",
          "TRANSFER",
          "CASH_IN",
          "DEBIT",
          "CASH_OUT",
          "CASH_IN",
          "CASH_OUT",
          "CASH_IN",
          "TRANSFER",
          "CASH_IN",
          "CASH_OUT",
          "CASH_OUT",
          "TRANSFER",
          "CASH_OUT",
          "DEBIT",
          "CASH_OUT",
          "DEBIT",
          "CASH_IN",
          "CASH_OUT",
          "TRANSFER",
          "TRANSFER",
          "CASH_OUT",
          "CASH_OUT",
          "TRANSFER",
          "CASH_OUT",
          "TRANSFER",
          "CASH_OUT",
          "TRANSFER",
          "PAYMENT",
          "TRANSFER",
          "CASH_OUT",
          "CASH_OUT",
          "CASH_OUT",
          "DEBIT",
          "CASH_OUT",
          "TRANSFER",
          "CASH_OUT",
          "TRANSFER",
          "CASH_IN",
          "CASH_OUT",
          "CASH_OUT",
          "CASH_OUT",
          "CASH_OUT",
          "DEBIT",
          "TRANSFER",
          "TRANSFER",
          "TRANSFER",
          "TRANSFER",
          "DEBIT",
          "CASH_OUT",
          "CASH_OUT",
          "PAYMENT",
          "CASH_OUT",
          "CASH_OUT",
          "DEBIT",
          "CASH_IN",
          "DEBIT",
          "TRANSFER",
          "CASH_OUT",
          "TRANSFER",
          "CASH_OUT",
          "CASH_OUT",
          "PAYMENT",
          "CASH_OUT",
          "CASH_OUT",
          "CASH_OUT",
          "CASH_OUT",
          "CASH_IN",
          "PAYMENT",
          "CASH_IN",
          "TRANSFER",
          "CASH_OUT",
          "DEBIT",
          "TRANSFER",
          "CASH_OUT",
          "DEBIT",
          "DEBIT",
          "CASH_OUT",
          "PAYMENT",
          "TRANSFER",
          "PAYMENT",
          "CASH_OUT",
          "PAYMENT",
          "CASH_OUT",
          "TRANSFER",
          "TRANSFER",
          "DEBIT",
          "CASH_OUT",
          "CASH_OUT",
          "TRANSFER",
          "CASH_OUT",
          "CASH_OUT",
          "CASH_OUT",
          "DEBIT",
          "DEBIT",
          "CASH_OUT",
          "CASH_OUT",
          "CASH_IN",
          "DEBIT",
          "TRANSFER",
          "TRANSFER",
          "CASH_IN",
          "CASH_OUT",
          "TRANSFER",
          "CASH_OUT",
          "CASH_IN",
          "TRANSFER",
          "TRANSFER",
          "CASH_OUT",
          "TRANSFER",
          "CASH_OUT",
          "TRANSFER",
          "CASH_OUT",
          "CASH_OUT",
          "TRANSFER",
          "CASH_OUT",
          "CASH_IN",
          "CASH_IN",
          "PAYMENT",
          "TRANSFER",
          "TRANSFER",
          "CASH_OUT",
          "TRANSFER",
          "CASH_OUT",
          "DEBIT",
          "CASH_OUT",
          "PAYMENT",
          "CASH_OUT",
          "DEBIT",
          "DEBIT",
          "DEBIT",
          "CASH_IN",
          "TRANSFER",
          "PAYMENT",
          "PAYMENT",
          "DEBIT",
          "CASH_IN",
          "TRANSFER",
          "TRANSFER",
          "CASH_OUT",
          "DEBIT",
          "CASH_OUT",
          "CASH_OUT",
          "CASH_IN",
          "PAYMENT",
          "TRANSFER",
          "TRANSFER",
          "TRANSFER",
          "DEBIT",
          "TRANSFER",
          "DEBIT",
          "TRANSFER",
          "DEBIT",
          "CASH_IN",
          "CASH_OUT",
          "PAYMENT",
          "CASH_OUT",
          "CASH_OUT",
          "CASH_IN",
          "CASH_IN",
          "CASH_OUT",
          "TRANSFER",
          "CASH_OUT",
          "CASH_OUT",
          "PAYMENT",
          "TRANSFER",
          "CASH_IN",
          "CASH_OUT",
          "TRANSFER",
          "CASH_OUT",
          "PAYMENT",
          "CASH_IN",
          "TRANSFER",
          "CASH_OUT",
          "TRANSFER",
          "TRANSFER",
          "TRANSFER",
          "CASH_OUT",
          "TRANSFER",
          "PAYMENT",
          "CASH_OUT",
          "CASH_OUT",
          "CASH_OUT",
          "CASH_OUT",
          "CASH_IN",
          "PAYMENT",
          "CASH_OUT",
          "TRANSFER",
          "CASH_IN",
          "CASH_IN",
          "TRANSFER",
          "CASH_OUT",
          "DEBIT",
          "TRANSFER",
          "CASH_IN",
          "CASH_OUT",
          "TRANSFER",
          "CASH_OUT",
          "CASH_OUT",
          "PAYMENT",
          "DEBIT",
          "TRANSFER",
          "TRANSFER",
          "CASH_OUT",
          "TRANSFER",
          "PAYMENT",
          "PAYMENT",
          "CASH_IN",
          "CASH_OUT",
          "CASH_IN",
          "CASH_OUT",
          "CASH_IN",
          "CASH_OUT",
          "DEBIT",
          "DEBIT",
          "DEBIT",
          "TRANSFER",
          "CASH_IN",
          "TRANSFER",
          "CASH_IN",
          "CASH_OUT",
          "CASH_IN",
          "DEBIT",
          "CASH_IN",
          "CASH_OUT",
          "DEBIT",
          "TRANSFER",
          "PAYMENT",
          "TRANSFER",
          "PAYMENT",
          "CASH_OUT",
          "CASH_OUT",
          "TRANSFER",
          "DEBIT",
          "CASH_OUT",
          "TRANSFER",
          "CASH_IN",
          "TRANSFER",
          "CASH_OUT",
          "TRANSFER",
          "CASH_OUT",
          "CASH_IN",
          "CASH_OUT",
          "CASH_OUT",
          "CASH_IN",
          "CASH_OUT",
          "TRANSFER",
          "DEBIT",
          "TRANSFER",
          "TRANSFER",
          "PAYMENT",
          "CASH_OUT",
          "CASH_OUT",
          "DEBIT",
          "CASH_IN",
          "DEBIT",
          "PAYMENT",
          "CASH_IN",
          "CASH_OUT",
          "PAYMENT",
          "TRANSFER",
          "TRANSFER",
          "CASH_OUT",
          "PAYMENT",
          "DEBIT",
          "CASH_OUT",
          "CASH_OUT",
          "TRANSFER",
          "CASH_OUT",
          "TRANSFER",
          "DEBIT",
          "CASH_OUT",
          "TRANSFER",
          "DEBIT",
          "PAYMENT",
          "CASH_OUT",
          "TRANSFER",
          "CASH_OUT",
          "TRANSFER",
          "CASH_OUT",
          "PAYMENT",
          "DEBIT",
          "DEBIT",
          "CASH_IN",
          "DEBIT",
          "CASH_OUT",
          "CASH_OUT",
          "PAYMENT",
          "PAYMENT",
          "TRANSFER",
          "PAYMENT",
          "CASH_OUT",
          "CASH_OUT",
          "TRANSFER",
          "CASH_OUT",
          "PAYMENT",
          "CASH_OUT",
          "TRANSFER",
          "TRANSFER",
          "TRANSFER",
          "TRANSFER",
          "CASH_OUT",
          "TRANSFER",
          "CASH_OUT",
          "CASH_IN",
          "CASH_OUT",
          "CASH_IN",
          "CASH_IN",
          "CASH_OUT",
          "TRANSFER",
          "TRANSFER",
          "CASH_OUT",
          "CASH_IN",
          "CASH_OUT",
          "CASH_OUT",
          "CASH_OUT",
          "DEBIT",
          "TRANSFER",
          "CASH_OUT",
          "TRANSFER",
          "PAYMENT",
          "CASH_IN",
          "TRANSFER",
          "DEBIT",
          "CASH_OUT",
          "CASH_OUT",
          "DEBIT",
          "CASH_IN",
          "CASH_OUT",
          "PAYMENT",
          "CASH_OUT",
          "TRANSFER",
          "TRANSFER",
          "TRANSFER",
          "DEBIT",
          "TRANSFER",
          "CASH_IN",
          "DEBIT",
          "TRANSFER",
          "CASH_OUT",
          "DEBIT",
          "TRANSFER",
          "TRANSFER",
          "CASH_OUT",
          "TRANSFER",
          "CASH_IN",
          "CASH_OUT",
          "CASH_IN",
          "TRANSFER",
          "CASH_IN",
          "TRANSFER",
          "CASH_OUT",
          "TRANSFER",
          "TRANSFER",
          "CASH_IN",
          "CASH_OUT",
          "CASH_OUT",
          "DEBIT",
          "CASH_IN",
          "DEBIT",
          "CASH_OUT",
          "PAYMENT",
          "CASH_IN",
          "PAYMENT",
          "TRANSFER",
          "CASH_OUT",
          "CASH_OUT",
          "TRANSFER",
          "CASH_OUT",
          "CASH_OUT",
          "CASH_OUT",
          "CASH_OUT",
          "TRANSFER",
          "CASH_OUT",
          "TRANSFER",
          "DEBIT",
          "CASH_IN",
          "CASH_OUT",
          "TRANSFER",
          "CASH_OUT",
          "CASH_OUT",
          "TRANSFER",
          "TRANSFER",
          "TRANSFER",
          "PAYMENT",
          "CASH_IN",
          "DEBIT",
          "DEBIT",
          "PAYMENT",
          "CASH_IN",
          "CASH_OUT",
          "CASH_IN",
          "TRANSFER",
          "TRANSFER",
          "CASH_OUT",
          "CASH_OUT",
          "PAYMENT",
          "PAYMENT",
          "CASH_IN",
          "PAYMENT",
          "CASH_OUT",
          "CASH_OUT",
          "CASH_OUT",
          "CASH_OUT",
          "DEBIT",
          "CASH_IN",
          "CASH_OUT",
          "DEBIT",
          "DEBIT",
          "CASH_OUT",
          "TRANSFER",
          "TRANSFER",
          "CASH_OUT"
         ],
         "y0": " ",
         "yaxis": "y"
        }
       ],
       "layout": {
        "boxmode": "group",
        "height": 400,
        "legend": {
         "tracegroupgap": 0
        },
        "margin": {
         "b": 0,
         "l": 0,
         "r": 0,
         "t": 30
        },
        "template": {
         "data": {
          "bar": [
           {
            "error_x": {
             "color": "rgb(36,36,36)"
            },
            "error_y": {
             "color": "rgb(36,36,36)"
            },
            "marker": {
             "line": {
              "color": "rgb(234,234,242)",
              "width": 0.5
             },
             "pattern": {
              "fillmode": "overlay",
              "size": 10,
              "solidity": 0.2
             }
            },
            "type": "bar"
           }
          ],
          "barpolar": [
           {
            "marker": {
             "line": {
              "color": "rgb(234,234,242)",
              "width": 0.5
             },
             "pattern": {
              "fillmode": "overlay",
              "size": 10,
              "solidity": 0.2
             }
            },
            "type": "barpolar"
           }
          ],
          "carpet": [
           {
            "aaxis": {
             "endlinecolor": "rgb(36,36,36)",
             "gridcolor": "white",
             "linecolor": "white",
             "minorgridcolor": "white",
             "startlinecolor": "rgb(36,36,36)"
            },
            "baxis": {
             "endlinecolor": "rgb(36,36,36)",
             "gridcolor": "white",
             "linecolor": "white",
             "minorgridcolor": "white",
             "startlinecolor": "rgb(36,36,36)"
            },
            "type": "carpet"
           }
          ],
          "choropleth": [
           {
            "colorbar": {
             "outlinewidth": 0,
             "tickcolor": "rgb(36,36,36)",
             "ticklen": 8,
             "ticks": "outside",
             "tickwidth": 2
            },
            "type": "choropleth"
           }
          ],
          "contour": [
           {
            "colorbar": {
             "outlinewidth": 0,
             "tickcolor": "rgb(36,36,36)",
             "ticklen": 8,
             "ticks": "outside",
             "tickwidth": 2
            },
            "colorscale": [
             [
              0,
              "rgb(2,4,25)"
             ],
             [
              0.06274509803921569,
              "rgb(24,15,41)"
             ],
             [
              0.12549019607843137,
              "rgb(47,23,57)"
             ],
             [
              0.18823529411764706,
              "rgb(71,28,72)"
             ],
             [
              0.25098039215686274,
              "rgb(97,30,82)"
             ],
             [
              0.3137254901960784,
              "rgb(123,30,89)"
             ],
             [
              0.3764705882352941,
              "rgb(150,27,91)"
             ],
             [
              0.4392156862745098,
              "rgb(177,22,88)"
             ],
             [
              0.5019607843137255,
              "rgb(203,26,79)"
             ],
             [
              0.5647058823529412,
              "rgb(223,47,67)"
             ],
             [
              0.6274509803921569,
              "rgb(236,76,61)"
             ],
             [
              0.6901960784313725,
              "rgb(242,107,73)"
             ],
             [
              0.7529411764705882,
              "rgb(244,135,95)"
             ],
             [
              0.8156862745098039,
              "rgb(245,162,122)"
             ],
             [
              0.8784313725490196,
              "rgb(246,188,153)"
             ],
             [
              0.9411764705882353,
              "rgb(247,212,187)"
             ],
             [
              1,
              "rgb(250,234,220)"
             ]
            ],
            "type": "contour"
           }
          ],
          "contourcarpet": [
           {
            "colorbar": {
             "outlinewidth": 0,
             "tickcolor": "rgb(36,36,36)",
             "ticklen": 8,
             "ticks": "outside",
             "tickwidth": 2
            },
            "type": "contourcarpet"
           }
          ],
          "heatmap": [
           {
            "colorbar": {
             "outlinewidth": 0,
             "tickcolor": "rgb(36,36,36)",
             "ticklen": 8,
             "ticks": "outside",
             "tickwidth": 2
            },
            "colorscale": [
             [
              0,
              "rgb(2,4,25)"
             ],
             [
              0.06274509803921569,
              "rgb(24,15,41)"
             ],
             [
              0.12549019607843137,
              "rgb(47,23,57)"
             ],
             [
              0.18823529411764706,
              "rgb(71,28,72)"
             ],
             [
              0.25098039215686274,
              "rgb(97,30,82)"
             ],
             [
              0.3137254901960784,
              "rgb(123,30,89)"
             ],
             [
              0.3764705882352941,
              "rgb(150,27,91)"
             ],
             [
              0.4392156862745098,
              "rgb(177,22,88)"
             ],
             [
              0.5019607843137255,
              "rgb(203,26,79)"
             ],
             [
              0.5647058823529412,
              "rgb(223,47,67)"
             ],
             [
              0.6274509803921569,
              "rgb(236,76,61)"
             ],
             [
              0.6901960784313725,
              "rgb(242,107,73)"
             ],
             [
              0.7529411764705882,
              "rgb(244,135,95)"
             ],
             [
              0.8156862745098039,
              "rgb(245,162,122)"
             ],
             [
              0.8784313725490196,
              "rgb(246,188,153)"
             ],
             [
              0.9411764705882353,
              "rgb(247,212,187)"
             ],
             [
              1,
              "rgb(250,234,220)"
             ]
            ],
            "type": "heatmap"
           }
          ],
          "heatmapgl": [
           {
            "colorbar": {
             "outlinewidth": 0,
             "tickcolor": "rgb(36,36,36)",
             "ticklen": 8,
             "ticks": "outside",
             "tickwidth": 2
            },
            "colorscale": [
             [
              0,
              "rgb(2,4,25)"
             ],
             [
              0.06274509803921569,
              "rgb(24,15,41)"
             ],
             [
              0.12549019607843137,
              "rgb(47,23,57)"
             ],
             [
              0.18823529411764706,
              "rgb(71,28,72)"
             ],
             [
              0.25098039215686274,
              "rgb(97,30,82)"
             ],
             [
              0.3137254901960784,
              "rgb(123,30,89)"
             ],
             [
              0.3764705882352941,
              "rgb(150,27,91)"
             ],
             [
              0.4392156862745098,
              "rgb(177,22,88)"
             ],
             [
              0.5019607843137255,
              "rgb(203,26,79)"
             ],
             [
              0.5647058823529412,
              "rgb(223,47,67)"
             ],
             [
              0.6274509803921569,
              "rgb(236,76,61)"
             ],
             [
              0.6901960784313725,
              "rgb(242,107,73)"
             ],
             [
              0.7529411764705882,
              "rgb(244,135,95)"
             ],
             [
              0.8156862745098039,
              "rgb(245,162,122)"
             ],
             [
              0.8784313725490196,
              "rgb(246,188,153)"
             ],
             [
              0.9411764705882353,
              "rgb(247,212,187)"
             ],
             [
              1,
              "rgb(250,234,220)"
             ]
            ],
            "type": "heatmapgl"
           }
          ],
          "histogram": [
           {
            "marker": {
             "pattern": {
              "fillmode": "overlay",
              "size": 10,
              "solidity": 0.2
             }
            },
            "type": "histogram"
           }
          ],
          "histogram2d": [
           {
            "colorbar": {
             "outlinewidth": 0,
             "tickcolor": "rgb(36,36,36)",
             "ticklen": 8,
             "ticks": "outside",
             "tickwidth": 2
            },
            "colorscale": [
             [
              0,
              "rgb(2,4,25)"
             ],
             [
              0.06274509803921569,
              "rgb(24,15,41)"
             ],
             [
              0.12549019607843137,
              "rgb(47,23,57)"
             ],
             [
              0.18823529411764706,
              "rgb(71,28,72)"
             ],
             [
              0.25098039215686274,
              "rgb(97,30,82)"
             ],
             [
              0.3137254901960784,
              "rgb(123,30,89)"
             ],
             [
              0.3764705882352941,
              "rgb(150,27,91)"
             ],
             [
              0.4392156862745098,
              "rgb(177,22,88)"
             ],
             [
              0.5019607843137255,
              "rgb(203,26,79)"
             ],
             [
              0.5647058823529412,
              "rgb(223,47,67)"
             ],
             [
              0.6274509803921569,
              "rgb(236,76,61)"
             ],
             [
              0.6901960784313725,
              "rgb(242,107,73)"
             ],
             [
              0.7529411764705882,
              "rgb(244,135,95)"
             ],
             [
              0.8156862745098039,
              "rgb(245,162,122)"
             ],
             [
              0.8784313725490196,
              "rgb(246,188,153)"
             ],
             [
              0.9411764705882353,
              "rgb(247,212,187)"
             ],
             [
              1,
              "rgb(250,234,220)"
             ]
            ],
            "type": "histogram2d"
           }
          ],
          "histogram2dcontour": [
           {
            "colorbar": {
             "outlinewidth": 0,
             "tickcolor": "rgb(36,36,36)",
             "ticklen": 8,
             "ticks": "outside",
             "tickwidth": 2
            },
            "colorscale": [
             [
              0,
              "rgb(2,4,25)"
             ],
             [
              0.06274509803921569,
              "rgb(24,15,41)"
             ],
             [
              0.12549019607843137,
              "rgb(47,23,57)"
             ],
             [
              0.18823529411764706,
              "rgb(71,28,72)"
             ],
             [
              0.25098039215686274,
              "rgb(97,30,82)"
             ],
             [
              0.3137254901960784,
              "rgb(123,30,89)"
             ],
             [
              0.3764705882352941,
              "rgb(150,27,91)"
             ],
             [
              0.4392156862745098,
              "rgb(177,22,88)"
             ],
             [
              0.5019607843137255,
              "rgb(203,26,79)"
             ],
             [
              0.5647058823529412,
              "rgb(223,47,67)"
             ],
             [
              0.6274509803921569,
              "rgb(236,76,61)"
             ],
             [
              0.6901960784313725,
              "rgb(242,107,73)"
             ],
             [
              0.7529411764705882,
              "rgb(244,135,95)"
             ],
             [
              0.8156862745098039,
              "rgb(245,162,122)"
             ],
             [
              0.8784313725490196,
              "rgb(246,188,153)"
             ],
             [
              0.9411764705882353,
              "rgb(247,212,187)"
             ],
             [
              1,
              "rgb(250,234,220)"
             ]
            ],
            "type": "histogram2dcontour"
           }
          ],
          "mesh3d": [
           {
            "colorbar": {
             "outlinewidth": 0,
             "tickcolor": "rgb(36,36,36)",
             "ticklen": 8,
             "ticks": "outside",
             "tickwidth": 2
            },
            "type": "mesh3d"
           }
          ],
          "parcoords": [
           {
            "line": {
             "colorbar": {
              "outlinewidth": 0,
              "tickcolor": "rgb(36,36,36)",
              "ticklen": 8,
              "ticks": "outside",
              "tickwidth": 2
             }
            },
            "type": "parcoords"
           }
          ],
          "pie": [
           {
            "automargin": true,
            "type": "pie"
           }
          ],
          "scatter": [
           {
            "fillpattern": {
             "fillmode": "overlay",
             "size": 10,
             "solidity": 0.2
            },
            "type": "scatter"
           }
          ],
          "scatter3d": [
           {
            "line": {
             "colorbar": {
              "outlinewidth": 0,
              "tickcolor": "rgb(36,36,36)",
              "ticklen": 8,
              "ticks": "outside",
              "tickwidth": 2
             }
            },
            "marker": {
             "colorbar": {
              "outlinewidth": 0,
              "tickcolor": "rgb(36,36,36)",
              "ticklen": 8,
              "ticks": "outside",
              "tickwidth": 2
             }
            },
            "type": "scatter3d"
           }
          ],
          "scattercarpet": [
           {
            "marker": {
             "colorbar": {
              "outlinewidth": 0,
              "tickcolor": "rgb(36,36,36)",
              "ticklen": 8,
              "ticks": "outside",
              "tickwidth": 2
             }
            },
            "type": "scattercarpet"
           }
          ],
          "scattergeo": [
           {
            "marker": {
             "colorbar": {
              "outlinewidth": 0,
              "tickcolor": "rgb(36,36,36)",
              "ticklen": 8,
              "ticks": "outside",
              "tickwidth": 2
             }
            },
            "type": "scattergeo"
           }
          ],
          "scattergl": [
           {
            "marker": {
             "colorbar": {
              "outlinewidth": 0,
              "tickcolor": "rgb(36,36,36)",
              "ticklen": 8,
              "ticks": "outside",
              "tickwidth": 2
             }
            },
            "type": "scattergl"
           }
          ],
          "scattermapbox": [
           {
            "marker": {
             "colorbar": {
              "outlinewidth": 0,
              "tickcolor": "rgb(36,36,36)",
              "ticklen": 8,
              "ticks": "outside",
              "tickwidth": 2
             }
            },
            "type": "scattermapbox"
           }
          ],
          "scatterpolar": [
           {
            "marker": {
             "colorbar": {
              "outlinewidth": 0,
              "tickcolor": "rgb(36,36,36)",
              "ticklen": 8,
              "ticks": "outside",
              "tickwidth": 2
             }
            },
            "type": "scatterpolar"
           }
          ],
          "scatterpolargl": [
           {
            "marker": {
             "colorbar": {
              "outlinewidth": 0,
              "tickcolor": "rgb(36,36,36)",
              "ticklen": 8,
              "ticks": "outside",
              "tickwidth": 2
             }
            },
            "type": "scatterpolargl"
           }
          ],
          "scatterternary": [
           {
            "marker": {
             "colorbar": {
              "outlinewidth": 0,
              "tickcolor": "rgb(36,36,36)",
              "ticklen": 8,
              "ticks": "outside",
              "tickwidth": 2
             }
            },
            "type": "scatterternary"
           }
          ],
          "surface": [
           {
            "colorbar": {
             "outlinewidth": 0,
             "tickcolor": "rgb(36,36,36)",
             "ticklen": 8,
             "ticks": "outside",
             "tickwidth": 2
            },
            "colorscale": [
             [
              0,
              "rgb(2,4,25)"
             ],
             [
              0.06274509803921569,
              "rgb(24,15,41)"
             ],
             [
              0.12549019607843137,
              "rgb(47,23,57)"
             ],
             [
              0.18823529411764706,
              "rgb(71,28,72)"
             ],
             [
              0.25098039215686274,
              "rgb(97,30,82)"
             ],
             [
              0.3137254901960784,
              "rgb(123,30,89)"
             ],
             [
              0.3764705882352941,
              "rgb(150,27,91)"
             ],
             [
              0.4392156862745098,
              "rgb(177,22,88)"
             ],
             [
              0.5019607843137255,
              "rgb(203,26,79)"
             ],
             [
              0.5647058823529412,
              "rgb(223,47,67)"
             ],
             [
              0.6274509803921569,
              "rgb(236,76,61)"
             ],
             [
              0.6901960784313725,
              "rgb(242,107,73)"
             ],
             [
              0.7529411764705882,
              "rgb(244,135,95)"
             ],
             [
              0.8156862745098039,
              "rgb(245,162,122)"
             ],
             [
              0.8784313725490196,
              "rgb(246,188,153)"
             ],
             [
              0.9411764705882353,
              "rgb(247,212,187)"
             ],
             [
              1,
              "rgb(250,234,220)"
             ]
            ],
            "type": "surface"
           }
          ],
          "table": [
           {
            "cells": {
             "fill": {
              "color": "rgb(231,231,240)"
             },
             "line": {
              "color": "white"
             }
            },
            "header": {
             "fill": {
              "color": "rgb(183,183,191)"
             },
             "line": {
              "color": "white"
             }
            },
            "type": "table"
           }
          ]
         },
         "layout": {
          "annotationdefaults": {
           "arrowcolor": "rgb(67,103,167)"
          },
          "autotypenumbers": "strict",
          "coloraxis": {
           "colorbar": {
            "outlinewidth": 0,
            "tickcolor": "rgb(36,36,36)",
            "ticklen": 8,
            "ticks": "outside",
            "tickwidth": 2
           }
          },
          "colorscale": {
           "sequential": [
            [
             0,
             "rgb(2,4,25)"
            ],
            [
             0.06274509803921569,
             "rgb(24,15,41)"
            ],
            [
             0.12549019607843137,
             "rgb(47,23,57)"
            ],
            [
             0.18823529411764706,
             "rgb(71,28,72)"
            ],
            [
             0.25098039215686274,
             "rgb(97,30,82)"
            ],
            [
             0.3137254901960784,
             "rgb(123,30,89)"
            ],
            [
             0.3764705882352941,
             "rgb(150,27,91)"
            ],
            [
             0.4392156862745098,
             "rgb(177,22,88)"
            ],
            [
             0.5019607843137255,
             "rgb(203,26,79)"
            ],
            [
             0.5647058823529412,
             "rgb(223,47,67)"
            ],
            [
             0.6274509803921569,
             "rgb(236,76,61)"
            ],
            [
             0.6901960784313725,
             "rgb(242,107,73)"
            ],
            [
             0.7529411764705882,
             "rgb(244,135,95)"
            ],
            [
             0.8156862745098039,
             "rgb(245,162,122)"
            ],
            [
             0.8784313725490196,
             "rgb(246,188,153)"
            ],
            [
             0.9411764705882353,
             "rgb(247,212,187)"
            ],
            [
             1,
             "rgb(250,234,220)"
            ]
           ],
           "sequentialminus": [
            [
             0,
             "rgb(2,4,25)"
            ],
            [
             0.06274509803921569,
             "rgb(24,15,41)"
            ],
            [
             0.12549019607843137,
             "rgb(47,23,57)"
            ],
            [
             0.18823529411764706,
             "rgb(71,28,72)"
            ],
            [
             0.25098039215686274,
             "rgb(97,30,82)"
            ],
            [
             0.3137254901960784,
             "rgb(123,30,89)"
            ],
            [
             0.3764705882352941,
             "rgb(150,27,91)"
            ],
            [
             0.4392156862745098,
             "rgb(177,22,88)"
            ],
            [
             0.5019607843137255,
             "rgb(203,26,79)"
            ],
            [
             0.5647058823529412,
             "rgb(223,47,67)"
            ],
            [
             0.6274509803921569,
             "rgb(236,76,61)"
            ],
            [
             0.6901960784313725,
             "rgb(242,107,73)"
            ],
            [
             0.7529411764705882,
             "rgb(244,135,95)"
            ],
            [
             0.8156862745098039,
             "rgb(245,162,122)"
            ],
            [
             0.8784313725490196,
             "rgb(246,188,153)"
            ],
            [
             0.9411764705882353,
             "rgb(247,212,187)"
            ],
            [
             1,
             "rgb(250,234,220)"
            ]
           ]
          },
          "colorway": [
           "rgb(76,114,176)",
           "rgb(221,132,82)",
           "rgb(85,168,104)",
           "rgb(196,78,82)",
           "rgb(129,114,179)",
           "rgb(147,120,96)",
           "rgb(218,139,195)",
           "rgb(140,140,140)",
           "rgb(204,185,116)",
           "rgb(100,181,205)"
          ],
          "font": {
           "color": "rgb(36,36,36)"
          },
          "geo": {
           "bgcolor": "white",
           "lakecolor": "white",
           "landcolor": "rgb(234,234,242)",
           "showlakes": true,
           "showland": true,
           "subunitcolor": "white"
          },
          "hoverlabel": {
           "align": "left"
          },
          "hovermode": "closest",
          "paper_bgcolor": "white",
          "plot_bgcolor": "rgb(234,234,242)",
          "polar": {
           "angularaxis": {
            "gridcolor": "white",
            "linecolor": "white",
            "showgrid": true,
            "ticks": ""
           },
           "bgcolor": "rgb(234,234,242)",
           "radialaxis": {
            "gridcolor": "white",
            "linecolor": "white",
            "showgrid": true,
            "ticks": ""
           }
          },
          "scene": {
           "xaxis": {
            "backgroundcolor": "rgb(234,234,242)",
            "gridcolor": "white",
            "gridwidth": 2,
            "linecolor": "white",
            "showbackground": true,
            "showgrid": true,
            "ticks": "",
            "zerolinecolor": "white"
           },
           "yaxis": {
            "backgroundcolor": "rgb(234,234,242)",
            "gridcolor": "white",
            "gridwidth": 2,
            "linecolor": "white",
            "showbackground": true,
            "showgrid": true,
            "ticks": "",
            "zerolinecolor": "white"
           },
           "zaxis": {
            "backgroundcolor": "rgb(234,234,242)",
            "gridcolor": "white",
            "gridwidth": 2,
            "linecolor": "white",
            "showbackground": true,
            "showgrid": true,
            "ticks": "",
            "zerolinecolor": "white"
           }
          },
          "shapedefaults": {
           "fillcolor": "rgb(67,103,167)",
           "line": {
            "width": 0
           },
           "opacity": 0.5
          },
          "ternary": {
           "aaxis": {
            "gridcolor": "white",
            "linecolor": "white",
            "showgrid": true,
            "ticks": ""
           },
           "baxis": {
            "gridcolor": "white",
            "linecolor": "white",
            "showgrid": true,
            "ticks": ""
           },
           "bgcolor": "rgb(234,234,242)",
           "caxis": {
            "gridcolor": "white",
            "linecolor": "white",
            "showgrid": true,
            "ticks": ""
           }
          },
          "xaxis": {
           "automargin": true,
           "gridcolor": "white",
           "linecolor": "white",
           "showgrid": true,
           "ticks": "",
           "title": {
            "standoff": 15
           },
           "zerolinecolor": "white"
          },
          "yaxis": {
           "automargin": true,
           "gridcolor": "white",
           "linecolor": "white",
           "showgrid": true,
           "ticks": "",
           "title": {
            "standoff": 15
           },
           "zerolinecolor": "white"
          }
         }
        },
        "title": {
         "text": "Répartition des montants par heure suivant les types de transferts"
        },
        "width": 900,
        "xaxis": {
         "anchor": "y",
         "domain": [
          0,
          1
         ],
         "showgrid": false,
         "title": {
          "text": "Jour"
         }
        },
        "yaxis": {
         "anchor": "x",
         "domain": [
          0,
          1
         ],
         "showgrid": true,
         "title": {
          "text": "Total Transaction"
         }
        }
       }
      }
     },
     "metadata": {},
     "output_type": "display_data"
    }
   ],
   "source": [
    "dest_evol_sold = pd.read_csv('data/montant_type_steps.csv')\n",
    "def distribution_montant(dest_evol_sold=dest_evol_sold):\n",
    "    height=400\n",
    "    width=900\n",
    "    fig = px.box(dest_evol_sold, y=\"type\",x='amount', title=\"Répartition des montants par heure suivant les types de transferts\",template='seaborn')\n",
    "    fig.update_traces(marker_color='#B85C00',marker_line_color='black',opacity=1,marker_line_width=1)\n",
    "    fig.update_layout(xaxis=dict(showgrid=False,title=\"Jour\"),\n",
    "                            yaxis=dict(showgrid=True,title=\"Total Transaction\"),\n",
    "                            margin=dict(t=30,l=0,r=0,b=0),\n",
    "                            height=height,width=width,template=\"seaborn\")\n",
    "    \n",
    "    return fig\n",
    "\n",
    "\n",
    "distribution_montant().show()"
   ]
  },
  {
   "cell_type": "code",
   "execution_count": 23,
   "metadata": {},
   "outputs": [
    {
     "data": {
      "application/vnd.plotly.v1+json": {
       "config": {
        "plotlyServerURL": "https://plot.ly"
       },
       "data": [
        {
         "hovertemplate": "amount=%{x}<br>type=%{y}<extra></extra>",
         "legendgroup": "",
         "marker": {
          "color": "#B85C00",
          "line": {
           "color": "black",
           "width": 1
          }
         },
         "name": "",
         "opacity": 1,
         "orientation": "h",
         "showlegend": false,
         "type": "funnel",
         "x": [
          485291987302.2495,
          394412995237.7686,
          236367391915.60437,
          28093371139.180824,
          227199221.3932485
         ],
         "xaxis": "x",
         "y": [
          "TRANSFER",
          "CASH_OUT",
          "CASH_IN",
          "PAYMENT",
          "DEBIT"
         ],
         "yaxis": "y"
        }
       ],
       "layout": {
        "height": 400,
        "legend": {
         "tracegroupgap": 0
        },
        "margin": {
         "b": 0,
         "l": 0,
         "r": 0,
         "t": 30
        },
        "template": {
         "data": {
          "bar": [
           {
            "error_x": {
             "color": "rgb(36,36,36)"
            },
            "error_y": {
             "color": "rgb(36,36,36)"
            },
            "marker": {
             "line": {
              "color": "rgb(234,234,242)",
              "width": 0.5
             },
             "pattern": {
              "fillmode": "overlay",
              "size": 10,
              "solidity": 0.2
             }
            },
            "type": "bar"
           }
          ],
          "barpolar": [
           {
            "marker": {
             "line": {
              "color": "rgb(234,234,242)",
              "width": 0.5
             },
             "pattern": {
              "fillmode": "overlay",
              "size": 10,
              "solidity": 0.2
             }
            },
            "type": "barpolar"
           }
          ],
          "carpet": [
           {
            "aaxis": {
             "endlinecolor": "rgb(36,36,36)",
             "gridcolor": "white",
             "linecolor": "white",
             "minorgridcolor": "white",
             "startlinecolor": "rgb(36,36,36)"
            },
            "baxis": {
             "endlinecolor": "rgb(36,36,36)",
             "gridcolor": "white",
             "linecolor": "white",
             "minorgridcolor": "white",
             "startlinecolor": "rgb(36,36,36)"
            },
            "type": "carpet"
           }
          ],
          "choropleth": [
           {
            "colorbar": {
             "outlinewidth": 0,
             "tickcolor": "rgb(36,36,36)",
             "ticklen": 8,
             "ticks": "outside",
             "tickwidth": 2
            },
            "type": "choropleth"
           }
          ],
          "contour": [
           {
            "colorbar": {
             "outlinewidth": 0,
             "tickcolor": "rgb(36,36,36)",
             "ticklen": 8,
             "ticks": "outside",
             "tickwidth": 2
            },
            "colorscale": [
             [
              0,
              "rgb(2,4,25)"
             ],
             [
              0.06274509803921569,
              "rgb(24,15,41)"
             ],
             [
              0.12549019607843137,
              "rgb(47,23,57)"
             ],
             [
              0.18823529411764706,
              "rgb(71,28,72)"
             ],
             [
              0.25098039215686274,
              "rgb(97,30,82)"
             ],
             [
              0.3137254901960784,
              "rgb(123,30,89)"
             ],
             [
              0.3764705882352941,
              "rgb(150,27,91)"
             ],
             [
              0.4392156862745098,
              "rgb(177,22,88)"
             ],
             [
              0.5019607843137255,
              "rgb(203,26,79)"
             ],
             [
              0.5647058823529412,
              "rgb(223,47,67)"
             ],
             [
              0.6274509803921569,
              "rgb(236,76,61)"
             ],
             [
              0.6901960784313725,
              "rgb(242,107,73)"
             ],
             [
              0.7529411764705882,
              "rgb(244,135,95)"
             ],
             [
              0.8156862745098039,
              "rgb(245,162,122)"
             ],
             [
              0.8784313725490196,
              "rgb(246,188,153)"
             ],
             [
              0.9411764705882353,
              "rgb(247,212,187)"
             ],
             [
              1,
              "rgb(250,234,220)"
             ]
            ],
            "type": "contour"
           }
          ],
          "contourcarpet": [
           {
            "colorbar": {
             "outlinewidth": 0,
             "tickcolor": "rgb(36,36,36)",
             "ticklen": 8,
             "ticks": "outside",
             "tickwidth": 2
            },
            "type": "contourcarpet"
           }
          ],
          "heatmap": [
           {
            "colorbar": {
             "outlinewidth": 0,
             "tickcolor": "rgb(36,36,36)",
             "ticklen": 8,
             "ticks": "outside",
             "tickwidth": 2
            },
            "colorscale": [
             [
              0,
              "rgb(2,4,25)"
             ],
             [
              0.06274509803921569,
              "rgb(24,15,41)"
             ],
             [
              0.12549019607843137,
              "rgb(47,23,57)"
             ],
             [
              0.18823529411764706,
              "rgb(71,28,72)"
             ],
             [
              0.25098039215686274,
              "rgb(97,30,82)"
             ],
             [
              0.3137254901960784,
              "rgb(123,30,89)"
             ],
             [
              0.3764705882352941,
              "rgb(150,27,91)"
             ],
             [
              0.4392156862745098,
              "rgb(177,22,88)"
             ],
             [
              0.5019607843137255,
              "rgb(203,26,79)"
             ],
             [
              0.5647058823529412,
              "rgb(223,47,67)"
             ],
             [
              0.6274509803921569,
              "rgb(236,76,61)"
             ],
             [
              0.6901960784313725,
              "rgb(242,107,73)"
             ],
             [
              0.7529411764705882,
              "rgb(244,135,95)"
             ],
             [
              0.8156862745098039,
              "rgb(245,162,122)"
             ],
             [
              0.8784313725490196,
              "rgb(246,188,153)"
             ],
             [
              0.9411764705882353,
              "rgb(247,212,187)"
             ],
             [
              1,
              "rgb(250,234,220)"
             ]
            ],
            "type": "heatmap"
           }
          ],
          "heatmapgl": [
           {
            "colorbar": {
             "outlinewidth": 0,
             "tickcolor": "rgb(36,36,36)",
             "ticklen": 8,
             "ticks": "outside",
             "tickwidth": 2
            },
            "colorscale": [
             [
              0,
              "rgb(2,4,25)"
             ],
             [
              0.06274509803921569,
              "rgb(24,15,41)"
             ],
             [
              0.12549019607843137,
              "rgb(47,23,57)"
             ],
             [
              0.18823529411764706,
              "rgb(71,28,72)"
             ],
             [
              0.25098039215686274,
              "rgb(97,30,82)"
             ],
             [
              0.3137254901960784,
              "rgb(123,30,89)"
             ],
             [
              0.3764705882352941,
              "rgb(150,27,91)"
             ],
             [
              0.4392156862745098,
              "rgb(177,22,88)"
             ],
             [
              0.5019607843137255,
              "rgb(203,26,79)"
             ],
             [
              0.5647058823529412,
              "rgb(223,47,67)"
             ],
             [
              0.6274509803921569,
              "rgb(236,76,61)"
             ],
             [
              0.6901960784313725,
              "rgb(242,107,73)"
             ],
             [
              0.7529411764705882,
              "rgb(244,135,95)"
             ],
             [
              0.8156862745098039,
              "rgb(245,162,122)"
             ],
             [
              0.8784313725490196,
              "rgb(246,188,153)"
             ],
             [
              0.9411764705882353,
              "rgb(247,212,187)"
             ],
             [
              1,
              "rgb(250,234,220)"
             ]
            ],
            "type": "heatmapgl"
           }
          ],
          "histogram": [
           {
            "marker": {
             "pattern": {
              "fillmode": "overlay",
              "size": 10,
              "solidity": 0.2
             }
            },
            "type": "histogram"
           }
          ],
          "histogram2d": [
           {
            "colorbar": {
             "outlinewidth": 0,
             "tickcolor": "rgb(36,36,36)",
             "ticklen": 8,
             "ticks": "outside",
             "tickwidth": 2
            },
            "colorscale": [
             [
              0,
              "rgb(2,4,25)"
             ],
             [
              0.06274509803921569,
              "rgb(24,15,41)"
             ],
             [
              0.12549019607843137,
              "rgb(47,23,57)"
             ],
             [
              0.18823529411764706,
              "rgb(71,28,72)"
             ],
             [
              0.25098039215686274,
              "rgb(97,30,82)"
             ],
             [
              0.3137254901960784,
              "rgb(123,30,89)"
             ],
             [
              0.3764705882352941,
              "rgb(150,27,91)"
             ],
             [
              0.4392156862745098,
              "rgb(177,22,88)"
             ],
             [
              0.5019607843137255,
              "rgb(203,26,79)"
             ],
             [
              0.5647058823529412,
              "rgb(223,47,67)"
             ],
             [
              0.6274509803921569,
              "rgb(236,76,61)"
             ],
             [
              0.6901960784313725,
              "rgb(242,107,73)"
             ],
             [
              0.7529411764705882,
              "rgb(244,135,95)"
             ],
             [
              0.8156862745098039,
              "rgb(245,162,122)"
             ],
             [
              0.8784313725490196,
              "rgb(246,188,153)"
             ],
             [
              0.9411764705882353,
              "rgb(247,212,187)"
             ],
             [
              1,
              "rgb(250,234,220)"
             ]
            ],
            "type": "histogram2d"
           }
          ],
          "histogram2dcontour": [
           {
            "colorbar": {
             "outlinewidth": 0,
             "tickcolor": "rgb(36,36,36)",
             "ticklen": 8,
             "ticks": "outside",
             "tickwidth": 2
            },
            "colorscale": [
             [
              0,
              "rgb(2,4,25)"
             ],
             [
              0.06274509803921569,
              "rgb(24,15,41)"
             ],
             [
              0.12549019607843137,
              "rgb(47,23,57)"
             ],
             [
              0.18823529411764706,
              "rgb(71,28,72)"
             ],
             [
              0.25098039215686274,
              "rgb(97,30,82)"
             ],
             [
              0.3137254901960784,
              "rgb(123,30,89)"
             ],
             [
              0.3764705882352941,
              "rgb(150,27,91)"
             ],
             [
              0.4392156862745098,
              "rgb(177,22,88)"
             ],
             [
              0.5019607843137255,
              "rgb(203,26,79)"
             ],
             [
              0.5647058823529412,
              "rgb(223,47,67)"
             ],
             [
              0.6274509803921569,
              "rgb(236,76,61)"
             ],
             [
              0.6901960784313725,
              "rgb(242,107,73)"
             ],
             [
              0.7529411764705882,
              "rgb(244,135,95)"
             ],
             [
              0.8156862745098039,
              "rgb(245,162,122)"
             ],
             [
              0.8784313725490196,
              "rgb(246,188,153)"
             ],
             [
              0.9411764705882353,
              "rgb(247,212,187)"
             ],
             [
              1,
              "rgb(250,234,220)"
             ]
            ],
            "type": "histogram2dcontour"
           }
          ],
          "mesh3d": [
           {
            "colorbar": {
             "outlinewidth": 0,
             "tickcolor": "rgb(36,36,36)",
             "ticklen": 8,
             "ticks": "outside",
             "tickwidth": 2
            },
            "type": "mesh3d"
           }
          ],
          "parcoords": [
           {
            "line": {
             "colorbar": {
              "outlinewidth": 0,
              "tickcolor": "rgb(36,36,36)",
              "ticklen": 8,
              "ticks": "outside",
              "tickwidth": 2
             }
            },
            "type": "parcoords"
           }
          ],
          "pie": [
           {
            "automargin": true,
            "type": "pie"
           }
          ],
          "scatter": [
           {
            "fillpattern": {
             "fillmode": "overlay",
             "size": 10,
             "solidity": 0.2
            },
            "type": "scatter"
           }
          ],
          "scatter3d": [
           {
            "line": {
             "colorbar": {
              "outlinewidth": 0,
              "tickcolor": "rgb(36,36,36)",
              "ticklen": 8,
              "ticks": "outside",
              "tickwidth": 2
             }
            },
            "marker": {
             "colorbar": {
              "outlinewidth": 0,
              "tickcolor": "rgb(36,36,36)",
              "ticklen": 8,
              "ticks": "outside",
              "tickwidth": 2
             }
            },
            "type": "scatter3d"
           }
          ],
          "scattercarpet": [
           {
            "marker": {
             "colorbar": {
              "outlinewidth": 0,
              "tickcolor": "rgb(36,36,36)",
              "ticklen": 8,
              "ticks": "outside",
              "tickwidth": 2
             }
            },
            "type": "scattercarpet"
           }
          ],
          "scattergeo": [
           {
            "marker": {
             "colorbar": {
              "outlinewidth": 0,
              "tickcolor": "rgb(36,36,36)",
              "ticklen": 8,
              "ticks": "outside",
              "tickwidth": 2
             }
            },
            "type": "scattergeo"
           }
          ],
          "scattergl": [
           {
            "marker": {
             "colorbar": {
              "outlinewidth": 0,
              "tickcolor": "rgb(36,36,36)",
              "ticklen": 8,
              "ticks": "outside",
              "tickwidth": 2
             }
            },
            "type": "scattergl"
           }
          ],
          "scattermapbox": [
           {
            "marker": {
             "colorbar": {
              "outlinewidth": 0,
              "tickcolor": "rgb(36,36,36)",
              "ticklen": 8,
              "ticks": "outside",
              "tickwidth": 2
             }
            },
            "type": "scattermapbox"
           }
          ],
          "scatterpolar": [
           {
            "marker": {
             "colorbar": {
              "outlinewidth": 0,
              "tickcolor": "rgb(36,36,36)",
              "ticklen": 8,
              "ticks": "outside",
              "tickwidth": 2
             }
            },
            "type": "scatterpolar"
           }
          ],
          "scatterpolargl": [
           {
            "marker": {
             "colorbar": {
              "outlinewidth": 0,
              "tickcolor": "rgb(36,36,36)",
              "ticklen": 8,
              "ticks": "outside",
              "tickwidth": 2
             }
            },
            "type": "scatterpolargl"
           }
          ],
          "scatterternary": [
           {
            "marker": {
             "colorbar": {
              "outlinewidth": 0,
              "tickcolor": "rgb(36,36,36)",
              "ticklen": 8,
              "ticks": "outside",
              "tickwidth": 2
             }
            },
            "type": "scatterternary"
           }
          ],
          "surface": [
           {
            "colorbar": {
             "outlinewidth": 0,
             "tickcolor": "rgb(36,36,36)",
             "ticklen": 8,
             "ticks": "outside",
             "tickwidth": 2
            },
            "colorscale": [
             [
              0,
              "rgb(2,4,25)"
             ],
             [
              0.06274509803921569,
              "rgb(24,15,41)"
             ],
             [
              0.12549019607843137,
              "rgb(47,23,57)"
             ],
             [
              0.18823529411764706,
              "rgb(71,28,72)"
             ],
             [
              0.25098039215686274,
              "rgb(97,30,82)"
             ],
             [
              0.3137254901960784,
              "rgb(123,30,89)"
             ],
             [
              0.3764705882352941,
              "rgb(150,27,91)"
             ],
             [
              0.4392156862745098,
              "rgb(177,22,88)"
             ],
             [
              0.5019607843137255,
              "rgb(203,26,79)"
             ],
             [
              0.5647058823529412,
              "rgb(223,47,67)"
             ],
             [
              0.6274509803921569,
              "rgb(236,76,61)"
             ],
             [
              0.6901960784313725,
              "rgb(242,107,73)"
             ],
             [
              0.7529411764705882,
              "rgb(244,135,95)"
             ],
             [
              0.8156862745098039,
              "rgb(245,162,122)"
             ],
             [
              0.8784313725490196,
              "rgb(246,188,153)"
             ],
             [
              0.9411764705882353,
              "rgb(247,212,187)"
             ],
             [
              1,
              "rgb(250,234,220)"
             ]
            ],
            "type": "surface"
           }
          ],
          "table": [
           {
            "cells": {
             "fill": {
              "color": "rgb(231,231,240)"
             },
             "line": {
              "color": "white"
             }
            },
            "header": {
             "fill": {
              "color": "rgb(183,183,191)"
             },
             "line": {
              "color": "white"
             }
            },
            "type": "table"
           }
          ]
         },
         "layout": {
          "annotationdefaults": {
           "arrowcolor": "rgb(67,103,167)"
          },
          "autotypenumbers": "strict",
          "coloraxis": {
           "colorbar": {
            "outlinewidth": 0,
            "tickcolor": "rgb(36,36,36)",
            "ticklen": 8,
            "ticks": "outside",
            "tickwidth": 2
           }
          },
          "colorscale": {
           "sequential": [
            [
             0,
             "rgb(2,4,25)"
            ],
            [
             0.06274509803921569,
             "rgb(24,15,41)"
            ],
            [
             0.12549019607843137,
             "rgb(47,23,57)"
            ],
            [
             0.18823529411764706,
             "rgb(71,28,72)"
            ],
            [
             0.25098039215686274,
             "rgb(97,30,82)"
            ],
            [
             0.3137254901960784,
             "rgb(123,30,89)"
            ],
            [
             0.3764705882352941,
             "rgb(150,27,91)"
            ],
            [
             0.4392156862745098,
             "rgb(177,22,88)"
            ],
            [
             0.5019607843137255,
             "rgb(203,26,79)"
            ],
            [
             0.5647058823529412,
             "rgb(223,47,67)"
            ],
            [
             0.6274509803921569,
             "rgb(236,76,61)"
            ],
            [
             0.6901960784313725,
             "rgb(242,107,73)"
            ],
            [
             0.7529411764705882,
             "rgb(244,135,95)"
            ],
            [
             0.8156862745098039,
             "rgb(245,162,122)"
            ],
            [
             0.8784313725490196,
             "rgb(246,188,153)"
            ],
            [
             0.9411764705882353,
             "rgb(247,212,187)"
            ],
            [
             1,
             "rgb(250,234,220)"
            ]
           ],
           "sequentialminus": [
            [
             0,
             "rgb(2,4,25)"
            ],
            [
             0.06274509803921569,
             "rgb(24,15,41)"
            ],
            [
             0.12549019607843137,
             "rgb(47,23,57)"
            ],
            [
             0.18823529411764706,
             "rgb(71,28,72)"
            ],
            [
             0.25098039215686274,
             "rgb(97,30,82)"
            ],
            [
             0.3137254901960784,
             "rgb(123,30,89)"
            ],
            [
             0.3764705882352941,
             "rgb(150,27,91)"
            ],
            [
             0.4392156862745098,
             "rgb(177,22,88)"
            ],
            [
             0.5019607843137255,
             "rgb(203,26,79)"
            ],
            [
             0.5647058823529412,
             "rgb(223,47,67)"
            ],
            [
             0.6274509803921569,
             "rgb(236,76,61)"
            ],
            [
             0.6901960784313725,
             "rgb(242,107,73)"
            ],
            [
             0.7529411764705882,
             "rgb(244,135,95)"
            ],
            [
             0.8156862745098039,
             "rgb(245,162,122)"
            ],
            [
             0.8784313725490196,
             "rgb(246,188,153)"
            ],
            [
             0.9411764705882353,
             "rgb(247,212,187)"
            ],
            [
             1,
             "rgb(250,234,220)"
            ]
           ]
          },
          "colorway": [
           "rgb(76,114,176)",
           "rgb(221,132,82)",
           "rgb(85,168,104)",
           "rgb(196,78,82)",
           "rgb(129,114,179)",
           "rgb(147,120,96)",
           "rgb(218,139,195)",
           "rgb(140,140,140)",
           "rgb(204,185,116)",
           "rgb(100,181,205)"
          ],
          "font": {
           "color": "rgb(36,36,36)"
          },
          "geo": {
           "bgcolor": "white",
           "lakecolor": "white",
           "landcolor": "rgb(234,234,242)",
           "showlakes": true,
           "showland": true,
           "subunitcolor": "white"
          },
          "hoverlabel": {
           "align": "left"
          },
          "hovermode": "closest",
          "paper_bgcolor": "white",
          "plot_bgcolor": "rgb(234,234,242)",
          "polar": {
           "angularaxis": {
            "gridcolor": "white",
            "linecolor": "white",
            "showgrid": true,
            "ticks": ""
           },
           "bgcolor": "rgb(234,234,242)",
           "radialaxis": {
            "gridcolor": "white",
            "linecolor": "white",
            "showgrid": true,
            "ticks": ""
           }
          },
          "scene": {
           "xaxis": {
            "backgroundcolor": "rgb(234,234,242)",
            "gridcolor": "white",
            "gridwidth": 2,
            "linecolor": "white",
            "showbackground": true,
            "showgrid": true,
            "ticks": "",
            "zerolinecolor": "white"
           },
           "yaxis": {
            "backgroundcolor": "rgb(234,234,242)",
            "gridcolor": "white",
            "gridwidth": 2,
            "linecolor": "white",
            "showbackground": true,
            "showgrid": true,
            "ticks": "",
            "zerolinecolor": "white"
           },
           "zaxis": {
            "backgroundcolor": "rgb(234,234,242)",
            "gridcolor": "white",
            "gridwidth": 2,
            "linecolor": "white",
            "showbackground": true,
            "showgrid": true,
            "ticks": "",
            "zerolinecolor": "white"
           }
          },
          "shapedefaults": {
           "fillcolor": "rgb(67,103,167)",
           "line": {
            "width": 0
           },
           "opacity": 0.5
          },
          "ternary": {
           "aaxis": {
            "gridcolor": "white",
            "linecolor": "white",
            "showgrid": true,
            "ticks": ""
           },
           "baxis": {
            "gridcolor": "white",
            "linecolor": "white",
            "showgrid": true,
            "ticks": ""
           },
           "bgcolor": "rgb(234,234,242)",
           "caxis": {
            "gridcolor": "white",
            "linecolor": "white",
            "showgrid": true,
            "ticks": ""
           }
          },
          "xaxis": {
           "automargin": true,
           "gridcolor": "white",
           "linecolor": "white",
           "showgrid": true,
           "ticks": "",
           "title": {
            "standoff": 15
           },
           "zerolinecolor": "white"
          },
          "yaxis": {
           "automargin": true,
           "gridcolor": "white",
           "linecolor": "white",
           "showgrid": true,
           "ticks": "",
           "title": {
            "standoff": 15
           },
           "zerolinecolor": "white"
          }
         }
        },
        "title": {
         "text": "Répartition des montants par heure suivant les types de transferts"
        },
        "width": 900,
        "xaxis": {
         "anchor": "y",
         "domain": [
          0,
          1
         ],
         "showgrid": false,
         "title": {
          "text": ""
         }
        },
        "yaxis": {
         "anchor": "x",
         "domain": [
          0,
          1
         ],
         "showgrid": true,
         "title": {
          "text": ""
         }
        }
       }
      }
     },
     "metadata": {},
     "output_type": "display_data"
    }
   ],
   "source": [
    "\n",
    "\n",
    "def retourne_dist_montant_type(dest_evol_sold=dest_evol_sold):\n",
    "    height=400\n",
    "    width=900\n",
    "    fig = px.funnel(dest_evol_sold.groupby('type')['amount'].sum().to_frame().reset_index().sort_values(by='amount',ascending=False), y=\"type\",x='amount', title=\"Répartition des montants par heure suivant les types de transferts\",template='seaborn')\n",
    "    fig.update_traces(marker_color='#B85C00',marker_line_color='black',opacity=1,marker_line_width=1)\n",
    "    fig.update_layout(xaxis=dict(showgrid=False,title=\"\"),\n",
    "                            yaxis=dict(showgrid=True,title=\"\"),\n",
    "                            margin=dict(t=30,l=0,r=0,b=0),\n",
    "                            height=height,width=width,template=\"seaborn\")\n",
    "    \n",
    "    return fig\n",
    "\n",
    "\n",
    "retourne_dist_montant_type().show()"
   ]
  }
 ],
 "metadata": {
  "kernelspec": {
   "display_name": "base",
   "language": "python",
   "name": "python3"
  },
  "language_info": {
   "codemirror_mode": {
    "name": "ipython",
    "version": 3
   },
   "file_extension": ".py",
   "mimetype": "text/x-python",
   "name": "python",
   "nbconvert_exporter": "python",
   "pygments_lexer": "ipython3",
   "version": "3.12.4"
  }
 },
 "nbformat": 4,
 "nbformat_minor": 2
}
